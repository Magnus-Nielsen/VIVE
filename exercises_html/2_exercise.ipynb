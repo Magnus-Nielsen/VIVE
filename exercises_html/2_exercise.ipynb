{
 "cells": [
  {
   "cell_type": "markdown",
   "metadata": {},
   "source": [
    "# Overview of notebook\n",
    "This notebook consists of two independent parts. The first about basic Python where you get familiar with the most important concepts and tools. The second part is a short introduction to pandas, which is a tool for structuring data in Python, and numpy, which is a tool for matrix calculations. \n",
    "\n",
    "#### Overview of Python content\n",
    "In this integrated assignment and teaching module, we will learn the following things about basic Python:\n",
    "- Fundamental data types: numeric, string and boolean\n",
    "- Operators: numerical and logical\n",
    "- Conditional logic\n",
    "- Containers with indices\n",
    "- Loops: for and while\n",
    "- Reuseable code: functions, classes and modules\n",
    "\n",
    "*Additional sources*: \n",
    "\n",
    "As always, there are many sources out there: Google is your best friend. However, here are some recommendations\n",
    "\n",
    "- A book: [Python for Data Analysis](https://wesmckinney.com/book/) \n",
    "\n",
    "- Videos: [pythonprogramming.net fundamental](https://pythonprogramming.net/python-fundamental-tutorials/) (basics and intermediate)\n",
    "\n",
    "- A tutorial website: [The official python 3 tutorial](https://docs.python.org/3/tutorial/introduction.html) (sections 3, 4 and 5)\n",
    "\n"
   ]
  },
  {
   "cell_type": "markdown",
   "metadata": {
    "slideshow": {
     "slide_type": "slide"
    }
   },
   "source": [
    "# 1 Fundamentals of Python\n",
    "## Elementary Data Types"
   ]
  },
  {
   "cell_type": "markdown",
   "metadata": {
    "slideshow": {
     "slide_type": "fragment"
    }
   },
   "source": [
    "#### Examples with data types\n",
    "Execute the code below to create a variable `A` as a float equal to 1.5:"
   ]
  },
  {
   "cell_type": "code",
   "execution_count": 1,
   "metadata": {
    "slideshow": {
     "slide_type": "-"
    }
   },
   "outputs": [],
   "source": [
    "A = 1.5"
   ]
  },
  {
   "cell_type": "markdown",
   "metadata": {
    "slideshow": {
     "slide_type": "fragment"
    }
   },
   "source": [
    "Execute the code below to convert the variable `A` to an integer by typing: "
   ]
  },
  {
   "cell_type": "code",
   "execution_count": 2,
   "metadata": {
    "slideshow": {
     "slide_type": "-"
    }
   },
   "outputs": [
    {
     "data": {
      "text/plain": [
       "1"
      ]
     },
     "execution_count": 2,
     "metadata": {},
     "output_type": "execute_result"
    }
   ],
   "source": [
    "int(A) # rounds down, i.e. floor "
   ]
  },
  {
   "cell_type": "markdown",
   "metadata": {
    "slideshow": {
     "slide_type": "fragment"
    }
   },
   "source": [
    "We can do the same for converting to `float`, `str`, `bool`. Note some may at first come across as slightly odd:"
   ]
  },
  {
   "cell_type": "code",
   "execution_count": 3,
   "metadata": {
    "slideshow": {
     "slide_type": "-"
    }
   },
   "outputs": [
    {
     "data": {
      "text/plain": [
       "True"
      ]
     },
     "execution_count": 3,
     "metadata": {},
     "output_type": "execute_result"
    }
   ],
   "source": [
    "bool(A)"
   ]
  },
  {
   "cell_type": "markdown",
   "metadata": {
    "slideshow": {
     "slide_type": "fragment"
    }
   },
   "source": [
    "While some are simply not allowed:"
   ]
  },
  {
   "cell_type": "code",
   "execution_count": 4,
   "metadata": {
    "slideshow": {
     "slide_type": "-"
    }
   },
   "outputs": [
    {
     "ename": "ValueError",
     "evalue": "could not convert string to float: 'A'",
     "output_type": "error",
     "traceback": [
      "\u001b[1;31m---------------------------------------------------------------------------\u001b[0m",
      "\u001b[1;31mValueError\u001b[0m                                Traceback (most recent call last)",
      "\u001b[1;32m~\\AppData\\Local\\Temp\\ipykernel_5704\\2286069748.py\u001b[0m in \u001b[0;36m<module>\u001b[1;34m\u001b[0m\n\u001b[1;32m----> 1\u001b[1;33m \u001b[0mfloat\u001b[0m\u001b[1;33m(\u001b[0m\u001b[1;34m'A'\u001b[0m\u001b[1;33m)\u001b[0m \u001b[1;31m# Attempt at converting the string (text) 'A' to a number\u001b[0m\u001b[1;33m\u001b[0m\u001b[1;33m\u001b[0m\u001b[0m\n\u001b[0m",
      "\u001b[1;31mValueError\u001b[0m: could not convert string to float: 'A'"
     ]
    }
   ],
   "source": [
    "float('A') # Attempt at converting the string (text) 'A' to a number"
   ]
  },
  {
   "cell_type": "markdown",
   "metadata": {
    "slideshow": {
     "slide_type": "slide"
    }
   },
   "source": [
    "## Printing Stuff\n",
    "\n",
    "An essential procedure in Python is `print`. Try executing some code - in this case, printing a string of text:"
   ]
  },
  {
   "cell_type": "code",
   "execution_count": 5,
   "metadata": {
    "slideshow": {
     "slide_type": "fragment"
    }
   },
   "outputs": [
    {
     "name": "stdout",
     "output_type": "stream",
     "text": [
      "I can do in Python, whatever I want\n"
     ]
    }
   ],
   "source": [
    "my_str = 'I can do in Python, whatever I want' # define a string of text\n",
    "print(my_str) # print it"
   ]
  },
  {
   "cell_type": "markdown",
   "metadata": {
    "slideshow": {
     "slide_type": "slide"
    }
   },
   "source": [
    "We can also print several objects at the same time. Try it!"
   ]
  },
  {
   "cell_type": "code",
   "execution_count": 6,
   "metadata": {
    "slideshow": {
     "slide_type": "fragment"
    }
   },
   "outputs": [
    {
     "name": "stdout",
     "output_type": "stream",
     "text": [
      "33 2\n"
     ]
    }
   ],
   "source": [
    "my_var1 = 33\n",
    "my_var2 = 2\n",
    "print(my_var1, my_var2)"
   ]
  },
  {
   "cell_type": "markdown",
   "metadata": {
    "slideshow": {
     "slide_type": "fragment"
    }
   },
   "source": [
    "*Why do we print?*\n",
    "- It allows us to inspect values\n",
    "    - For instance when trying to understand why a piece of code does not give us what we expect (i.e. debugging)\n",
    "- In particular helpful when inspecting intermediate output (within a function, loops etc.).\n"
   ]
  },
  {
   "cell_type": "markdown",
   "metadata": {
    "slideshow": {
     "slide_type": "slide"
    }
   },
   "source": [
    "## Numeric Operators"
   ]
  },
  {
   "cell_type": "markdown",
   "metadata": {
    "slideshow": {
     "slide_type": "slide"
    }
   },
   "source": [
    "*What numeric computations can python do?*\n",
    "\n",
    "An operator in Python manipulates various data types."
   ]
  },
  {
   "cell_type": "markdown",
   "metadata": {
    "slideshow": {
     "slide_type": "fragment"
    }
   },
   "source": [
    "We have seen addition `+`. Other basic numeric operators:\n",
    "- multiplication `*`;\n",
    "- subtraction `-`; \n",
    "- division `/`;\n",
    "- power, `**` \n",
    "\n",
    "Try executing the code below. Explain in words what the expression does."
   ]
  },
  {
   "cell_type": "code",
   "execution_count": 7,
   "metadata": {},
   "outputs": [
    {
     "data": {
      "text/plain": [
       "16"
      ]
     },
     "execution_count": 7,
     "metadata": {},
     "output_type": "execute_result"
    }
   ],
   "source": [
    "2**4 "
   ]
  },
  {
   "cell_type": "markdown",
   "metadata": {
    "nbgrader": {
     "grade": false,
     "grade_id": "cell-245e1eb6a38e435e",
     "locked": true,
     "schema_version": 3,
     "solution": false,
     "task": false
    }
   },
   "source": [
    "### Problem 1.1\n",
    "Having seen all the information, you are now ready for the first exercise. The exercise is found below in the indented text.\n",
    "> **Ex. 1.1:**  Add the two integers `3` and `5`"
   ]
  },
  {
   "cell_type": "code",
   "execution_count": 8,
   "metadata": {
    "deletable": false,
    "nbgrader": {
     "checksum": "1ba21d3fda7cf5a3a577ba877e44d428",
     "grade": false,
     "grade_id": "problem_001",
     "locked": false,
     "schema_version": 3,
     "solution": true
    }
   },
   "outputs": [],
   "source": [
    "### BEGIN SOLUTION\n"
   ]
  },
  {
   "cell_type": "markdown",
   "metadata": {
    "deletable": false,
    "nbgrader": {
     "grade": false,
     "grade_id": "cell-361e6bb2642d6b47",
     "locked": true,
     "schema_version": 3,
     "solution": false,
     "task": false
    }
   },
   "source": [
    "### Problem 1.2\n",
    "Python also has a built in data type called a _string_. This is simply a sequence of letters/characters and can thus contain names, sentences etc. To define a string in python, you need to wrap your sentence in either double or single quotation marks. For example you could write `\"Hello world!\"`. \n",
    "\n",
    "> **Ex. 1.2:** In Python the `+` is not only used for numbers. Use the `+` to add together the three strings `\"VIVE\"`, `\"Machine\"` and `\"Learning\"`. What is the result?"
   ]
  },
  {
   "cell_type": "code",
   "execution_count": 9,
   "metadata": {
    "deletable": false,
    "nbgrader": {
     "checksum": "ff93d6d2ae89a844313a5a6aa3dcf0be",
     "grade": false,
     "grade_id": "problem_002",
     "locked": false,
     "schema_version": 3,
     "solution": true
    }
   },
   "outputs": [],
   "source": [
    "### BEGIN SOLUTION\n",
    "\n"
   ]
  },
  {
   "cell_type": "markdown",
   "metadata": {
    "slideshow": {
     "slide_type": "slide"
    }
   },
   "source": [
    "## Boolean Operators\n",
    "\n",
    "Helpful advice: If you are not certain what a boolean value is, try and go back to [Fundamental Data Types](#Fundmental-Data-Types)"
   ]
  },
  {
   "cell_type": "markdown",
   "metadata": {
    "slideshow": {
     "slide_type": "fragment"
    }
   },
   "source": [
    "*What else can operators do?*\n",
    "\n",
    "We can check the validity of a statement - using the equal operator, `==`, or not equal operator `!=`. Try the examples below:"
   ]
  },
  {
   "cell_type": "code",
   "execution_count": 10,
   "metadata": {
    "slideshow": {
     "slide_type": "fragment"
    }
   },
   "outputs": [
    {
     "data": {
      "text/plain": [
       "True"
      ]
     },
     "execution_count": 10,
     "metadata": {},
     "output_type": "execute_result"
    }
   ],
   "source": [
    "3 == (2 + 1)"
   ]
  },
  {
   "cell_type": "code",
   "execution_count": 11,
   "metadata": {
    "slideshow": {
     "slide_type": "fragment"
    }
   },
   "outputs": [
    {
     "data": {
      "text/plain": [
       "False"
      ]
     },
     "execution_count": 11,
     "metadata": {},
     "output_type": "execute_result"
    }
   ],
   "source": [
    "3 != (2 + 1)"
   ]
  },
  {
   "cell_type": "code",
   "execution_count": 12,
   "metadata": {},
   "outputs": [
    {
     "data": {
      "text/plain": [
       "True"
      ]
     },
     "execution_count": 12,
     "metadata": {},
     "output_type": "execute_result"
    }
   ],
   "source": [
    "11 != 2 * 5"
   ]
  },
  {
   "cell_type": "markdown",
   "metadata": {
    "slideshow": {
     "slide_type": "fragment"
    }
   },
   "source": [
    "In all these cases, the outcomes were boolean.\n",
    "\n",
    "We can also do numeric comparisons, such as greater than `>`, greater than or equal `>=`, etc.:"
   ]
  },
  {
   "cell_type": "code",
   "execution_count": 13,
   "metadata": {},
   "outputs": [
    {
     "data": {
      "text/plain": [
       "False"
      ]
     },
     "execution_count": 13,
     "metadata": {},
     "output_type": "execute_result"
    }
   ],
   "source": [
    "11 <= 2 * 5"
   ]
  },
  {
   "cell_type": "markdown",
   "metadata": {
    "slideshow": {
     "slide_type": "slide"
    }
   },
   "source": [
    "*How can we manipulate boolean values?*\n",
    "\n",
    "Combining boolean values can be done using:\n",
    "\n",
    "- the `and` operator - equivalent to `&`\n",
    "- the `or` operator - equivalent to `|`"
   ]
  },
  {
   "cell_type": "markdown",
   "metadata": {
    "slideshow": {
     "slide_type": "fragment"
    }
   },
   "source": [
    "Let's try this!"
   ]
  },
  {
   "cell_type": "code",
   "execution_count": 14,
   "metadata": {
    "slideshow": {
     "slide_type": "-"
    }
   },
   "outputs": [
    {
     "name": "stdout",
     "output_type": "stream",
     "text": [
      "True\n",
      "False\n"
     ]
    }
   ],
   "source": [
    "print(True | False)\n",
    "print(True & False)"
   ]
  },
  {
   "cell_type": "markdown",
   "metadata": {
    "slideshow": {
     "slide_type": "slide"
    }
   },
   "source": [
    "*What other things can we do?*"
   ]
  },
  {
   "cell_type": "markdown",
   "metadata": {
    "slideshow": {
     "slide_type": "fragment"
    }
   },
   "source": [
    "We can negate/reverse the statement with the `not` operator:"
   ]
  },
  {
   "cell_type": "code",
   "execution_count": 15,
   "metadata": {
    "slideshow": {
     "slide_type": "-"
    }
   },
   "outputs": [
    {
     "data": {
      "text/plain": [
       "True"
      ]
     },
     "execution_count": 15,
     "metadata": {},
     "output_type": "execute_result"
    }
   ],
   "source": [
    "not (True and False)"
   ]
  },
  {
   "cell_type": "markdown",
   "metadata": {
    "deletable": false,
    "nbgrader": {
     "grade": false,
     "grade_id": "cell-abbc02668f8866e1",
     "locked": true,
     "schema_version": 3,
     "solution": false,
     "task": false
    }
   },
   "source": [
    "### Problem 1.3\n",
    "Above you added two integers together, and got a result of `8`. Python separates numbers in two classes, the _integers_ $...,-1,0,1,2,...$ and the _floats_, which are an approximation of the real numbers $\\mathbb{R}$ (exactly how floats differ from reals is taught in introductory computer science courses).\n",
    "\n",
    "\n",
    "> **Ex. 1.3:**  \n",
    "* Add `1.7` to `4`\n",
    "* What type is `0.667 * 100` in Python?\n"
   ]
  },
  {
   "cell_type": "code",
   "execution_count": 16,
   "metadata": {
    "deletable": false,
    "nbgrader": {
     "checksum": "c52229b7ed76daaffd6b3855b28dbac0",
     "grade": false,
     "grade_id": "problem_003",
     "locked": false,
     "schema_version": 3,
     "solution": true
    }
   },
   "outputs": [],
   "source": [
    "### BEGIN SOLUTION\n"
   ]
  },
  {
   "cell_type": "markdown",
   "metadata": {
    "slideshow": {
     "slide_type": "slide"
    }
   },
   "source": [
    "## Containers "
   ]
  },
  {
   "cell_type": "markdown",
   "metadata": {
    "slideshow": {
     "slide_type": "slide"
    }
   },
   "source": [
    "*What is a composite data type?*\n",
    "\n",
    "A data type that can contain more than entry of data, e.g. multiple numbers."
   ]
  },
  {
   "cell_type": "markdown",
   "metadata": {
    "slideshow": {
     "slide_type": "slide"
    }
   },
   "source": [
    "*What are the most fundamental composite data types?*\n",
    "\n",
    "Three of the most fundamental composite data types   are the _tuple_, the _list_ and the _dictionary_. \n",
    "\n",
    "* The _tuple_ is declared with round parentheses, e.g. `(1, 2, 3)` each element in the tuple is separated by a comma. One you have declared a tuple you cannot change it's content without making a copy of the tuple first (you will read that the tuple is an _immutable_ data type).\n",
    "\n",
    "* The _list_ is almost identical to the tuple. It is declared using square parentheses, e.g. `[1, 2, 3]`. Unlike the tuple, a list can be changed after definition, by adding, changing or removing elements. This is called a _mutable_ data type.\n",
    "\n",
    "* The _dictionary_ or simply _dict_ is also a mutable data type. Unlike the other data types the dict works like a lookup table, where each element of data stored in the dictionary is associated with a name. To look up an item in the dictionary you don't need to know its position in the dictionary, only its name. The dict is defined with curly braces and a colon to separate the name from the value, e.g. `{'name_of_first_entry': 1, 'name_of_second_entry: 2}`."
   ]
  },
  {
   "cell_type": "markdown",
   "metadata": {
    "nbgrader": {
     "grade": false,
     "grade_id": "cell-e88c3899410ccb72",
     "locked": true,
     "schema_version": 3,
     "solution": false,
     "task": false
    }
   },
   "source": [
    "### Problem 1.4\n",
    "\n",
    "> **Ex. 1.4:** Define the variable `y` as a list containing the elements `'k', 2, 'b', 9`. Also define a variable `z` which is a tuple containing the same elements. Try to access the 0th element of `y` (python is 0-indexed) and the 1st element of `z`.\n",
    "> \n",
    "> *Hint:* To access the _n_'th element of a list/tuple write `myData[n]`, for example `y[0]` gets the 0th element of `y`. "
   ]
  },
  {
   "cell_type": "code",
   "execution_count": 17,
   "metadata": {
    "deletable": false,
    "nbgrader": {
     "checksum": "91b16fa055f9d94957be3ae9f63de88c",
     "grade": false,
     "grade_id": "problem_004",
     "locked": false,
     "schema_version": 3,
     "solution": true
    }
   },
   "outputs": [],
   "source": [
    "### BEGIN SOLUTION\n",
    "\n"
   ]
  },
  {
   "cell_type": "markdown",
   "metadata": {
    "slideshow": {
     "slide_type": "slide"
    }
   },
   "source": [
    "# 2 Control Flow"
   ]
  },
  {
   "cell_type": "markdown",
   "metadata": {
    "slideshow": {
     "slide_type": "-"
    }
   },
   "source": [
    "## If-then syntax\n",
    "\n",
    "_Control flow_ means writing code that controls the way data or information flows through the program. The concepts of control flow should be recognizable outside of coding as well. For example when you go shopping you might want to buy koldskål, but only **if** the kammerjunker are on sale. **else** you will buy icecream. These kinds of logic come up everywhere in coding; self driving cars should go forward only **if** the light is green, items should be listed for sale in a web shop only **if** they are in stock, stars should be put on the estimates **if** they are significant etc. \n",
    "\n",
    "Another kind of control flow deals with doing things repeatedly. For example dishes should be done **while** there are still dirty dishes to wash, **for** each student **in** a course a grade should be given, etc.\n",
    "\n",
    "In the following problems you will work with both kinds of control flow. "
   ]
  },
  {
   "cell_type": "markdown",
   "metadata": {
    "slideshow": {
     "slide_type": "slide"
    }
   },
   "source": [
    "*How can we activate code based on data in Python?*\n",
    "\n",
    "In Python, the syntax is easy with the `if` syntax. \n",
    "\n",
    "```python\n",
    "if statement:  \n",
    "    code\n",
    "```\n",
    "\n",
    "In the example above, the block called `code` is run if the condition called `statement` is true (either a variable or an expression)."
   ]
  },
  {
   "cell_type": "markdown",
   "metadata": {
    "slideshow": {
     "slide_type": "slide"
    }
   },
   "source": [
    "#### Examples using if\n",
    "Try to run the examples:"
   ]
  },
  {
   "cell_type": "code",
   "execution_count": 18,
   "metadata": {
    "slideshow": {
     "slide_type": "-"
    }
   },
   "outputs": [
    {
     "name": "stdout",
     "output_type": "stream",
     "text": [
      "I'm being executed, yay!\n"
     ]
    }
   ],
   "source": [
    "my_statement = (4 == 4)\n",
    "if my_statement:  \n",
    "    print (\"I'm being executed, yay!\")"
   ]
  },
  {
   "cell_type": "markdown",
   "metadata": {
    "slideshow": {
     "slide_type": "slide"
    }
   },
   "source": [
    "#### Introducing an alternative\n",
    "\n",
    "\n",
    "If the statement in our condition is false, then we can execute other code\n",
    "with the `else` statement. Try the example below - and change the boolean value of `my_statement`.\n"
   ]
  },
  {
   "cell_type": "code",
   "execution_count": 19,
   "metadata": {},
   "outputs": [
    {
     "name": "stdout",
     "output_type": "stream",
     "text": [
      "Shoot! I'm still being executed!\n"
     ]
    }
   ],
   "source": [
    "my_statement = False\n",
    "if my_statement:  \n",
    "    print (\"I'm being executed, yay!\")\n",
    "else:\n",
    "    print (\"Shoot! I'm still being executed!\")"
   ]
  },
  {
   "cell_type": "markdown",
   "metadata": {},
   "source": [
    "#### Optional material\n",
    "\n",
    "We have not covered the statements `break` and `continue`, or `try` and `except` which are also control flow statements. These are slightly more advanced, but it can be a good idea to look them up yourself. \n"
   ]
  },
  {
   "cell_type": "markdown",
   "metadata": {
    "nbgrader": {
     "grade": false,
     "grade_id": "cell-95021b488d6bc2d2",
     "locked": true,
     "schema_version": 3,
     "solution": false,
     "task": false
    }
   },
   "source": [
    "In Python the if/else logic consists of three keywords: *if*, *elif* (else if) and *else*. The if and elif keywords should be followed by a logical statement that is either `True` or `False`. The code that should be executed `if` the logic is `True` is written on the lines below the `if`, and should be indented one TAB (or 4 spaces). Finally all control flow statements must end with a colon. \n",
    "\n",
    "> **Ex. 2.1:**  Read the code in the cell below. Assign a value to the variable `x` that makes the code print \"Good job!\""
   ]
  },
  {
   "cell_type": "code",
   "execution_count": null,
   "metadata": {
    "deletable": false,
    "nbgrader": {
     "checksum": "f076063b1b6673a7cbf3468ed1872781",
     "grade": false,
     "grade_id": "problem_021",
     "locked": false,
     "schema_version": 3,
     "solution": true
    }
   },
   "outputs": [],
   "source": [
    "### BEGIN SOLUTION\n",
    "x = \n",
    "\n",
    "if x > 5:\n",
    "    print(\"x is too large\")\n",
    "\n",
    "elif x >= 3 and x <= 5:\n",
    "    print(\"Good job!\")\n",
    "\n",
    "else:   \n",
    "    print(\"x is too small\")\n",
    "    "
   ]
  },
  {
   "cell_type": "markdown",
   "metadata": {
    "deletable": false,
    "nbgrader": {
     "grade": false,
     "grade_id": "cell-e95feb3ae1b033d2",
     "locked": true,
     "schema_version": 3,
     "solution": false,
     "task": false
    }
   },
   "source": [
    "Above we used two different types of comparison: `>=` and `<`. To compare two values and check whether they are equal, python uses double equal signs `==` (remember a single = was used to assign values to a variable). \n",
    "\n",
    "> **Ex. 2.2:**  The code below draws a random number between 0 and 1 and stores in the variable `randnum`. Write an if/else block that defines a new variable which is equal to 1 if `randnum <= 0.1` and is 0 if `randnum > 0.1`."
   ]
  },
  {
   "cell_type": "code",
   "execution_count": 21,
   "metadata": {
    "deletable": false,
    "nbgrader": {
     "checksum": "3428d16adf6b5e1e1566fbee1802a616",
     "grade": false,
     "grade_id": "problem_022",
     "locked": false,
     "schema_version": 3,
     "solution": true
    }
   },
   "outputs": [],
   "source": [
    "import random\n",
    "randnum = random.uniform(0,1)\n",
    "\n",
    "### BEGIN SOLUTION\n"
   ]
  },
  {
   "cell_type": "markdown",
   "metadata": {
    "slideshow": {
     "slide_type": "slide"
    }
   },
   "source": [
    "## Loops "
   ]
  },
  {
   "cell_type": "markdown",
   "metadata": {
    "slideshow": {
     "slide_type": "fragment"
    }
   },
   "source": [
    "#### For loops\n",
    "\n",
    "Control flow that does the same thing repeatedly is called a _loop_. In python you can loop through anything that is _iterable_, e.g. anything where it makes sense to say \"for each element in this item, do whatever.\" \n",
    "\n",
    "Lists, tuples and dictionaries are all iterable, and can thus be looped over. This kind of loop is called a _for loop_. The basic syntax is \n",
    "\n",
    "```python\n",
    "for element in some_iterable:\n",
    "    do_something(element)\n",
    "```\n",
    "where `element` is a temporary name given to the current element reached in the loop, and `do_something` can be any valid python function applied to `element`. \n",
    "\n",
    "Example - try the following code:"
   ]
  },
  {
   "cell_type": "code",
   "execution_count": 22,
   "metadata": {
    "slideshow": {
     "slide_type": "-"
    }
   },
   "outputs": [
    {
     "name": "stdout",
     "output_type": "stream",
     "text": [
      "[1, 9, 25]\n"
     ]
    }
   ],
   "source": [
    "A = []\n",
    "\n",
    "for i in [1, 3, 5]:\n",
    "    i_squared = i ** 2\n",
    "    A.append(i_squared)\n",
    "    \n",
    "print(A)"
   ]
  },
  {
   "cell_type": "markdown",
   "metadata": {
    "slideshow": {
     "slide_type": "fragment"
    }
   },
   "source": [
    "For loops are smart when: iterating over files in a directory; iterating over specific set of columns."
   ]
  },
  {
   "cell_type": "markdown",
   "metadata": {
    "slideshow": {
     "slide_type": "fragment"
    }
   },
   "source": [
    "*Quiz*: How does Python know where the code associated with inside of the loop begins?"
   ]
  },
  {
   "cell_type": "markdown",
   "metadata": {
    "slideshow": {
     "slide_type": "fragment"
    }
   },
   "source": [
    "*Answer*: "
   ]
  },
  {
   "cell_type": "markdown",
   "metadata": {
    "deletable": false,
    "nbgrader": {
     "grade": false,
     "grade_id": "cell-befaad6598037139",
     "locked": true,
     "schema_version": 3,
     "solution": false,
     "task": false
    }
   },
   "source": [
    "> **Ex. 2.3:**  Begin by initializing an emply list in the variable `answer_23` (simply write `answer_23 = []`). Then loop trough the list `y` that you defined in problem 1.4. For each element in `y`, multiply that element by 7 and *append* it to `answer_23`. (You can finish off by showing the content of `answer_23` after the loop has run.)\n",
    "\n",
    "> *Hint:* To append data to a list you can write `answer_23.append(new_element)` where `new_element` is the new data that you want to append."
   ]
  },
  {
   "cell_type": "code",
   "execution_count": 23,
   "metadata": {
    "deletable": false,
    "nbgrader": {
     "checksum": "4ce84a9aea2ebdf3b2c8d6a0917f9a23",
     "grade": false,
     "grade_id": "problem_023",
     "locked": false,
     "schema_version": 3,
     "solution": true
    }
   },
   "outputs": [],
   "source": [
    "### BEGIN SOLUTION\n"
   ]
  },
  {
   "cell_type": "markdown",
   "metadata": {
    "slideshow": {
     "slide_type": "slide"
    }
   },
   "source": [
    "#### While loops\n",
    "\n",
    "The other kind of loop in Python is the _while loop_. Instead of looping over an iterable, the `while` loop continues going as long as a supplied logical condition is True. \n",
    "\n",
    "Most commonly, the while loop is combined with a counting variable that keeps track of how many times the loop has been run. \n",
    "\n",
    "One specific application where a while loop can be useful is data collection on the internet (scraping) which is often open ended. Another application is when we are computing something that we do not know how long will take to compute, e.g. when a model is being estimated.\n",
    "\n",
    "The basic syntax is seen in the example below. This code will run 100 times before stopping. At each iteration, it checks that `i` is smaller than 100. If it is, it does something and adds 1 to the variable `i` before repeating.\n",
    "\n",
    "```python \n",
    "\n",
    "i = 0\n",
    "while i < 100:\n",
    "    do_something()    \n",
    "    i = i + 1\n",
    "```\n",
    "\n",
    "In the example below, we provide an example of what `do_something()` can be. Try the code below and explain why it outputs what it does."
   ]
  },
  {
   "cell_type": "code",
   "execution_count": 24,
   "metadata": {
    "slideshow": {
     "slide_type": "-"
    }
   },
   "outputs": [
    {
     "name": "stdout",
     "output_type": "stream",
     "text": [
      "[0, 3, 6, 9, 12]\n"
     ]
    }
   ],
   "source": [
    "i = 0\n",
    "L = []\n",
    "while (i < 5):\n",
    "    L.append(i * 3)\n",
    "    i += 1\n",
    "\n",
    "print(L)    "
   ]
  },
  {
   "cell_type": "markdown",
   "metadata": {
    "nbgrader": {
     "grade": false,
     "grade_id": "cell-13adbf8a8eef8e87",
     "locked": true,
     "schema_version": 3,
     "solution": false,
     "task": false
    }
   },
   "source": [
    "### Problem 2.4\n",
    "> **Ex. 2.4:**  Begin by defining an empty list. Write a while loop that runs from $i=0$ up to but not including $i=1500$. In each loop, it should determine whether the current value of `i` is a multiple of 19. If it is, append the number to the list. (recall that $i$ is divisible by $a$ if $i \\text{ mod } a = 0$. The modulo operator in python is `%`)\n",
    "\n",
    "> *Hint:* The `if` statement does not need to be followed by an `else`. You can simply code the `if` part and python will automatically skip it and continue if the logical condition is False.\n",
    ">\n",
    "> *Hint:* Remember to increment `i` in each iteration. Otherwise the program will run forever. If this happens, press _kernel > interrupt_ in the menu bar. "
   ]
  },
  {
   "cell_type": "code",
   "execution_count": 25,
   "metadata": {
    "deletable": false,
    "nbgrader": {
     "checksum": "406b57c201af12ab050f0616b4e5470b",
     "grade": false,
     "grade_id": "problem_024",
     "locked": false,
     "schema_version": 3,
     "solution": true
    }
   },
   "outputs": [],
   "source": [
    "i = 0\n",
    "answer_24 = []\n",
    "\n",
    "### BEGIN SOLUTION\n"
   ]
  },
  {
   "cell_type": "markdown",
   "metadata": {
    "slideshow": {
     "slide_type": "slide"
    }
   },
   "source": [
    "# 3 Reusable Code"
   ]
  },
  {
   "cell_type": "markdown",
   "metadata": {
    "slideshow": {
     "slide_type": "fragment"
    }
   },
   "source": [
    "## Functions\n",
    "\n",
    "If you have never programmed in anything but statistical software such as Stata or SAS, the concept of functions might be new to you. In python, a function is simply a \"recipe\" that is first written, and then later used to compute something. \n",
    "\n",
    "Conceptually, functions in programming are similar to functions in math. They have between $0$ and \"$\\infty$\" inputs, do some calculation using their inputs and then return between 1 and \"$\\infty$\" outputs. \n",
    "\n",
    "By making these recipes, we can save time by making a concise function that undertakes exactly the task that we want to complete. \n",
    "\n",
    "Python contains a large number of [built-in functions](https://docs.python.org/3/library/functions.html). Below, you are given examples of how to use the most commonly used built-ins. You should make yourself comfortable using each of the functions shown below."
   ]
  },
  {
   "cell_type": "code",
   "execution_count": 26,
   "metadata": {},
   "outputs": [],
   "source": [
    "# Setup for the examples. We define two lists to show you the built-in functions.\n",
    "l1 = [0, 10, 20, 30, 40, 50, 60, 70, 80, 90]\n",
    "l2 = ['a', 'b', 'c', 'd', 'e', 'f', 'g', 'h', 'i', 'j']"
   ]
  },
  {
   "cell_type": "code",
   "execution_count": 27,
   "metadata": {},
   "outputs": [
    {
     "data": {
      "text/plain": [
       "10"
      ]
     },
     "execution_count": 27,
     "metadata": {},
     "output_type": "execute_result"
    }
   ],
   "source": [
    "# The len(x) function gives you the length of the input\n",
    "len(l2)"
   ]
  },
  {
   "cell_type": "code",
   "execution_count": 28,
   "metadata": {},
   "outputs": [
    {
     "data": {
      "text/plain": [
       "5"
      ]
     },
     "execution_count": 28,
     "metadata": {},
     "output_type": "execute_result"
    }
   ],
   "source": [
    "# The abs(x) function returns the absolute value of x\n",
    "abs(-5)"
   ]
  },
  {
   "cell_type": "code",
   "execution_count": 29,
   "metadata": {},
   "outputs": [
    {
     "data": {
      "text/plain": [
       "(0, 90)"
      ]
     },
     "execution_count": 29,
     "metadata": {},
     "output_type": "execute_result"
    }
   ],
   "source": [
    "# The min(x) and max(x) functions return the minimum and maximum of the input.\n",
    "min(l1), max(l1)"
   ]
  },
  {
   "cell_type": "code",
   "execution_count": 30,
   "metadata": {},
   "outputs": [
    {
     "data": {
      "text/plain": [
       "[1, 1, 1, 1, 1, 1, 1, 1, 1, 1]"
      ]
     },
     "execution_count": 30,
     "metadata": {},
     "output_type": "execute_result"
    }
   ],
   "source": [
    "# The map(function, Iterable) function applies the supplied function to each element in Iterable:\n",
    "# Note that the list() call just converts the result to a list\n",
    "list(map(len, l2))"
   ]
  },
  {
   "cell_type": "code",
   "execution_count": 31,
   "metadata": {},
   "outputs": [
    {
     "name": "stdout",
     "output_type": "stream",
     "text": [
      "Range from 0 to 100, step=1: range(0, 100)\n",
      "Range from 0 to 100, step=2: range(0, 100, 2)\n",
      "Range from 10 to 65, step=3: range(10, 65, 3)\n"
     ]
    }
   ],
   "source": [
    "# The range([start], stop, [step]) function returns a range of numbers from `start` to `stop`, in increments of `step`.\n",
    "# The values in [] are optional.\n",
    "# If no start value is set, it defaults to 0.\n",
    "# If no step value is set it defaults to 1. \n",
    "# A stop value must always be set.\n",
    "\n",
    "print(\"Range from 0 to 100, step=1:\", range(100))\n",
    "print(\"Range from 0 to 100, step=2:\", range(0, 100, 2))\n",
    "print(\"Range from 10 to 65, step=3:\", range(10, 65, 3))"
   ]
  },
  {
   "cell_type": "code",
   "execution_count": 32,
   "metadata": {},
   "outputs": [
    {
     "name": "stdout",
     "output_type": "stream",
     "text": [
      "90\n",
      "80\n",
      "70\n",
      "60\n",
      "50\n",
      "40\n",
      "30\n",
      "20\n",
      "10\n",
      "0\n"
     ]
    }
   ],
   "source": [
    "# The reversed(x) function reverses the input.\n",
    "# We can then loop trough it backwards\n",
    "l1_reverse = reversed(l1)\n",
    "\n",
    "for e in l1_reverse:\n",
    "    print(e)"
   ]
  },
  {
   "cell_type": "code",
   "execution_count": 33,
   "metadata": {},
   "outputs": [
    {
     "name": "stdout",
     "output_type": "stream",
     "text": [
      "0 a\n",
      "1 b\n",
      "2 c\n",
      "3 d\n",
      "4 e\n",
      "5 f\n",
      "6 g\n",
      "7 h\n",
      "8 i\n",
      "9 j\n"
     ]
    }
   ],
   "source": [
    "# The enumerate(x) function returns the index of the item as well as the item itself in sequence.\n",
    "# With it, you can loop through things while keeping track of their position:\n",
    "l2_enumerate = enumerate(l2)\n",
    "\n",
    "for index, element in l2_enumerate:\n",
    "    print(index, element)"
   ]
  },
  {
   "cell_type": "code",
   "execution_count": 34,
   "metadata": {},
   "outputs": [
    {
     "name": "stdout",
     "output_type": "stream",
     "text": [
      "0 a\n",
      "10 b\n",
      "20 c\n",
      "30 d\n",
      "40 e\n",
      "50 f\n",
      "60 g\n",
      "70 h\n",
      "80 i\n",
      "90 j\n"
     ]
    }
   ],
   "source": [
    "# The zip(x,y,...) function \"zips\" together two or more iterables allowing you to loop through them pairwise:\n",
    "l1l2_zip = zip(l1, l2)\n",
    "\n",
    "for e1, e2 in l1l2_zip:\n",
    "    print(e1, e2)\n"
   ]
  },
  {
   "cell_type": "markdown",
   "metadata": {},
   "source": [
    "#### The how\n",
    "You can also write your own python functions. A python function is defined with the `def` keyword, followed by a user-defined name of the function, the inputs to the function and a colon. On the following lines, the _function body_ is written, indented by one TAB. \n",
    "\n",
    "Functions use the keyword `return` to signal what values the function should return after doing its calculations on the inputs. For example, we can define a function named `my_first_function` seen in the cell below. Run the code below and explain the printed output.\n",
    "\n"
   ]
  },
  {
   "cell_type": "code",
   "execution_count": 35,
   "metadata": {},
   "outputs": [
    {
     "name": "stdout",
     "output_type": "stream",
     "text": [
      "Output for input of 0:  1\n",
      "Output for input of 1:  2\n",
      "Output for input of 2:  5\n",
      "Output for input of 3:  10\n"
     ]
    }
   ],
   "source": [
    "def my_first_function(x): # takes input x\n",
    "    x_squared = x ** 2 # x squared\n",
    "    return x_squared + 1\n",
    "\n",
    "print('Output for input of 0: ', my_first_function(0))\n",
    "print('Output for input of 1: ', my_first_function(1))\n",
    "print('Output for input of 2: ', my_first_function(2))\n",
    "print('Output for input of 3: ', my_first_function(3))"
   ]
  },
  {
   "cell_type": "markdown",
   "metadata": {},
   "source": [
    "We can also make more complex functions. The function below, named `my_second_function`, takes two inputs `a` and `b` that is used to compute the values $a^b$ (written in python as `a ** b`) and $b^a$ and returns the larger of the two. \n",
    "\n",
    "Provide the function below with different inputs of `a` and `b`. Explain the output to yourself. "
   ]
  },
  {
   "cell_type": "code",
   "execution_count": 36,
   "metadata": {},
   "outputs": [],
   "source": [
    "def my_second_function(a, b):\n",
    "    v1 = a ** b\n",
    "    v2 = b ** a\n",
    "    \n",
    "    if v1 > v2:\n",
    "        return v1\n",
    "    else:\n",
    "        return v2"
   ]
  },
  {
   "cell_type": "markdown",
   "metadata": {
    "nbgrader": {
     "grade": false,
     "grade_id": "cell-9fcc6fd59e0d3fd9",
     "locked": true,
     "schema_version": 3,
     "solution": false,
     "task": false
    }
   },
   "source": [
    "### Problem 3.1\n",
    "> **Ex. 3.1:**  Write a function called `minimum` that takes as input a list of numbers, and returns the index and value of the minimum number as a `tuple`. Use your function to calculate the index and value of the minimum number in the list `[-342, 195, 573, -234, 762, -175, 847, -882, 153, -22]`.\n",
    "\n",
    "> *Hint:* A [\"pythonic\"](https://stackoverflow.com/questions/25011078/what-does-pythonic-mean#:~:text=Pythonic%20means%20code%20that%20doesn,is%20intended%20to%20be%20used) way to keep count of the index of the minimum value would be to loop over the list of numbers by using the [enumerate](#Functions) function on the list of numbers."
   ]
  },
  {
   "cell_type": "code",
   "execution_count": 37,
   "metadata": {
    "nbgrader": {
     "grade": false,
     "grade_id": "problem_031",
     "locked": false,
     "schema_version": 3,
     "solution": true,
     "task": false
    }
   },
   "outputs": [],
   "source": [
    "### BEGIN SOLUTION\n"
   ]
  },
  {
   "cell_type": "markdown",
   "metadata": {
    "nbgrader": {
     "grade": false,
     "grade_id": "cell-ced9fcf972a8b992",
     "locked": true,
     "schema_version": 3,
     "solution": false,
     "task": false
    }
   },
   "source": [
    "### Problem 3.2\n",
    "> **Ex. 3.2:**  Write a function called `average` that takes as input a list of numbers, and returns the average of the values in the list. Use your function to calculate the average of the values `[-1, 2, -3, 4, 0, -4, 3, -2, 1]`"
   ]
  },
  {
   "cell_type": "code",
   "execution_count": 38,
   "metadata": {
    "nbgrader": {
     "grade": false,
     "grade_id": "problem_032",
     "locked": false,
     "schema_version": 3,
     "solution": true,
     "task": false
    }
   },
   "outputs": [],
   "source": [
    "### BEGIN SOLUTION\n"
   ]
  },
  {
   "cell_type": "markdown",
   "metadata": {},
   "source": [
    "### Problem 3.3 (OPTIONAL)\n",
    "Recall that [Eulers constant](https://en.wikipedia.org/wiki/E_(mathematical_constant)) $e$ can be calculated as \n",
    "$$\n",
    "e=\\lim_{n\\rightarrow \\infty}\\left(1+\\frac{x}{n}\\right)^{n}\n",
    "$$\n",
    "Of course we cannot compute the limit on a finite memory computer. Instead we can calculate approximations by taking $n$ large enough.\n",
    "\n",
    "> **Ex. 3.3:** Write a function named `eulers_e` that takes two inputs `x` and `n`, calculates \n",
    "$$\n",
    "\\left(1+\\frac{x}{n}\\right)^{n}\n",
    "$$\n",
    "and returns this value. Use your function to calculate `eulers_e(1, 5)` and store this value in the variable `answer_33`."
   ]
  },
  {
   "cell_type": "code",
   "execution_count": 39,
   "metadata": {},
   "outputs": [],
   "source": [
    "### BEGIN SOLUTION\n"
   ]
  },
  {
   "cell_type": "markdown",
   "metadata": {},
   "source": [
    "### Problem 3.4 (OPTIONAL)\n",
    "The inverse of the exponential is the [logarithm](https://en.wikipedia.org/wiki/Logarithm). Like the exponential function, there are limit definitions of the logarithm. One of these is \n",
    "$$\n",
    "\\log(x) = 2 \\cdot \\sum_{k=0}^{\\infty} \\frac{1}{2k+1} \\left( \\frac{x-1}{x+1} \\right)^{2k+1}\n",
    "$$\n",
    "\n",
    "where $\\sum_{k=0}^{\\infty}$ signifies the sum of infinitely many elements, starting from $k=0$. Each element in the sum takes the value $\\frac{1}{2k+1} \\left( \\frac{x-1}{x+1} \\right)^{2k+1}$ for some $k$. As before, we must approximate this with a finite sum. \n",
    "\n",
    "> **Ex. 3.4:**  Define another function called `natural_logarithm` which takes two inputs `x` and `k_max`. In the function body calculate \n",
    "$$\n",
    "2 \\cdot \\sum_{k=0}^{k\\_max} \\frac{1}{2k+1} \\left( \\frac{x-1}{x+1} \\right)^{2k+1}\n",
    "$$\n",
    "> and return this value.\n",
    "\n",
    "> *Hint:* to calculate the sum, first initialize a value total = 0, loop through $k\\in \\{0, 1, \\ldots, k\\_max\\}$ and compute $\\frac{1}{2k+1} \\left( \\frac{x-1}{x+1} \\right)^{2k+1}$. Add the computed value to your total in each step of the loop. After finalizing the loop you can then multiply the total by 2 and return the result."
   ]
  },
  {
   "cell_type": "code",
   "execution_count": 40,
   "metadata": {},
   "outputs": [],
   "source": [
    "### BEGIN SOLUTION\n"
   ]
  },
  {
   "cell_type": "markdown",
   "metadata": {},
   "source": [
    "### Problem 3.5 (OPTIONAL)\n",
    "Just like numbers, strings and data types, python treats functions as an object. This means you can write functions, that take a function as input and functions that return functions after being executed. This is sometimes a useful tool to have when you need to add extra functionality to an already existing function, or if you need to write _function factories_.\n",
    "\n",
    "> **Ex. 3.5:**  Write a function called `exponentiate` that takes one input named `func`. In the body of `exponentiate` define a nested function (i.e. a function within a function) called `with_exp` that takes two inputs `x` and `k`. The nested function should return `func(e, k)` where `e = eulers_e(x, k)`. The outer function should return the nested function `with_exp`, i.e. write something like\n",
    "\n",
    "```python\n",
    "def exponentiate(func):\n",
    "    def with_exp(x, k):\n",
    "        e = eulers_e(x, k)\n",
    "        value = #[FILL IN]\n",
    "        return value\n",
    "    return with_exp\n",
    "```\n",
    "\n",
    "> Call the `exponentiate` function on `natural_logarithm` and store the result in a new variable called `logexp`. \n",
    "\n",
    "> *Hint*: You will not get exactly the same result as you put in due approximations and numerical accuracy. "
   ]
  },
  {
   "cell_type": "code",
   "execution_count": 41,
   "metadata": {},
   "outputs": [],
   "source": [
    "### BEGIN SOLUTION\n"
   ]
  },
  {
   "cell_type": "markdown",
   "metadata": {},
   "source": [
    "# Getting More General\n",
    "\n",
    "#### Modules\n",
    "\n",
    "Whatever we attempt in programming, it is likely nowadays that someone has done it before us. Therefore, we can reuse code which allows to \n",
    "1. save time by using others' code, and\n",
    "2. learn from  others' code. \n",
    "\n",
    "Moreover, often the code implemented by someone with more experience is likely to work better and faster than what we can come up with! That's why we introduce modules. These are packages of Python code that we can load - and by doing that, we get access to powerful tools.\n",
    "\n",
    "Let's see how modules work. Run the code below to load a module called `numpy` which allows us to work with linear algebra and other numeric tools. "
   ]
  },
  {
   "cell_type": "code",
   "execution_count": 42,
   "metadata": {
    "slideshow": {
     "slide_type": "-"
    }
   },
   "outputs": [],
   "source": [
    "import numpy as np"
   ]
  },
  {
   "cell_type": "markdown",
   "metadata": {
    "slideshow": {
     "slide_type": "fragment"
    }
   },
   "source": [
    "Let's  create an `array` with `numpy`."
   ]
  },
  {
   "cell_type": "code",
   "execution_count": 43,
   "metadata": {
    "slideshow": {
     "slide_type": "-"
    }
   },
   "outputs": [
    {
     "data": {
      "text/plain": [
       "array([[1, 2],\n",
       "       [3, 4]])"
      ]
     },
     "execution_count": 43,
     "metadata": {},
     "output_type": "execute_result"
    }
   ],
   "source": [
    "row1 = [1, 2]\n",
    "row2 = [3, 4]\n",
    "table = [row1, row2]\n",
    "\n",
    "my_array = np.array(table)\n",
    "my_array"
   ]
  },
  {
   "cell_type": "markdown",
   "metadata": {
    "slideshow": {
     "slide_type": "fragment"
    }
   },
   "source": [
    "*What is a `numpy` array?*\n",
    "\n",
    "An n-dimensional container that can store specific data types, e.g. bool and float. The arrays come with certain available methods and tools. E.g. 2-d array can act like a matrix, in 3-d it can act like a tensor. "
   ]
  },
  {
   "cell_type": "markdown",
   "metadata": {
    "slideshow": {
     "slide_type": "fragment"
    }
   },
   "source": [
    "Objects can have useful attributes and methods that are built-in. These are accessed using `\".\"` Example, an array can be transposed as follows:"
   ]
  },
  {
   "cell_type": "code",
   "execution_count": 44,
   "metadata": {
    "slideshow": {
     "slide_type": "-"
    }
   },
   "outputs": [
    {
     "data": {
      "text/plain": [
       "array([[1, 3],\n",
       "       [2, 4]])"
      ]
     },
     "execution_count": 44,
     "metadata": {},
     "output_type": "execute_result"
    }
   ],
   "source": [
    "my_array.T"
   ]
  },
  {
   "cell_type": "markdown",
   "metadata": {},
   "source": [
    "#### (Optional) Classes\n",
    "\n",
    "In Python, we can also define our types of objects, which is known as `class`. Each class contains rules and properties that governs how objects of the class will behave. If you are curious and want to learn, which is totally optional, then read more [here](https://docs.python.org/3/tutorial/classes.html) (note: quite technical). Otherwise move on."
   ]
  },
  {
   "cell_type": "markdown",
   "metadata": {},
   "source": [
    "# 4 Pandas for data structuring\n",
    "\n",
    "You may ask yourself: Why do we need to learn data structuring? \n",
    "\n",
    "Data never comes in the form of our model (unless you or someone else has done it in another program, which is *perfectly* fine). We need to 'wrangle' our data. As of right now, even the most advanced techniques needs data in a structured format to work with it."
   ]
  },
  {
   "cell_type": "markdown",
   "metadata": {},
   "source": [
    "## An Overview\n",
    "\n",
    "Tabular data is like the table below. Each row is an observation which consist of two entries, one for each of the columns/fields, i.e. animal and day.  \n",
    "\n",
    "| index | Animal     | Date           |\n",
    "|---------------:|:-----------|:---------------|\n",
    "|  Observation 1 | Elk        | July 1, 2019   |\n",
    "|  Observation 2 | Pig        | July 3, 2019   |\n",
    "\n",
    "What pandas provides is a smart way of structuring data. It has two fundamental data types, see below. These are essentially just container but come with a lot of extra functionality for structuring data and performing analysis. \n",
    "\n",
    "- `Series`: tabular data with a single column (field)\n",
    "  - akin to a vector in mathematics\n",
    "  - has labelled columns (e.g. Animal and Date above) and named rows, called indices.\n",
    "- `DataFrame`: tabular data that allows for more than one column (multiple fields)\n",
    "  - akin to a matrix in mathematics  \n",
    "  \n",
    "Run the code below to make your first pandas dataframe. Try to print it and explain the content it shows."
   ]
  },
  {
   "cell_type": "code",
   "execution_count": 45,
   "metadata": {},
   "outputs": [],
   "source": [
    "import pandas as pd\n",
    "\n",
    "df1 = pd.DataFrame(data=[[1, 2],[3, 4],[5, 6],[7, 8]],\n",
    "                   index=['i', 'ii','iii','iv'],\n",
    "                   columns=['A', 'B'])"
   ]
  },
  {
   "cell_type": "markdown",
   "metadata": {
    "slideshow": {
     "slide_type": "fragment"
    }
   },
   "source": [
    "The code below makes a series from a list. We can see that it contains all the four fundamental data types!"
   ]
  },
  {
   "cell_type": "code",
   "execution_count": 46,
   "metadata": {
    "slideshow": {
     "slide_type": "-"
    }
   },
   "outputs": [],
   "source": [
    "L = [1, 1.2, 'abc', True]\n",
    "ser1 = pd.Series(L)"
   ]
  },
  {
   "cell_type": "markdown",
   "metadata": {},
   "source": [
    "Now you may ask yourself: *why don't we just use `numpy`?* \n",
    "\n",
    "There are many reasons. `pandas` is easier for loading, structuring and making simple analysis of tabular data. However, in many cases, if you are working with custom data or need to performing fast and complex array computations, then `numpy` is a better option. If you are interested see discussion [here](https://stackoverflow.com/questions/30067051/python-what-are-the-major-improvement-of-pandas-over-numpy-scipy)."
   ]
  },
  {
   "cell_type": "markdown",
   "metadata": {},
   "source": [
    "## Switching Among Python, Numpy and Pandas"
   ]
  },
  {
   "cell_type": "markdown",
   "metadata": {
    "slideshow": {
     "slide_type": "fragment"
    }
   },
   "source": [
    "Pandas dataframes can be thought of as numpy arrays with some additional stuff. Note that columns can have different datatypes!\n",
    "\n",
    "Most functions from `numpy` can be applied directly to Pandas. We can convert a DataFrame to a `numpy` array with `values` attribute:"
   ]
  },
  {
   "cell_type": "code",
   "execution_count": 47,
   "metadata": {
    "slideshow": {
     "slide_type": "-"
    }
   },
   "outputs": [
    {
     "data": {
      "text/plain": [
       "array([[1, 2],\n",
       "       [3, 4],\n",
       "       [5, 6],\n",
       "       [7, 8]], dtype=int64)"
      ]
     },
     "execution_count": 47,
     "metadata": {},
     "output_type": "execute_result"
    }
   ],
   "source": [
    "df1.values"
   ]
  },
  {
   "cell_type": "markdown",
   "metadata": {
    "slideshow": {
     "slide_type": "fragment"
    }
   },
   "source": [
    "In Python, we can describe it as a *list of lists*."
   ]
  },
  {
   "cell_type": "code",
   "execution_count": 48,
   "metadata": {
    "slideshow": {
     "slide_type": "-"
    }
   },
   "outputs": [
    {
     "data": {
      "text/plain": [
       "[[1, 2], [3, 4], [5, 6], [7, 8]]"
      ]
     },
     "execution_count": 48,
     "metadata": {},
     "output_type": "execute_result"
    }
   ],
   "source": [
    "df1.values.tolist()"
   ]
  },
  {
   "cell_type": "markdown",
   "metadata": {},
   "source": [
    "Both dataframes and series have indices which are both a blessing and a curse. These indices means that we can often convert a Series into a dictionary:"
   ]
  },
  {
   "cell_type": "code",
   "execution_count": 49,
   "metadata": {},
   "outputs": [
    {
     "data": {
      "text/plain": [
       "{0: 1, 1: 1.2, 2: 'abc', 3: True}"
      ]
     },
     "execution_count": 49,
     "metadata": {},
     "output_type": "execute_result"
    }
   ],
   "source": [
    "ser1.to_dict()"
   ]
  },
  {
   "cell_type": "markdown",
   "metadata": {},
   "source": [
    "**<font color=\"red\">WARNING!</font>**: Series indices are NOT unique thus we may lose data if we convert to a dict which requires unique keys."
   ]
  },
  {
   "cell_type": "markdown",
   "metadata": {},
   "source": [
    "## Inspection\n",
    "Often we want to see what our dataframe contains. This can be done by putting the dataframe at the end of our cell, then it will automatically be printed.\n",
    "\n",
    "The example below consist of 100 rows, with 5 columns of random data. We see that putting the dataframe in the end prints the dataframe."
   ]
  },
  {
   "cell_type": "code",
   "execution_count": 50,
   "metadata": {},
   "outputs": [
    {
     "data": {
      "text/html": [
       "<div>\n",
       "<style scoped>\n",
       "    .dataframe tbody tr th:only-of-type {\n",
       "        vertical-align: middle;\n",
       "    }\n",
       "\n",
       "    .dataframe tbody tr th {\n",
       "        vertical-align: top;\n",
       "    }\n",
       "\n",
       "    .dataframe thead th {\n",
       "        text-align: right;\n",
       "    }\n",
       "</style>\n",
       "<table border=\"1\" class=\"dataframe\">\n",
       "  <thead>\n",
       "    <tr style=\"text-align: right;\">\n",
       "      <th></th>\n",
       "      <th>A</th>\n",
       "      <th>B</th>\n",
       "      <th>C</th>\n",
       "      <th>D</th>\n",
       "      <th>E</th>\n",
       "    </tr>\n",
       "  </thead>\n",
       "  <tbody>\n",
       "    <tr>\n",
       "      <th>0</th>\n",
       "      <td>0.120631</td>\n",
       "      <td>0.894828</td>\n",
       "      <td>0.797189</td>\n",
       "      <td>0.091109</td>\n",
       "      <td>0.134574</td>\n",
       "    </tr>\n",
       "    <tr>\n",
       "      <th>1</th>\n",
       "      <td>0.741095</td>\n",
       "      <td>0.809830</td>\n",
       "      <td>0.906311</td>\n",
       "      <td>0.051057</td>\n",
       "      <td>0.190558</td>\n",
       "    </tr>\n",
       "    <tr>\n",
       "      <th>2</th>\n",
       "      <td>0.217593</td>\n",
       "      <td>0.214831</td>\n",
       "      <td>0.922281</td>\n",
       "      <td>0.558786</td>\n",
       "      <td>0.728655</td>\n",
       "    </tr>\n",
       "    <tr>\n",
       "      <th>3</th>\n",
       "      <td>0.821169</td>\n",
       "      <td>0.762247</td>\n",
       "      <td>0.777922</td>\n",
       "      <td>0.973012</td>\n",
       "      <td>0.756787</td>\n",
       "    </tr>\n",
       "    <tr>\n",
       "      <th>4</th>\n",
       "      <td>0.816527</td>\n",
       "      <td>0.297157</td>\n",
       "      <td>0.521235</td>\n",
       "      <td>0.616021</td>\n",
       "      <td>0.743572</td>\n",
       "    </tr>\n",
       "    <tr>\n",
       "      <th>...</th>\n",
       "      <td>...</td>\n",
       "      <td>...</td>\n",
       "      <td>...</td>\n",
       "      <td>...</td>\n",
       "      <td>...</td>\n",
       "    </tr>\n",
       "    <tr>\n",
       "      <th>95</th>\n",
       "      <td>0.751320</td>\n",
       "      <td>0.910512</td>\n",
       "      <td>0.835192</td>\n",
       "      <td>0.717437</td>\n",
       "      <td>0.125446</td>\n",
       "    </tr>\n",
       "    <tr>\n",
       "      <th>96</th>\n",
       "      <td>0.135453</td>\n",
       "      <td>0.463779</td>\n",
       "      <td>0.532739</td>\n",
       "      <td>0.476379</td>\n",
       "      <td>0.602316</td>\n",
       "    </tr>\n",
       "    <tr>\n",
       "      <th>97</th>\n",
       "      <td>0.892760</td>\n",
       "      <td>0.504113</td>\n",
       "      <td>0.787871</td>\n",
       "      <td>0.894477</td>\n",
       "      <td>0.143704</td>\n",
       "    </tr>\n",
       "    <tr>\n",
       "      <th>98</th>\n",
       "      <td>0.802927</td>\n",
       "      <td>0.204300</td>\n",
       "      <td>0.776266</td>\n",
       "      <td>0.724146</td>\n",
       "      <td>0.626081</td>\n",
       "    </tr>\n",
       "    <tr>\n",
       "      <th>99</th>\n",
       "      <td>0.452690</td>\n",
       "      <td>0.906161</td>\n",
       "      <td>0.485432</td>\n",
       "      <td>0.216792</td>\n",
       "      <td>0.594700</td>\n",
       "    </tr>\n",
       "  </tbody>\n",
       "</table>\n",
       "<p>100 rows × 5 columns</p>\n",
       "</div>"
      ],
      "text/plain": [
       "           A         B         C         D         E\n",
       "0   0.120631  0.894828  0.797189  0.091109  0.134574\n",
       "1   0.741095  0.809830  0.906311  0.051057  0.190558\n",
       "2   0.217593  0.214831  0.922281  0.558786  0.728655\n",
       "3   0.821169  0.762247  0.777922  0.973012  0.756787\n",
       "4   0.816527  0.297157  0.521235  0.616021  0.743572\n",
       "..       ...       ...       ...       ...       ...\n",
       "95  0.751320  0.910512  0.835192  0.717437  0.125446\n",
       "96  0.135453  0.463779  0.532739  0.476379  0.602316\n",
       "97  0.892760  0.504113  0.787871  0.894477  0.143704\n",
       "98  0.802927  0.204300  0.776266  0.724146  0.626081\n",
       "99  0.452690  0.906161  0.485432  0.216792  0.594700\n",
       "\n",
       "[100 rows x 5 columns]"
      ]
     },
     "execution_count": 50,
     "metadata": {},
     "output_type": "execute_result"
    }
   ],
   "source": [
    "df2 = pd.DataFrame(data=np.random.rand(100, 5), \n",
    "                   columns=['A','B','C','D','E'])\n",
    "df2"
   ]
  },
  {
   "cell_type": "markdown",
   "metadata": {},
   "source": [
    "We can also use `head` and the `tail` method that select respectively the first and last observations in a DataFrame. The code below prints the first four rows."
   ]
  },
  {
   "cell_type": "code",
   "execution_count": 51,
   "metadata": {},
   "outputs": [
    {
     "data": {
      "text/html": [
       "<div>\n",
       "<style scoped>\n",
       "    .dataframe tbody tr th:only-of-type {\n",
       "        vertical-align: middle;\n",
       "    }\n",
       "\n",
       "    .dataframe tbody tr th {\n",
       "        vertical-align: top;\n",
       "    }\n",
       "\n",
       "    .dataframe thead th {\n",
       "        text-align: right;\n",
       "    }\n",
       "</style>\n",
       "<table border=\"1\" class=\"dataframe\">\n",
       "  <thead>\n",
       "    <tr style=\"text-align: right;\">\n",
       "      <th></th>\n",
       "      <th>A</th>\n",
       "      <th>B</th>\n",
       "      <th>C</th>\n",
       "      <th>D</th>\n",
       "      <th>E</th>\n",
       "    </tr>\n",
       "  </thead>\n",
       "  <tbody>\n",
       "    <tr>\n",
       "      <th>0</th>\n",
       "      <td>0.120631</td>\n",
       "      <td>0.894828</td>\n",
       "      <td>0.797189</td>\n",
       "      <td>0.091109</td>\n",
       "      <td>0.134574</td>\n",
       "    </tr>\n",
       "    <tr>\n",
       "      <th>1</th>\n",
       "      <td>0.741095</td>\n",
       "      <td>0.809830</td>\n",
       "      <td>0.906311</td>\n",
       "      <td>0.051057</td>\n",
       "      <td>0.190558</td>\n",
       "    </tr>\n",
       "    <tr>\n",
       "      <th>2</th>\n",
       "      <td>0.217593</td>\n",
       "      <td>0.214831</td>\n",
       "      <td>0.922281</td>\n",
       "      <td>0.558786</td>\n",
       "      <td>0.728655</td>\n",
       "    </tr>\n",
       "    <tr>\n",
       "      <th>3</th>\n",
       "      <td>0.821169</td>\n",
       "      <td>0.762247</td>\n",
       "      <td>0.777922</td>\n",
       "      <td>0.973012</td>\n",
       "      <td>0.756787</td>\n",
       "    </tr>\n",
       "  </tbody>\n",
       "</table>\n",
       "</div>"
      ],
      "text/plain": [
       "          A         B         C         D         E\n",
       "0  0.120631  0.894828  0.797189  0.091109  0.134574\n",
       "1  0.741095  0.809830  0.906311  0.051057  0.190558\n",
       "2  0.217593  0.214831  0.922281  0.558786  0.728655\n",
       "3  0.821169  0.762247  0.777922  0.973012  0.756787"
      ]
     },
     "execution_count": 51,
     "metadata": {},
     "output_type": "execute_result"
    }
   ],
   "source": [
    "df3 = df2.head(n=4)\n",
    "df3"
   ]
  },
  {
   "cell_type": "markdown",
   "metadata": {},
   "source": [
    "## Input-output\n",
    "\n",
    "We can load and save dataframes from our computer or the internet. Try the code below to save our dataframe as a CSV file called `my_data.csv`. If you are unsure what a CSV file is then check [the Wikipedia  description](https://en.wikipedia.org/wiki/Comma-separated_values)."
   ]
  },
  {
   "cell_type": "code",
   "execution_count": 52,
   "metadata": {},
   "outputs": [],
   "source": [
    "df3.to_csv('my_data.csv')"
   ]
  },
  {
   "cell_type": "markdown",
   "metadata": {},
   "source": [
    "\n",
    "Loading data is just as easy. Some data sources are open and easy to collect data from. They do not require formatting as they come in a table format. The code below load a CSV file on school test data from NYC. "
   ]
  },
  {
   "cell_type": "code",
   "execution_count": 53,
   "metadata": {},
   "outputs": [
    {
     "data": {
      "text/html": [
       "<div>\n",
       "<style scoped>\n",
       "    .dataframe tbody tr th:only-of-type {\n",
       "        vertical-align: middle;\n",
       "    }\n",
       "\n",
       "    .dataframe tbody tr th {\n",
       "        vertical-align: top;\n",
       "    }\n",
       "\n",
       "    .dataframe thead th {\n",
       "        text-align: right;\n",
       "    }\n",
       "</style>\n",
       "<table border=\"1\" class=\"dataframe\">\n",
       "  <thead>\n",
       "    <tr style=\"text-align: right;\">\n",
       "      <th></th>\n",
       "      <th>DBN</th>\n",
       "      <th>School Name</th>\n",
       "      <th>Number of Test Takers</th>\n",
       "      <th>Critical Reading Mean</th>\n",
       "      <th>Mathematics Mean</th>\n",
       "      <th>Writing Mean</th>\n",
       "    </tr>\n",
       "  </thead>\n",
       "  <tbody>\n",
       "    <tr>\n",
       "      <th>0</th>\n",
       "      <td>01M292</td>\n",
       "      <td>Henry Street School for International Studies</td>\n",
       "      <td>31.0</td>\n",
       "      <td>391.0</td>\n",
       "      <td>425.0</td>\n",
       "      <td>385.0</td>\n",
       "    </tr>\n",
       "    <tr>\n",
       "      <th>1</th>\n",
       "      <td>01M448</td>\n",
       "      <td>University Neighborhood High School</td>\n",
       "      <td>60.0</td>\n",
       "      <td>394.0</td>\n",
       "      <td>419.0</td>\n",
       "      <td>387.0</td>\n",
       "    </tr>\n",
       "    <tr>\n",
       "      <th>2</th>\n",
       "      <td>01M450</td>\n",
       "      <td>East Side Community High School</td>\n",
       "      <td>69.0</td>\n",
       "      <td>418.0</td>\n",
       "      <td>431.0</td>\n",
       "      <td>402.0</td>\n",
       "    </tr>\n",
       "    <tr>\n",
       "      <th>3</th>\n",
       "      <td>01M458</td>\n",
       "      <td>SATELLITE ACADEMY FORSYTH ST</td>\n",
       "      <td>26.0</td>\n",
       "      <td>385.0</td>\n",
       "      <td>370.0</td>\n",
       "      <td>378.0</td>\n",
       "    </tr>\n",
       "    <tr>\n",
       "      <th>4</th>\n",
       "      <td>01M509</td>\n",
       "      <td>CMSP HIGH SCHOOL</td>\n",
       "      <td>NaN</td>\n",
       "      <td>NaN</td>\n",
       "      <td>NaN</td>\n",
       "      <td>NaN</td>\n",
       "    </tr>\n",
       "    <tr>\n",
       "      <th>5</th>\n",
       "      <td>01M515</td>\n",
       "      <td>Lower East Side Preparatory High School</td>\n",
       "      <td>154.0</td>\n",
       "      <td>314.0</td>\n",
       "      <td>532.0</td>\n",
       "      <td>314.0</td>\n",
       "    </tr>\n",
       "    <tr>\n",
       "      <th>6</th>\n",
       "      <td>01M539</td>\n",
       "      <td>New Explorations into Sci, Tech and Math HS</td>\n",
       "      <td>47.0</td>\n",
       "      <td>568.0</td>\n",
       "      <td>583.0</td>\n",
       "      <td>568.0</td>\n",
       "    </tr>\n",
       "    <tr>\n",
       "      <th>7</th>\n",
       "      <td>01M650</td>\n",
       "      <td>CASCADES HIGH SCHOOL</td>\n",
       "      <td>35.0</td>\n",
       "      <td>411.0</td>\n",
       "      <td>401.0</td>\n",
       "      <td>401.0</td>\n",
       "    </tr>\n",
       "    <tr>\n",
       "      <th>8</th>\n",
       "      <td>01M696</td>\n",
       "      <td>BARD HIGH SCHOOL EARLY COLLEGE</td>\n",
       "      <td>138.0</td>\n",
       "      <td>630.0</td>\n",
       "      <td>608.0</td>\n",
       "      <td>630.0</td>\n",
       "    </tr>\n",
       "    <tr>\n",
       "      <th>9</th>\n",
       "      <td>02M047</td>\n",
       "      <td>AMERICAN SIGN LANG ENG DUAL</td>\n",
       "      <td>11.0</td>\n",
       "      <td>405.0</td>\n",
       "      <td>415.0</td>\n",
       "      <td>385.0</td>\n",
       "    </tr>\n",
       "  </tbody>\n",
       "</table>\n",
       "</div>"
      ],
      "text/plain": [
       "      DBN                                     School Name  \\\n",
       "0  01M292  Henry Street School for International Studies    \n",
       "1  01M448            University Neighborhood High School    \n",
       "2  01M450                East Side Community High School    \n",
       "3  01M458                   SATELLITE ACADEMY FORSYTH ST    \n",
       "4  01M509                               CMSP HIGH SCHOOL    \n",
       "5  01M515        Lower East Side Preparatory High School    \n",
       "6  01M539    New Explorations into Sci, Tech and Math HS    \n",
       "7  01M650                           CASCADES HIGH SCHOOL    \n",
       "8  01M696                 BARD HIGH SCHOOL EARLY COLLEGE    \n",
       "9  02M047                    AMERICAN SIGN LANG ENG DUAL    \n",
       "\n",
       "   Number of Test Takers  Critical Reading Mean  Mathematics Mean  \\\n",
       "0                   31.0                  391.0             425.0   \n",
       "1                   60.0                  394.0             419.0   \n",
       "2                   69.0                  418.0             431.0   \n",
       "3                   26.0                  385.0             370.0   \n",
       "4                    NaN                    NaN               NaN   \n",
       "5                  154.0                  314.0             532.0   \n",
       "6                   47.0                  568.0             583.0   \n",
       "7                   35.0                  411.0             401.0   \n",
       "8                  138.0                  630.0             608.0   \n",
       "9                   11.0                  405.0             415.0   \n",
       "\n",
       "   Writing Mean  \n",
       "0         385.0  \n",
       "1         387.0  \n",
       "2         402.0  \n",
       "3         378.0  \n",
       "4           NaN  \n",
       "5         314.0  \n",
       "6         568.0  \n",
       "7         401.0  \n",
       "8         630.0  \n",
       "9         385.0  "
      ]
     },
     "execution_count": 53,
     "metadata": {},
     "output_type": "execute_result"
    }
   ],
   "source": [
    "my_url = 'https://data.cityofnewyork.us/api/views/zt9s-n5aj/rows.csv'\n",
    "my_df = pd.read_csv(my_url)\n",
    "\n",
    "my_df.head(10)"
   ]
  },
  {
   "cell_type": "markdown",
   "metadata": {},
   "source": [
    "#### Working with weather data\n",
    "We will now work with a dataset regarding weather. Our source will be National Oceanic and Atmospheric Administration (NOAA) which have a global data collection going back a couple of centuries. This collection is called Global Historical Climatology Network (GHCN). The data contains daily weather recorded at the weather stations. A description of GHCN can be found [here](https://www1.ncdc.noaa.gov/pub/data/ghcn/daily/by_year/readme-by_year.txt)."
   ]
  },
  {
   "cell_type": "markdown",
   "metadata": {
    "nbgrader": {
     "grade": false,
     "grade_id": "cell-cd4ddfa624733d63",
     "locked": true,
     "schema_version": 3,
     "solution": false,
     "task": false
    }
   },
   "source": [
    "### Problem 4.1\n",
    "\n",
    "> **Ex. 4.1:** Use Pandas' CSV reader to fetch daily data weather from 1863 for various stations - available somewhere on your common drive. If you cannot find it, it can also be found at this [website](https://www1.ncdc.noaa.gov/pub/data/ghcn/daily/by_year).\n",
    "> \n",
    "> *Hint*: you will need to give `read_csv` some keywords. Here are some suggestions\n",
    ">  - Specify the path, using either a string or through the `pathlib` module, [see documentation](https://docs.python.org/3/library/pathlib.html) (nice for interoperability between macOS + Windows and relative paths).\n",
    ">  - for [compressed files](https://www.winzip.com/win/en/gz-file.html) you may need to specify the keyword `compression` when calling the `.read_csv` method.\n",
    ">  - `header` can be specified as the CSV has no column names. \n",
    "\n"
   ]
  },
  {
   "cell_type": "code",
   "execution_count": 54,
   "metadata": {},
   "outputs": [],
   "source": [
    "import pandas as pd"
   ]
  },
  {
   "cell_type": "code",
   "execution_count": 55,
   "metadata": {
    "nbgrader": {
     "grade": false,
     "grade_id": "problem_041",
     "locked": false,
     "schema_version": 3,
     "solution": true,
     "task": false
    }
   },
   "outputs": [],
   "source": [
    "### BEGIN SOLUTION\n"
   ]
  },
  {
   "cell_type": "markdown",
   "metadata": {
    "slideshow": {
     "slide_type": "fragment"
    }
   },
   "source": [
    "## Selecting Rows and Columns\n",
    "\n",
    "In pandas there are two canonical ways of accessing subsets of a dataframe.\n",
    "- The `iloc` attribute: access rows and columns using integer indices (like a list).\n",
    "- The `loc` attribute: access rows and columns using immutable keys, e.g. numbers, strings (like a dictionary).\n",
    "\n",
    "In what follows we will describe some different way of selection using `.iloc` and `.loc` as well as a simpler way of simply accesing the dataframe using `[]`. The different ways are meant to give you an overview. \n",
    " \n",
    "#### Using list of keys/indices\n",
    "\n",
    "Below is an example of using the `iloc` attribute to select specific rows:"
   ]
  },
  {
   "cell_type": "code",
   "execution_count": 56,
   "metadata": {},
   "outputs": [
    {
     "data": {
      "text/html": [
       "<div>\n",
       "<style scoped>\n",
       "    .dataframe tbody tr th:only-of-type {\n",
       "        vertical-align: middle;\n",
       "    }\n",
       "\n",
       "    .dataframe tbody tr th {\n",
       "        vertical-align: top;\n",
       "    }\n",
       "\n",
       "    .dataframe thead th {\n",
       "        text-align: right;\n",
       "    }\n",
       "</style>\n",
       "<table border=\"1\" class=\"dataframe\">\n",
       "  <thead>\n",
       "    <tr style=\"text-align: right;\">\n",
       "      <th></th>\n",
       "      <th>A</th>\n",
       "      <th>B</th>\n",
       "    </tr>\n",
       "  </thead>\n",
       "  <tbody>\n",
       "    <tr>\n",
       "      <th>i</th>\n",
       "      <td>1</td>\n",
       "      <td>2</td>\n",
       "    </tr>\n",
       "    <tr>\n",
       "      <th>ii</th>\n",
       "      <td>3</td>\n",
       "      <td>4</td>\n",
       "    </tr>\n",
       "    <tr>\n",
       "      <th>iii</th>\n",
       "      <td>5</td>\n",
       "      <td>6</td>\n",
       "    </tr>\n",
       "    <tr>\n",
       "      <th>iv</th>\n",
       "      <td>7</td>\n",
       "      <td>8</td>\n",
       "    </tr>\n",
       "  </tbody>\n",
       "</table>\n",
       "</div>"
      ],
      "text/plain": [
       "     A  B\n",
       "i    1  2\n",
       "ii   3  4\n",
       "iii  5  6\n",
       "iv   7  8"
      ]
     },
     "execution_count": 56,
     "metadata": {},
     "output_type": "execute_result"
    }
   ],
   "source": [
    "df1 # show df1 before indexing it with .iloc[]"
   ]
  },
  {
   "cell_type": "code",
   "execution_count": 57,
   "metadata": {
    "slideshow": {
     "slide_type": "-"
    }
   },
   "outputs": [
    {
     "data": {
      "text/html": [
       "<div>\n",
       "<style scoped>\n",
       "    .dataframe tbody tr th:only-of-type {\n",
       "        vertical-align: middle;\n",
       "    }\n",
       "\n",
       "    .dataframe tbody tr th {\n",
       "        vertical-align: top;\n",
       "    }\n",
       "\n",
       "    .dataframe thead th {\n",
       "        text-align: right;\n",
       "    }\n",
       "</style>\n",
       "<table border=\"1\" class=\"dataframe\">\n",
       "  <thead>\n",
       "    <tr style=\"text-align: right;\">\n",
       "      <th></th>\n",
       "      <th>A</th>\n",
       "      <th>B</th>\n",
       "    </tr>\n",
       "  </thead>\n",
       "  <tbody>\n",
       "    <tr>\n",
       "      <th>i</th>\n",
       "      <td>1</td>\n",
       "      <td>2</td>\n",
       "    </tr>\n",
       "    <tr>\n",
       "      <th>iv</th>\n",
       "      <td>7</td>\n",
       "      <td>8</td>\n",
       "    </tr>\n",
       "  </tbody>\n",
       "</table>\n",
       "</div>"
      ],
      "text/plain": [
       "    A  B\n",
       "i   1  2\n",
       "iv  7  8"
      ]
     },
     "execution_count": 57,
     "metadata": {},
     "output_type": "execute_result"
    }
   ],
   "source": [
    "my_irows = [0, 3]\n",
    "df1.iloc[my_irows]"
   ]
  },
  {
   "cell_type": "markdown",
   "metadata": {
    "slideshow": {
     "slide_type": "fragment"
    }
   },
   "source": [
    "We can select columns and rows simultaneously. Below is an example of using the `loc` attribute, which does that:"
   ]
  },
  {
   "cell_type": "code",
   "execution_count": 58,
   "metadata": {
    "slideshow": {
     "slide_type": "-"
    }
   },
   "outputs": [
    {
     "data": {
      "text/html": [
       "<div>\n",
       "<style scoped>\n",
       "    .dataframe tbody tr th:only-of-type {\n",
       "        vertical-align: middle;\n",
       "    }\n",
       "\n",
       "    .dataframe tbody tr th {\n",
       "        vertical-align: top;\n",
       "    }\n",
       "\n",
       "    .dataframe thead th {\n",
       "        text-align: right;\n",
       "    }\n",
       "</style>\n",
       "<table border=\"1\" class=\"dataframe\">\n",
       "  <thead>\n",
       "    <tr style=\"text-align: right;\">\n",
       "      <th></th>\n",
       "      <th>A</th>\n",
       "    </tr>\n",
       "  </thead>\n",
       "  <tbody>\n",
       "    <tr>\n",
       "      <th>i</th>\n",
       "      <td>1</td>\n",
       "    </tr>\n",
       "    <tr>\n",
       "      <th>iii</th>\n",
       "      <td>5</td>\n",
       "    </tr>\n",
       "  </tbody>\n",
       "</table>\n",
       "</div>"
      ],
      "text/plain": [
       "     A\n",
       "i    1\n",
       "iii  5"
      ]
     },
     "execution_count": 58,
     "metadata": {},
     "output_type": "execute_result"
    }
   ],
   "source": [
    "my_rows = ['i', 'iii']\n",
    "my_cols = ['A']\n",
    "df1.loc[my_rows, my_cols]"
   ]
  },
  {
   "cell_type": "markdown",
   "metadata": {},
   "source": [
    "#### Using thresholds\n",
    "We can also use `iloc` and `loc` for selecting rows and/or columns below or above some treshold, see below. Note that whether or not the `:` is on front determines whether it is above or below."
   ]
  },
  {
   "cell_type": "code",
   "execution_count": 59,
   "metadata": {},
   "outputs": [
    {
     "data": {
      "text/html": [
       "<div>\n",
       "<style scoped>\n",
       "    .dataframe tbody tr th:only-of-type {\n",
       "        vertical-align: middle;\n",
       "    }\n",
       "\n",
       "    .dataframe tbody tr th {\n",
       "        vertical-align: top;\n",
       "    }\n",
       "\n",
       "    .dataframe thead th {\n",
       "        text-align: right;\n",
       "    }\n",
       "</style>\n",
       "<table border=\"1\" class=\"dataframe\">\n",
       "  <thead>\n",
       "    <tr style=\"text-align: right;\">\n",
       "      <th></th>\n",
       "      <th>A</th>\n",
       "      <th>B</th>\n",
       "      <th>C</th>\n",
       "      <th>D</th>\n",
       "    </tr>\n",
       "  </thead>\n",
       "  <tbody>\n",
       "    <tr>\n",
       "      <th>0</th>\n",
       "      <td>0.120631</td>\n",
       "      <td>0.894828</td>\n",
       "      <td>0.797189</td>\n",
       "      <td>0.091109</td>\n",
       "    </tr>\n",
       "    <tr>\n",
       "      <th>1</th>\n",
       "      <td>0.741095</td>\n",
       "      <td>0.809830</td>\n",
       "      <td>0.906311</td>\n",
       "      <td>0.051057</td>\n",
       "    </tr>\n",
       "    <tr>\n",
       "      <th>2</th>\n",
       "      <td>0.217593</td>\n",
       "      <td>0.214831</td>\n",
       "      <td>0.922281</td>\n",
       "      <td>0.558786</td>\n",
       "    </tr>\n",
       "  </tbody>\n",
       "</table>\n",
       "</div>"
      ],
      "text/plain": [
       "          A         B         C         D\n",
       "0  0.120631  0.894828  0.797189  0.091109\n",
       "1  0.741095  0.809830  0.906311  0.051057\n",
       "2  0.217593  0.214831  0.922281  0.558786"
      ]
     },
     "execution_count": 59,
     "metadata": {},
     "output_type": "execute_result"
    }
   ],
   "source": [
    "df2.iloc[:3, :4]"
   ]
  },
  {
   "cell_type": "markdown",
   "metadata": {},
   "source": [
    "#### Using boolean data\n",
    "If we provide the dataframe with a boolean, it will select rows (also works with `iloc` and `loc`). We will see soon that this is an extremely useful way of selecting certain rows."
   ]
  },
  {
   "cell_type": "code",
   "execution_count": 60,
   "metadata": {},
   "outputs": [
    {
     "data": {
      "text/html": [
       "<div>\n",
       "<style scoped>\n",
       "    .dataframe tbody tr th:only-of-type {\n",
       "        vertical-align: middle;\n",
       "    }\n",
       "\n",
       "    .dataframe tbody tr th {\n",
       "        vertical-align: top;\n",
       "    }\n",
       "\n",
       "    .dataframe thead th {\n",
       "        text-align: right;\n",
       "    }\n",
       "</style>\n",
       "<table border=\"1\" class=\"dataframe\">\n",
       "  <thead>\n",
       "    <tr style=\"text-align: right;\">\n",
       "      <th></th>\n",
       "      <th>A</th>\n",
       "      <th>B</th>\n",
       "      <th>C</th>\n",
       "      <th>D</th>\n",
       "      <th>E</th>\n",
       "    </tr>\n",
       "  </thead>\n",
       "  <tbody>\n",
       "    <tr>\n",
       "      <th>0</th>\n",
       "      <td>0.120631</td>\n",
       "      <td>0.894828</td>\n",
       "      <td>0.797189</td>\n",
       "      <td>0.091109</td>\n",
       "      <td>0.134574</td>\n",
       "    </tr>\n",
       "    <tr>\n",
       "      <th>3</th>\n",
       "      <td>0.821169</td>\n",
       "      <td>0.762247</td>\n",
       "      <td>0.777922</td>\n",
       "      <td>0.973012</td>\n",
       "      <td>0.756787</td>\n",
       "    </tr>\n",
       "  </tbody>\n",
       "</table>\n",
       "</div>"
      ],
      "text/plain": [
       "          A         B         C         D         E\n",
       "0  0.120631  0.894828  0.797189  0.091109  0.134574\n",
       "3  0.821169  0.762247  0.777922  0.973012  0.756787"
      ]
     },
     "execution_count": 60,
     "metadata": {},
     "output_type": "execute_result"
    }
   ],
   "source": [
    "df3[[True, False, False, True]]"
   ]
  },
  {
   "cell_type": "markdown",
   "metadata": {},
   "source": [
    "#### Selecting columns\n",
    "\n",
    "Often we need to select specific columns. If we provide the dataframe with a list of column names it will make a dataframe keep only these columns:"
   ]
  },
  {
   "cell_type": "code",
   "execution_count": 61,
   "metadata": {},
   "outputs": [
    {
     "data": {
      "text/html": [
       "<div>\n",
       "<style scoped>\n",
       "    .dataframe tbody tr th:only-of-type {\n",
       "        vertical-align: middle;\n",
       "    }\n",
       "\n",
       "    .dataframe tbody tr th {\n",
       "        vertical-align: top;\n",
       "    }\n",
       "\n",
       "    .dataframe thead th {\n",
       "        text-align: right;\n",
       "    }\n",
       "</style>\n",
       "<table border=\"1\" class=\"dataframe\">\n",
       "  <thead>\n",
       "    <tr style=\"text-align: right;\">\n",
       "      <th></th>\n",
       "      <th>B</th>\n",
       "      <th>D</th>\n",
       "    </tr>\n",
       "  </thead>\n",
       "  <tbody>\n",
       "    <tr>\n",
       "      <th>0</th>\n",
       "      <td>0.894828</td>\n",
       "      <td>0.091109</td>\n",
       "    </tr>\n",
       "    <tr>\n",
       "      <th>1</th>\n",
       "      <td>0.809830</td>\n",
       "      <td>0.051057</td>\n",
       "    </tr>\n",
       "    <tr>\n",
       "      <th>2</th>\n",
       "      <td>0.214831</td>\n",
       "      <td>0.558786</td>\n",
       "    </tr>\n",
       "    <tr>\n",
       "      <th>3</th>\n",
       "      <td>0.762247</td>\n",
       "      <td>0.973012</td>\n",
       "    </tr>\n",
       "  </tbody>\n",
       "</table>\n",
       "</div>"
      ],
      "text/plain": [
       "          B         D\n",
       "0  0.894828  0.091109\n",
       "1  0.809830  0.051057\n",
       "2  0.214831  0.558786\n",
       "3  0.762247  0.973012"
      ]
     },
     "execution_count": 61,
     "metadata": {},
     "output_type": "execute_result"
    }
   ],
   "source": [
    "df3[['B', 'D']]"
   ]
  },
  {
   "cell_type": "markdown",
   "metadata": {
    "nbgrader": {
     "grade": false,
     "grade_id": "cell-d06f35bef661c21e",
     "locked": true,
     "schema_version": 3,
     "solution": false,
     "task": false
    }
   },
   "source": [
    "### Problem 4.2\n",
    "\n",
    "> **Ex 4.2:** Select the *four* left-most columns which contain: station identifier, data, observation type, observation value. Rename them as *'station', 'datetime', 'obs_type', 'obs_value'*. \n",
    "\n",
    "> *Hint:* Renaming can be done with `df.columns = cols` where `cols` is a list of column names.\n"
   ]
  },
  {
   "cell_type": "code",
   "execution_count": 62,
   "metadata": {
    "nbgrader": {
     "grade": false,
     "grade_id": "problem_042",
     "locked": false,
     "schema_version": 3,
     "solution": true,
     "task": false
    }
   },
   "outputs": [],
   "source": [
    "### BEGIN SOLUTION\n"
   ]
  },
  {
   "cell_type": "markdown",
   "metadata": {},
   "source": [
    "## Basic Operations \n",
    "\n",
    "How do we perform elementary operations like we learned for basic Python? E.g. numeric operations such as summation (`+`) or logical operations such as greater than (`>`). Actually we are in luck - they are exactly the same. \n",
    "\n",
    "Let's see how it works for numeric data using a numpy array (works the same way as Pandas)."
   ]
  },
  {
   "cell_type": "code",
   "execution_count": 63,
   "metadata": {
    "slideshow": {
     "slide_type": "-"
    }
   },
   "outputs": [
    {
     "data": {
      "text/plain": [
       "array([4, 9, 4, 1, 1])"
      ]
     },
     "execution_count": 63,
     "metadata": {},
     "output_type": "execute_result"
    }
   ],
   "source": [
    "my_arr1 = np.array([2, 3, 2, 1, 1])\n",
    "my_arr2 = my_arr1 ** 2\n",
    "my_arr2"
   ]
  },
  {
   "cell_type": "markdown",
   "metadata": {
    "slideshow": {
     "slide_type": "slide"
    }
   },
   "source": [
    "*Can we do the same with two vectors?* Yes, we can also do elementwise addition, multiplication, subtractions etc. of series. Example: "
   ]
  },
  {
   "cell_type": "code",
   "execution_count": 64,
   "metadata": {
    "slideshow": {
     "slide_type": "fragment"
    }
   },
   "outputs": [
    {
     "data": {
      "text/plain": [
       "array([ 6, 12,  6,  2,  2])"
      ]
     },
     "execution_count": 64,
     "metadata": {},
     "output_type": "execute_result"
    }
   ],
   "source": [
    "my_arr1 + my_arr2"
   ]
  },
  {
   "cell_type": "markdown",
   "metadata": {
    "slideshow": {
     "slide_type": "fragment"
    }
   },
   "source": [
    "## Changing and Copying Data\n",
    "\n",
    "Everything in the dataframe can be changed. For instance, we can also update our dataframe with new values, e.g. by making new variables or overwriting existing ones. In the example below we add a new column to add a DataFrame. "
   ]
  },
  {
   "cell_type": "code",
   "execution_count": 65,
   "metadata": {},
   "outputs": [
    {
     "data": {
      "text/html": [
       "<div>\n",
       "<style scoped>\n",
       "    .dataframe tbody tr th:only-of-type {\n",
       "        vertical-align: middle;\n",
       "    }\n",
       "\n",
       "    .dataframe tbody tr th {\n",
       "        vertical-align: top;\n",
       "    }\n",
       "\n",
       "    .dataframe thead th {\n",
       "        text-align: right;\n",
       "    }\n",
       "</style>\n",
       "<table border=\"1\" class=\"dataframe\">\n",
       "  <thead>\n",
       "    <tr style=\"text-align: right;\">\n",
       "      <th></th>\n",
       "      <th>A</th>\n",
       "      <th>B</th>\n",
       "      <th>C</th>\n",
       "      <th>D</th>\n",
       "      <th>E</th>\n",
       "      <th>F</th>\n",
       "    </tr>\n",
       "  </thead>\n",
       "  <tbody>\n",
       "    <tr>\n",
       "      <th>0</th>\n",
       "      <td>0.120631</td>\n",
       "      <td>0.894828</td>\n",
       "      <td>0.797189</td>\n",
       "      <td>0.091109</td>\n",
       "      <td>0.134574</td>\n",
       "      <td>True</td>\n",
       "    </tr>\n",
       "    <tr>\n",
       "      <th>1</th>\n",
       "      <td>0.741095</td>\n",
       "      <td>0.809830</td>\n",
       "      <td>0.906311</td>\n",
       "      <td>0.051057</td>\n",
       "      <td>0.190558</td>\n",
       "      <td>True</td>\n",
       "    </tr>\n",
       "    <tr>\n",
       "      <th>2</th>\n",
       "      <td>0.217593</td>\n",
       "      <td>0.214831</td>\n",
       "      <td>0.922281</td>\n",
       "      <td>0.558786</td>\n",
       "      <td>0.728655</td>\n",
       "      <td>False</td>\n",
       "    </tr>\n",
       "    <tr>\n",
       "      <th>3</th>\n",
       "      <td>0.821169</td>\n",
       "      <td>0.762247</td>\n",
       "      <td>0.777922</td>\n",
       "      <td>0.973012</td>\n",
       "      <td>0.756787</td>\n",
       "      <td>False</td>\n",
       "    </tr>\n",
       "    <tr>\n",
       "      <th>4</th>\n",
       "      <td>0.816527</td>\n",
       "      <td>0.297157</td>\n",
       "      <td>0.521235</td>\n",
       "      <td>0.616021</td>\n",
       "      <td>0.743572</td>\n",
       "      <td>True</td>\n",
       "    </tr>\n",
       "    <tr>\n",
       "      <th>5</th>\n",
       "      <td>0.145407</td>\n",
       "      <td>0.042439</td>\n",
       "      <td>0.326667</td>\n",
       "      <td>0.419953</td>\n",
       "      <td>0.199158</td>\n",
       "      <td>False</td>\n",
       "    </tr>\n",
       "    <tr>\n",
       "      <th>6</th>\n",
       "      <td>0.432879</td>\n",
       "      <td>0.164140</td>\n",
       "      <td>0.773915</td>\n",
       "      <td>0.391000</td>\n",
       "      <td>0.390303</td>\n",
       "      <td>True</td>\n",
       "    </tr>\n",
       "    <tr>\n",
       "      <th>7</th>\n",
       "      <td>0.767490</td>\n",
       "      <td>0.436440</td>\n",
       "      <td>0.456701</td>\n",
       "      <td>0.295669</td>\n",
       "      <td>0.371493</td>\n",
       "      <td>True</td>\n",
       "    </tr>\n",
       "    <tr>\n",
       "      <th>8</th>\n",
       "      <td>0.878475</td>\n",
       "      <td>0.463741</td>\n",
       "      <td>0.707059</td>\n",
       "      <td>0.313607</td>\n",
       "      <td>0.993167</td>\n",
       "      <td>True</td>\n",
       "    </tr>\n",
       "    <tr>\n",
       "      <th>9</th>\n",
       "      <td>0.603135</td>\n",
       "      <td>0.075850</td>\n",
       "      <td>0.373057</td>\n",
       "      <td>0.238297</td>\n",
       "      <td>0.751641</td>\n",
       "      <td>True</td>\n",
       "    </tr>\n",
       "  </tbody>\n",
       "</table>\n",
       "</div>"
      ],
      "text/plain": [
       "          A         B         C         D         E      F\n",
       "0  0.120631  0.894828  0.797189  0.091109  0.134574   True\n",
       "1  0.741095  0.809830  0.906311  0.051057  0.190558   True\n",
       "2  0.217593  0.214831  0.922281  0.558786  0.728655  False\n",
       "3  0.821169  0.762247  0.777922  0.973012  0.756787  False\n",
       "4  0.816527  0.297157  0.521235  0.616021  0.743572   True\n",
       "5  0.145407  0.042439  0.326667  0.419953  0.199158  False\n",
       "6  0.432879  0.164140  0.773915  0.391000  0.390303   True\n",
       "7  0.767490  0.436440  0.456701  0.295669  0.371493   True\n",
       "8  0.878475  0.463741  0.707059  0.313607  0.993167   True\n",
       "9  0.603135  0.075850  0.373057  0.238297  0.751641   True"
      ]
     },
     "execution_count": 65,
     "metadata": {},
     "output_type": "execute_result"
    }
   ],
   "source": [
    "df2['F'] = df2['A'] > df2['D']\n",
    "df2.head(10)"
   ]
  },
  {
   "cell_type": "markdown",
   "metadata": {},
   "source": [
    "**<font color=\"red\">WARNING!</font>**: If you work on a subset of data from another dataframe, then this dataframe is what is known as a *view*! Therefore, all changes made in the view will also be made in the original version. \n",
    "\n",
    "In the example below, we try to change the dataframe `df2` which is a view of `df3`, and we get a *warning*. Thus, changes to `df3` also happen in `df2`. Notice that we can also use `loc` for changing the data."
   ]
  },
  {
   "cell_type": "code",
   "execution_count": 66,
   "metadata": {},
   "outputs": [
    {
     "name": "stdout",
     "output_type": "stream",
     "text": [
      "0   -0.013944\n",
      "1    0.550537\n",
      "2   -0.511063\n",
      "Name: D, dtype: float64 \n",
      "\n",
      "0   -0.013944\n",
      "1    0.550537\n",
      "2   -0.511063\n",
      "Name: D, dtype: float64\n"
     ]
    },
    {
     "name": "stderr",
     "output_type": "stream",
     "text": [
      "C:\\Users\\wkg579\\AppData\\Local\\Temp\\ipykernel_5704\\2462267356.py:1: SettingWithCopyWarning: \n",
      "A value is trying to be set on a copy of a slice from a DataFrame.\n",
      "Try using .loc[row_indexer,col_indexer] = value instead\n",
      "\n",
      "See the caveats in the documentation: https://pandas.pydata.org/pandas-docs/stable/user_guide/indexing.html#returning-a-view-versus-a-copy\n",
      "  df3.loc[:,'D'] = df3['A'] - df3['E']\n"
     ]
    }
   ],
   "source": [
    "df3.loc[:,'D'] = df3['A'] - df3['E']\n",
    "print(df2['D'].head(3), '\\n')\n",
    "print(df3['D'].head(3))"
   ]
  },
  {
   "cell_type": "markdown",
   "metadata": {},
   "source": [
    "To avoid the problem of having a *view*, we can instead *copy* the data as in the example below. Try to verify that if you change things in `df4` things do not change in `df2`."
   ]
  },
  {
   "cell_type": "code",
   "execution_count": 67,
   "metadata": {},
   "outputs": [],
   "source": [
    "df4 = df2.copy()"
   ]
  },
  {
   "cell_type": "code",
   "execution_count": 68,
   "metadata": {},
   "outputs": [],
   "source": [
    "# Verify that the code from above doesn't throw the same \"SettingWithCopyWarning\" \n",
    "# when using the copied dataframe, df4, instead of df3.\n",
    "df4.loc[:, 'D'] = df4['A'] - df4['E']"
   ]
  },
  {
   "cell_type": "markdown",
   "metadata": {
    "nbgrader": {
     "grade": false,
     "grade_id": "cell-80e9e149602c985b",
     "locked": true,
     "schema_version": 3,
     "solution": false,
     "task": false
    }
   },
   "source": [
    "### Problem 4.3\n",
    "\n",
    "> **Ex. 4.3:**  Further, select the subset of data for the station `UK000056225` and only observations for maximal temperature. Make a copy of the DataFrame and store this in the variable `df_select`. Explain in a one or two sentences how copying works. Write your answer in a multi line comment like `\"\"\" Your answer here \"\"\"`.\n",
    "\n",
    "> *Hint*: The `&` operator works elementwise on boolean series (like `and` in core python). This allows to combine conditions for selections."
   ]
  },
  {
   "cell_type": "code",
   "execution_count": 69,
   "metadata": {
    "nbgrader": {
     "grade": false,
     "grade_id": "problem_043",
     "locked": false,
     "schema_version": 3,
     "solution": true,
     "task": false
    }
   },
   "outputs": [],
   "source": [
    "### BEGIN SOLUTION\n"
   ]
  },
  {
   "cell_type": "markdown",
   "metadata": {
    "nbgrader": {
     "grade": false,
     "grade_id": "cell-29b9cf9eca9bf7d1",
     "locked": true,
     "schema_version": 3,
     "solution": false,
     "task": false
    }
   },
   "source": [
    "### Problem 4.4\n",
    "\n",
    "> **Ex 4.4:** Make sure that max temperature is correctly formated (how many decimals should we add? one? Look through this .txt file for an answer https://www1.ncdc.noaa.gov/pub/data/ghcn/daily/readme.txt). Make a new column called `TMAX_F` where you have converted the temperature variables to Fahrenheit.\n",
    "\n",
    "> *Hint*: Conversion is $F = 32 + 1.8*C$ where $F$ is Fahrenheit and $C$ is Celsius."
   ]
  },
  {
   "cell_type": "code",
   "execution_count": 70,
   "metadata": {
    "nbgrader": {
     "grade": false,
     "grade_id": "problem_044",
     "locked": false,
     "schema_version": 3,
     "solution": true,
     "task": false
    }
   },
   "outputs": [],
   "source": [
    "### BEGIN SOLUTION\n"
   ]
  },
  {
   "cell_type": "markdown",
   "metadata": {},
   "source": [
    "## Changing and Rearranging Indices"
   ]
  },
  {
   "cell_type": "markdown",
   "metadata": {},
   "source": [
    "In addition to replacing values of our data, we can also rearrange the order of variables and rows as well as make new ones. We have already seen how to change column names but we can also reset the index, as seen below. Alternatively, we can set our own custom index using [`set_index`](https://pandas.pydata.org/pandas-docs/stable/reference/api/pandas.DataFrame.set_index.html), with temporal data etc. which provides the DataFrame with new functionality."
   ]
  },
  {
   "cell_type": "code",
   "execution_count": 71,
   "metadata": {},
   "outputs": [
    {
     "data": {
      "text/html": [
       "<div>\n",
       "<style scoped>\n",
       "    .dataframe tbody tr th:only-of-type {\n",
       "        vertical-align: middle;\n",
       "    }\n",
       "\n",
       "    .dataframe tbody tr th {\n",
       "        vertical-align: top;\n",
       "    }\n",
       "\n",
       "    .dataframe thead th {\n",
       "        text-align: right;\n",
       "    }\n",
       "</style>\n",
       "<table border=\"1\" class=\"dataframe\">\n",
       "  <thead>\n",
       "    <tr style=\"text-align: right;\">\n",
       "      <th></th>\n",
       "      <th>A</th>\n",
       "      <th>B</th>\n",
       "    </tr>\n",
       "  </thead>\n",
       "  <tbody>\n",
       "    <tr>\n",
       "      <th>0</th>\n",
       "      <td>1</td>\n",
       "      <td>2</td>\n",
       "    </tr>\n",
       "    <tr>\n",
       "      <th>1</th>\n",
       "      <td>3</td>\n",
       "      <td>4</td>\n",
       "    </tr>\n",
       "    <tr>\n",
       "      <th>2</th>\n",
       "      <td>5</td>\n",
       "      <td>6</td>\n",
       "    </tr>\n",
       "    <tr>\n",
       "      <th>3</th>\n",
       "      <td>7</td>\n",
       "      <td>8</td>\n",
       "    </tr>\n",
       "  </tbody>\n",
       "</table>\n",
       "</div>"
      ],
      "text/plain": [
       "   A  B\n",
       "0  1  2\n",
       "1  3  4\n",
       "2  5  6\n",
       "3  7  8"
      ]
     },
     "execution_count": 71,
     "metadata": {},
     "output_type": "execute_result"
    }
   ],
   "source": [
    "df1_new_index = df1.reset_index(drop=True)\n",
    "df1_new_index"
   ]
  },
  {
   "cell_type": "markdown",
   "metadata": {},
   "source": [
    "A powerful tool for re-organizing the data is to `sort` the data. That is, we can re-organize rows (or columns) such that they are ascending or descending according to one or more columns."
   ]
  },
  {
   "cell_type": "code",
   "execution_count": 72,
   "metadata": {},
   "outputs": [
    {
     "data": {
      "text/html": [
       "<div>\n",
       "<style scoped>\n",
       "    .dataframe tbody tr th:only-of-type {\n",
       "        vertical-align: middle;\n",
       "    }\n",
       "\n",
       "    .dataframe tbody tr th {\n",
       "        vertical-align: top;\n",
       "    }\n",
       "\n",
       "    .dataframe thead th {\n",
       "        text-align: right;\n",
       "    }\n",
       "</style>\n",
       "<table border=\"1\" class=\"dataframe\">\n",
       "  <thead>\n",
       "    <tr style=\"text-align: right;\">\n",
       "      <th></th>\n",
       "      <th>A</th>\n",
       "      <th>B</th>\n",
       "      <th>C</th>\n",
       "      <th>D</th>\n",
       "      <th>E</th>\n",
       "    </tr>\n",
       "  </thead>\n",
       "  <tbody>\n",
       "    <tr>\n",
       "      <th>0</th>\n",
       "      <td>0.120631</td>\n",
       "      <td>0.894828</td>\n",
       "      <td>0.797189</td>\n",
       "      <td>-0.013944</td>\n",
       "      <td>0.134574</td>\n",
       "    </tr>\n",
       "    <tr>\n",
       "      <th>2</th>\n",
       "      <td>0.217593</td>\n",
       "      <td>0.214831</td>\n",
       "      <td>0.922281</td>\n",
       "      <td>-0.511063</td>\n",
       "      <td>0.728655</td>\n",
       "    </tr>\n",
       "    <tr>\n",
       "      <th>1</th>\n",
       "      <td>0.741095</td>\n",
       "      <td>0.809830</td>\n",
       "      <td>0.906311</td>\n",
       "      <td>0.550537</td>\n",
       "      <td>0.190558</td>\n",
       "    </tr>\n",
       "    <tr>\n",
       "      <th>3</th>\n",
       "      <td>0.821169</td>\n",
       "      <td>0.762247</td>\n",
       "      <td>0.777922</td>\n",
       "      <td>0.064383</td>\n",
       "      <td>0.756787</td>\n",
       "    </tr>\n",
       "  </tbody>\n",
       "</table>\n",
       "</div>"
      ],
      "text/plain": [
       "          A         B         C         D         E\n",
       "0  0.120631  0.894828  0.797189 -0.013944  0.134574\n",
       "2  0.217593  0.214831  0.922281 -0.511063  0.728655\n",
       "1  0.741095  0.809830  0.906311  0.550537  0.190558\n",
       "3  0.821169  0.762247  0.777922  0.064383  0.756787"
      ]
     },
     "execution_count": 72,
     "metadata": {},
     "output_type": "execute_result"
    }
   ],
   "source": [
    "df3_sorted = df3.sort_values(by=['A','B'], ascending=True)\n",
    "df3_sorted"
   ]
  },
  {
   "cell_type": "markdown",
   "metadata": {
    "nbgrader": {
     "grade": false,
     "grade_id": "cell-943bb851b2fda450",
     "locked": true,
     "schema_version": 3,
     "solution": false,
     "task": false
    }
   },
   "source": [
    "### Problem 4.5\n",
    "> **Ex 4.5:**  Inspect the indices in `df_select`. Are they following the sequence of natural numbers, 0,1,2,...? If not, reset the index and make sure to drop the old."
   ]
  },
  {
   "cell_type": "code",
   "execution_count": 73,
   "metadata": {
    "nbgrader": {
     "grade": false,
     "grade_id": "problem_045",
     "locked": false,
     "schema_version": 3,
     "solution": true,
     "task": false
    }
   },
   "outputs": [],
   "source": [
    "### BEGIN SOLUTION"
   ]
  },
  {
   "cell_type": "markdown",
   "metadata": {
    "nbgrader": {
     "grade": false,
     "grade_id": "cell-9ce1b7a6c622b8ab",
     "locked": true,
     "schema_version": 3,
     "solution": false,
     "task": false
    }
   },
   "source": [
    "### Problem 4.6\n",
    "\n",
    "> **Ex 4.6:** Make a new DataFrame `df_sorted` where you have sorted by the maximum temperature. What is the date for the first and last observations?"
   ]
  },
  {
   "cell_type": "code",
   "execution_count": 74,
   "metadata": {
    "nbgrader": {
     "grade": false,
     "grade_id": "problem_046",
     "locked": false,
     "schema_version": 3,
     "solution": true,
     "task": false
    }
   },
   "outputs": [],
   "source": [
    "### BEGIN SOLUTION"
   ]
  },
  {
   "cell_type": "markdown",
   "metadata": {},
   "source": [
    "# 5 Pandas with datetimes and aggregations (OPTIONAL)"
   ]
  },
  {
   "cell_type": "markdown",
   "metadata": {},
   "source": [
    "Pandas supports many more functions, many of which are covered in the Python for Data Analysis (PDA) book. These could be things such as more data cleaning ([PDA chapter 7](https://wesmckinney.com/book/data-cleaning.html)) merging and joining ([PDA chapter 8](https://wesmckinney.com/book/data-wrangling.html)), groupby functionality ([PDA chapter 10](https://wesmckinney.com/book/data-aggregation.html)), datetimes ([PDA chapter 11](https://wesmckinney.com/book/time-series.html)) and more. \n"
   ]
  },
  {
   "cell_type": "markdown",
   "metadata": {},
   "source": [
    "### Problem 5.1\n",
    "\n",
    "When working with datetimes, it is common to get them as pure strings from the data source. In the weather data, it is a string of the format YYYYMMDD, which can be converted to a date pandas understands using the pandas functionality `to_datetime()`, with documentation [here](https://pandas.pydata.org/docs/reference/api/pandas.to_datetime.html).\n",
    "\n",
    "> **Ex 5.1:** Convert the string date to a pandas date and add this to a new column called `datetime_dt`. \n",
    "\n",
    "> Hint: When converting string dates to pandas dates, it is always wise to specify the format. PDA has a [table with format information](https://wesmckinney.com/book/time-series.html#tbl-table_datetime_formatting)"
   ]
  },
  {
   "cell_type": "code",
   "execution_count": 75,
   "metadata": {},
   "outputs": [],
   "source": [
    "### BEGIN SOLUTION"
   ]
  },
  {
   "cell_type": "markdown",
   "metadata": {},
   "source": [
    "### Problem 5.2\n",
    "\n",
    "> **Ex 5.2:** Create a new column with the month of the observation\n",
    "\n",
    "> Hint: If a Series/column has a date in it, the datetime functionality can be accessed by calling .dt on it, which can be followed by further commands."
   ]
  },
  {
   "cell_type": "code",
   "execution_count": 76,
   "metadata": {},
   "outputs": [],
   "source": [
    "### BEGIN SOLUTION"
   ]
  },
  {
   "cell_type": "markdown",
   "metadata": {},
   "source": [
    "### Problem 5.3\n",
    "\n",
    "A very powerful method to analyse data is the split-apply-combine method. In pandas this corresponds to the [groupby](https://pandas.pydata.org/docs/reference/api/pandas.DataFrame.groupby.html) functionality.\n",
    "\n",
    "> **Ex 5.3:** Compute the mean and median maximum daily temperature for each month on the dataframe `df_select` using the _split-apply-combine_ procedure. Store the results in new columns `tmax_mean` and `tmax_median`.\n",
    "\n",
    "> *Hint*: The groupby functionality can be 'unwrapped' using the [transform method](https://wesmckinney.com/book/data-aggregation.html), such that it retains the original length. This is *very* handy when trying to create new columns, and not reporting statistics."
   ]
  },
  {
   "cell_type": "code",
   "execution_count": 77,
   "metadata": {},
   "outputs": [],
   "source": [
    "### BEGIN SOLUTION"
   ]
  },
  {
   "cell_type": "markdown",
   "metadata": {},
   "source": [
    "# 6 Linear regression with numpy (OPTIONAL)\n",
    "\n",
    "NOTE: If you previosly skipped `3.3`, `3.4` or `3.5`, you might benefit from completing these before continuing with this `numpy` section.\n",
    "\n",
    "Python supports all of the regular matrix computations, if one wishes to implement a predictor or estimator on their own. \n",
    "\n",
    "\n",
    "To showcase this, you will in this example be tasked to convert a subset of a DataFrame into a numpy array. Based on this, you can implement estimators such as the ordinary least squares estimator:\n",
    "\n",
    "$$\\hat \\beta = (X'X)^{-1}(X'y)$$\n",
    "\n",
    "To test this out, we will estimate how age, passenger class and fare influenced chance of survival for the passengers of Titanic."
   ]
  },
  {
   "cell_type": "markdown",
   "metadata": {},
   "source": [
    "### Problem 6.1\n",
    "\n",
    "> **Ex 6.1:** Load the `titanic` dataset from seaborn using the `load_dataset` function. Remove any rows with missing values.\n",
    "> \n",
    "> *Hint*: \n",
    "> - The dataset is aptly named `titanic`. \n",
    "> - `pandas` has a built-in function called `dropna`."
   ]
  },
  {
   "cell_type": "code",
   "execution_count": 78,
   "metadata": {},
   "outputs": [],
   "source": [
    "### BEGIN SOLUTION"
   ]
  },
  {
   "cell_type": "markdown",
   "metadata": {},
   "source": [
    "### Problem 6.2\n",
    "\n",
    "> **Ex 6.2:** Convert the columns `age`, `pclass` and `fare` to an array with dimensions `N*3` and the column `survived` to an array with dimensions `N*1`\n",
    "> \n",
    "> *Hint*: Try subsetting the data in the DataFrame and then converting it to an array"
   ]
  },
  {
   "cell_type": "code",
   "execution_count": 79,
   "metadata": {},
   "outputs": [],
   "source": [
    "### BEGIN SOLUTION"
   ]
  },
  {
   "cell_type": "markdown",
   "metadata": {},
   "source": [
    "### Problem 6.3\n",
    "\n",
    "> **Ex 6.3:** Implement the ordinary least squares estimator with no intercept using `numpy` \n",
    "> \n",
    "> *Hint*: `numpy` offers a lot of methods for arrays\n",
    ">   - [numpy.linalg](https://numpy.org/doc/stable/reference/routines.linalg.html) offers a lot of functionality for linear algebra\n",
    ">       - `@` calculates a dot-product\n",
    ">       - `inv` inverts a matrix\n",
    ">   - If you've imported `numpy` as `np`, these functions can be accessed as `np.linalg.function`\n",
    ">   - You can also import specific functions as `from numpy.linalg import function`\n",
    ">       - This can reduce the clutter in your code (e.g. `np.linalg.inv(X)` versus `inv(X)`)"
   ]
  },
  {
   "cell_type": "code",
   "execution_count": 80,
   "metadata": {},
   "outputs": [],
   "source": [
    "### BEGIN SOLUTION"
   ]
  }
 ],
 "metadata": {
  "celltoolbar": "Create Assignment",
  "kernelspec": {
   "display_name": "Python 3.10.4 ('vive_env')",
   "language": "python",
   "name": "python3"
  },
  "language_info": {
   "codemirror_mode": {
    "name": "ipython",
    "version": 3
   },
   "file_extension": ".py",
   "mimetype": "text/x-python",
   "name": "python",
   "nbconvert_exporter": "python",
   "pygments_lexer": "ipython3",
   "version": "3.10.4"
  },
  "varInspector": {
   "cols": {
    "lenName": 16,
    "lenType": 16,
    "lenVar": 40
   },
   "kernels_config": {
    "python": {
     "delete_cmd_postfix": "",
     "delete_cmd_prefix": "del ",
     "library": "var_list.py",
     "varRefreshCmd": "print(var_dic_list())"
    },
    "r": {
     "delete_cmd_postfix": ") ",
     "delete_cmd_prefix": "rm(",
     "library": "var_list.r",
     "varRefreshCmd": "cat(var_dic_list()) "
    }
   },
   "types_to_exclude": [
    "module",
    "function",
    "builtin_function_or_method",
    "instance",
    "_Feature"
   ],
   "window_display": false
  },
  "vscode": {
   "interpreter": {
    "hash": "50f1b660881291c5d31ad4d40c48915b3ef9364cc881d538585b11a7eb841304"
   }
  }
 },
 "nbformat": 4,
 "nbformat_minor": 4
}
