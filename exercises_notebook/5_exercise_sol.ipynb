{
 "cells": [
  {
   "attachments": {},
   "cell_type": "markdown",
   "metadata": {},
   "source": [
    "# Exercise Set 5: Unsupervised learning & Text as data\n",
    "\n",
    "In this exercise set, we will be looking at:\n",
    "\n",
    "1. Unsupervised learning, focusing on the canonical `Principal Component Analysis` and `K-means` for dimensionality reduction and clustering, respectively\n",
    "2. Text as data, focusing on `VADER` and `bag-of-words` models\n",
    "\n",
    "The focus in the first part is implementing the methods using `sklearn` and then how we can use and evaluate these methods. In the second part, we see how we can use text as both unsupervised input to dictionary based methods, but also how the more general `bag-of-words` models allow us to use text as regular tabular input."
   ]
  },
  {
   "attachments": {},
   "cell_type": "markdown",
   "metadata": {},
   "source": [
    "# Unsupervised learning\n",
    "\n",
    "The dataset we will be looking at this time is the *UCI ML Wine recognition dataset*. This features analysis of 178 wines from three different wine manufacturers, and as it is often used you will be able to find examples analyzing this online. Furthermore, this entails that we have a ground truth for our clustering algorithms, which is nice to know when getting started with clustering. As last time, you're welcome to use a dataset of your own.\n",
    "\n",
    "**Load data**\n",
    "\n",
    "Here we load our input data into a `DataFrame` called `X` and our target data into a `Series`"
   ]
  },
  {
   "cell_type": "code",
   "execution_count": 1,
   "metadata": {
    "ExecuteTime": {
     "end_time": "2020-02-25T12:18:56.210482Z",
     "start_time": "2020-02-25T12:18:55.219063Z"
    }
   },
   "outputs": [],
   "source": [
    "import matplotlib.pyplot as plt\n",
    "import numpy as np\n",
    "import pandas as pd\n",
    "\n",
    "from sklearn.datasets import load_wine\n",
    "\n",
    "# Get wine data\n",
    "data_wine = load_wine(as_frame=True)\n",
    "X = data_wine.data\n",
    "y = data_wine.target"
   ]
  },
  {
   "attachments": {},
   "cell_type": "markdown",
   "metadata": {},
   "source": [
    "Here we describe the data using both the documentation which came with the data, but also by computing summary statistics for the input data and value counts for the target. \n",
    "\n",
    "Consider whether the input features are measured on the same scale and whether the classes heavily skewed."
   ]
  },
  {
   "cell_type": "code",
   "execution_count": 2,
   "metadata": {},
   "outputs": [
    {
     "name": "stdout",
     "output_type": "stream",
     "text": [
      ".. _wine_dataset:\n",
      "\n",
      "Wine recognition dataset\n",
      "------------------------\n",
      "\n",
      "**Data Set Characteristics:**\n",
      "\n",
      "    :Number of Instances: 178\n",
      "    :Number of Attributes: 13 numeric, predictive attributes and the class\n",
      "    :Attribute Information:\n",
      " \t\t- Alcohol\n",
      " \t\t- Malic acid\n",
      " \t\t- Ash\n",
      "\t\t- Alcalinity of ash  \n",
      " \t\t- Magnesium\n",
      "\t\t- Total phenols\n",
      " \t\t- Flavanoids\n",
      " \t\t- Nonflavanoid phenols\n",
      " \t\t- Proanthocyanins\n",
      "\t\t- Color intensity\n",
      " \t\t- Hue\n",
      " \t\t- OD280/OD315 of diluted wines\n",
      " \t\t- Proline\n",
      "\n",
      "    - class:\n",
      "            - class_0\n",
      "            - class_1\n",
      "            - class_2\n",
      "\t\t\n",
      "    :Summary Statistics:\n",
      "    \n",
      "    ============================= ==== ===== ======= =====\n",
      "                                   Min   Max   Mean     SD\n",
      "    ============================= ==== ===== ======= =====\n",
      "    Alcohol:                      11.0  14.8    13.0   0.8\n",
      "    Malic Acid:                   0.74  5.80    2.34  1.12\n",
      "    Ash:                          1.36  3.23    2.36  0.27\n",
      "    Alcalinity of Ash:            10.6  30.0    19.5   3.3\n",
      "    Magnesium:                    70.0 162.0    99.7  14.3\n",
      "    Total Phenols:                0.98  3.88    2.29  0.63\n",
      "    Flavanoids:                   0.34  5.08    2.03  1.00\n",
      "    Nonflavanoid Phenols:         0.13  0.66    0.36  0.12\n",
      "    Proanthocyanins:              0.41  3.58    1.59  0.57\n",
      "    Colour Intensity:              1.3  13.0     5.1   2.3\n",
      "    Hue:                          0.48  1.71    0.96  0.23\n",
      "    OD280/OD315 of diluted wines: 1.27  4.00    2.61  0.71\n",
      "    Proline:                       278  1680     746   315\n",
      "    ============================= ==== ===== ======= =====\n",
      "\n",
      "    :Missing Attribute Values: None\n",
      "    :Class Distribution: class_0 (59), class_1 (71), class_2 (48)\n",
      "    :Creator: R.A. Fisher\n",
      "    :Donor: Michael Marshall (MARSHALL%PLU@io.arc.nasa.gov)\n",
      "    :Date: July, 1988\n",
      "\n",
      "This is a copy of UCI ML Wine recognition datasets.\n",
      "https://archive.ics.uci.edu/ml/machine-learning-databases/wine/wine.data\n",
      "\n",
      "The data is the results of a chemical analysis of wines grown in the same\n",
      "region in Italy by three different cultivators. There are thirteen different\n",
      "measurements taken for different constituents found in the three types of\n",
      "wine.\n",
      "\n",
      "Original Owners: \n",
      "\n",
      "Forina, M. et al, PARVUS - \n",
      "An Extendible Package for Data Exploration, Classification and Correlation. \n",
      "Institute of Pharmaceutical and Food Analysis and Technologies,\n",
      "Via Brigata Salerno, 16147 Genoa, Italy.\n",
      "\n",
      "Citation:\n",
      "\n",
      "Lichman, M. (2013). UCI Machine Learning Repository\n",
      "[https://archive.ics.uci.edu/ml]. Irvine, CA: University of California,\n",
      "School of Information and Computer Science. \n",
      "\n",
      ".. topic:: References\n",
      "\n",
      "  (1) S. Aeberhard, D. Coomans and O. de Vel, \n",
      "  Comparison of Classifiers in High Dimensional Settings, \n",
      "  Tech. Rep. no. 92-02, (1992), Dept. of Computer Science and Dept. of  \n",
      "  Mathematics and Statistics, James Cook University of North Queensland. \n",
      "  (Also submitted to Technometrics). \n",
      "\n",
      "  The data was used with many others for comparing various \n",
      "  classifiers. The classes are separable, though only RDA \n",
      "  has achieved 100% correct classification. \n",
      "  (RDA : 100%, QDA 99.4%, LDA 98.9%, 1NN 96.1% (z-transformed data)) \n",
      "  (All results using the leave-one-out technique) \n",
      "\n",
      "  (2) S. Aeberhard, D. Coomans and O. de Vel, \n",
      "  \"THE CLASSIFICATION PERFORMANCE OF RDA\" \n",
      "  Tech. Rep. no. 92-01, (1992), Dept. of Computer Science and Dept. of \n",
      "  Mathematics and Statistics, James Cook University of North Queensland. \n",
      "  (Also submitted to Journal of Chemometrics).\n",
      "\n"
     ]
    }
   ],
   "source": [
    "print(data_wine.DESCR)"
   ]
  },
  {
   "cell_type": "code",
   "execution_count": 3,
   "metadata": {},
   "outputs": [
    {
     "data": {
      "text/html": [
       "<div>\n",
       "<style scoped>\n",
       "    .dataframe tbody tr th:only-of-type {\n",
       "        vertical-align: middle;\n",
       "    }\n",
       "\n",
       "    .dataframe tbody tr th {\n",
       "        vertical-align: top;\n",
       "    }\n",
       "\n",
       "    .dataframe thead th {\n",
       "        text-align: right;\n",
       "    }\n",
       "</style>\n",
       "<table border=\"1\" class=\"dataframe\">\n",
       "  <thead>\n",
       "    <tr style=\"text-align: right;\">\n",
       "      <th></th>\n",
       "      <th>alcohol</th>\n",
       "      <th>malic_acid</th>\n",
       "      <th>ash</th>\n",
       "      <th>alcalinity_of_ash</th>\n",
       "      <th>magnesium</th>\n",
       "      <th>total_phenols</th>\n",
       "      <th>flavanoids</th>\n",
       "      <th>nonflavanoid_phenols</th>\n",
       "      <th>proanthocyanins</th>\n",
       "      <th>color_intensity</th>\n",
       "      <th>hue</th>\n",
       "      <th>od280/od315_of_diluted_wines</th>\n",
       "      <th>proline</th>\n",
       "    </tr>\n",
       "  </thead>\n",
       "  <tbody>\n",
       "    <tr>\n",
       "      <th>count</th>\n",
       "      <td>178.000000</td>\n",
       "      <td>178.000000</td>\n",
       "      <td>178.000000</td>\n",
       "      <td>178.000000</td>\n",
       "      <td>178.000000</td>\n",
       "      <td>178.000000</td>\n",
       "      <td>178.000000</td>\n",
       "      <td>178.000000</td>\n",
       "      <td>178.000000</td>\n",
       "      <td>178.000000</td>\n",
       "      <td>178.000000</td>\n",
       "      <td>178.000000</td>\n",
       "      <td>178.000000</td>\n",
       "    </tr>\n",
       "    <tr>\n",
       "      <th>mean</th>\n",
       "      <td>13.000618</td>\n",
       "      <td>2.336348</td>\n",
       "      <td>2.366517</td>\n",
       "      <td>19.494944</td>\n",
       "      <td>99.741573</td>\n",
       "      <td>2.295112</td>\n",
       "      <td>2.029270</td>\n",
       "      <td>0.361854</td>\n",
       "      <td>1.590899</td>\n",
       "      <td>5.058090</td>\n",
       "      <td>0.957449</td>\n",
       "      <td>2.611685</td>\n",
       "      <td>746.893258</td>\n",
       "    </tr>\n",
       "    <tr>\n",
       "      <th>std</th>\n",
       "      <td>0.811827</td>\n",
       "      <td>1.117146</td>\n",
       "      <td>0.274344</td>\n",
       "      <td>3.339564</td>\n",
       "      <td>14.282484</td>\n",
       "      <td>0.625851</td>\n",
       "      <td>0.998859</td>\n",
       "      <td>0.124453</td>\n",
       "      <td>0.572359</td>\n",
       "      <td>2.318286</td>\n",
       "      <td>0.228572</td>\n",
       "      <td>0.709990</td>\n",
       "      <td>314.907474</td>\n",
       "    </tr>\n",
       "    <tr>\n",
       "      <th>min</th>\n",
       "      <td>11.030000</td>\n",
       "      <td>0.740000</td>\n",
       "      <td>1.360000</td>\n",
       "      <td>10.600000</td>\n",
       "      <td>70.000000</td>\n",
       "      <td>0.980000</td>\n",
       "      <td>0.340000</td>\n",
       "      <td>0.130000</td>\n",
       "      <td>0.410000</td>\n",
       "      <td>1.280000</td>\n",
       "      <td>0.480000</td>\n",
       "      <td>1.270000</td>\n",
       "      <td>278.000000</td>\n",
       "    </tr>\n",
       "    <tr>\n",
       "      <th>25%</th>\n",
       "      <td>12.362500</td>\n",
       "      <td>1.602500</td>\n",
       "      <td>2.210000</td>\n",
       "      <td>17.200000</td>\n",
       "      <td>88.000000</td>\n",
       "      <td>1.742500</td>\n",
       "      <td>1.205000</td>\n",
       "      <td>0.270000</td>\n",
       "      <td>1.250000</td>\n",
       "      <td>3.220000</td>\n",
       "      <td>0.782500</td>\n",
       "      <td>1.937500</td>\n",
       "      <td>500.500000</td>\n",
       "    </tr>\n",
       "    <tr>\n",
       "      <th>50%</th>\n",
       "      <td>13.050000</td>\n",
       "      <td>1.865000</td>\n",
       "      <td>2.360000</td>\n",
       "      <td>19.500000</td>\n",
       "      <td>98.000000</td>\n",
       "      <td>2.355000</td>\n",
       "      <td>2.135000</td>\n",
       "      <td>0.340000</td>\n",
       "      <td>1.555000</td>\n",
       "      <td>4.690000</td>\n",
       "      <td>0.965000</td>\n",
       "      <td>2.780000</td>\n",
       "      <td>673.500000</td>\n",
       "    </tr>\n",
       "    <tr>\n",
       "      <th>75%</th>\n",
       "      <td>13.677500</td>\n",
       "      <td>3.082500</td>\n",
       "      <td>2.557500</td>\n",
       "      <td>21.500000</td>\n",
       "      <td>107.000000</td>\n",
       "      <td>2.800000</td>\n",
       "      <td>2.875000</td>\n",
       "      <td>0.437500</td>\n",
       "      <td>1.950000</td>\n",
       "      <td>6.200000</td>\n",
       "      <td>1.120000</td>\n",
       "      <td>3.170000</td>\n",
       "      <td>985.000000</td>\n",
       "    </tr>\n",
       "    <tr>\n",
       "      <th>max</th>\n",
       "      <td>14.830000</td>\n",
       "      <td>5.800000</td>\n",
       "      <td>3.230000</td>\n",
       "      <td>30.000000</td>\n",
       "      <td>162.000000</td>\n",
       "      <td>3.880000</td>\n",
       "      <td>5.080000</td>\n",
       "      <td>0.660000</td>\n",
       "      <td>3.580000</td>\n",
       "      <td>13.000000</td>\n",
       "      <td>1.710000</td>\n",
       "      <td>4.000000</td>\n",
       "      <td>1680.000000</td>\n",
       "    </tr>\n",
       "  </tbody>\n",
       "</table>\n",
       "</div>"
      ],
      "text/plain": [
       "          alcohol  malic_acid         ash  alcalinity_of_ash   magnesium  \\\n",
       "count  178.000000  178.000000  178.000000         178.000000  178.000000   \n",
       "mean    13.000618    2.336348    2.366517          19.494944   99.741573   \n",
       "std      0.811827    1.117146    0.274344           3.339564   14.282484   \n",
       "min     11.030000    0.740000    1.360000          10.600000   70.000000   \n",
       "25%     12.362500    1.602500    2.210000          17.200000   88.000000   \n",
       "50%     13.050000    1.865000    2.360000          19.500000   98.000000   \n",
       "75%     13.677500    3.082500    2.557500          21.500000  107.000000   \n",
       "max     14.830000    5.800000    3.230000          30.000000  162.000000   \n",
       "\n",
       "       total_phenols  flavanoids  nonflavanoid_phenols  proanthocyanins  \\\n",
       "count     178.000000  178.000000            178.000000       178.000000   \n",
       "mean        2.295112    2.029270              0.361854         1.590899   \n",
       "std         0.625851    0.998859              0.124453         0.572359   \n",
       "min         0.980000    0.340000              0.130000         0.410000   \n",
       "25%         1.742500    1.205000              0.270000         1.250000   \n",
       "50%         2.355000    2.135000              0.340000         1.555000   \n",
       "75%         2.800000    2.875000              0.437500         1.950000   \n",
       "max         3.880000    5.080000              0.660000         3.580000   \n",
       "\n",
       "       color_intensity         hue  od280/od315_of_diluted_wines      proline  \n",
       "count       178.000000  178.000000                    178.000000   178.000000  \n",
       "mean          5.058090    0.957449                      2.611685   746.893258  \n",
       "std           2.318286    0.228572                      0.709990   314.907474  \n",
       "min           1.280000    0.480000                      1.270000   278.000000  \n",
       "25%           3.220000    0.782500                      1.937500   500.500000  \n",
       "50%           4.690000    0.965000                      2.780000   673.500000  \n",
       "75%           6.200000    1.120000                      3.170000   985.000000  \n",
       "max          13.000000    1.710000                      4.000000  1680.000000  "
      ]
     },
     "execution_count": 3,
     "metadata": {},
     "output_type": "execute_result"
    }
   ],
   "source": [
    "X.describe()"
   ]
  },
  {
   "cell_type": "code",
   "execution_count": 4,
   "metadata": {},
   "outputs": [
    {
     "data": {
      "text/plain": [
       "1    71\n",
       "0    59\n",
       "2    48\n",
       "Name: target, dtype: int64"
      ]
     },
     "execution_count": 4,
     "metadata": {},
     "output_type": "execute_result"
    }
   ],
   "source": [
    "y.value_counts()"
   ]
  },
  {
   "attachments": {},
   "cell_type": "markdown",
   "metadata": {},
   "source": [
    "## Dimensionality reduction\n",
    "\n",
    "As we saw, the data has 13 dimensions, and the goal of this section is to reduce this to a lower amount of dimensions. \n",
    "\n",
    "This can be done for many reasons, including:\n",
    "\n",
    "- Reduce computation time\n",
    "- Performance increases\n",
    "- Visualization\n",
    "\n",
    "This we will do using principal component analysis. All the same things regarding data leakage from train to test data carries over from supervised learning, but we will disregard this aspect and use all data at once for simplicity. Later on, it can be used in a step in your pipelines, and it will only learn from the train data."
   ]
  },
  {
   "attachments": {},
   "cell_type": "markdown",
   "metadata": {},
   "source": [
    "> **Exercise 1.1**\n",
    "> \n",
    "> Fill in the missing code to perform a principal component analysis using `sklearn`\n",
    ">\n",
    "> *Hints:*\n",
    ">> Were all the variables on the same scale?"
   ]
  },
  {
   "cell_type": "code",
   "execution_count": null,
   "metadata": {},
   "outputs": [],
   "source": [
    "from sklearn.preprocessing import # FILL IN\n",
    "from sklearn.decomposition import # FILL IN\n",
    "\n",
    "# Step one\n",
    "sc = # FILL IN\n",
    "sc.fit(X)\n",
    "X_std = sc.transform(X)\n",
    "\n",
    "# Step two\n",
    "pca = # FILL IN\n",
    "pca.fit(X_std)\n",
    "X_pca = pca.transform(X_std)\n",
    "\n"
   ]
  },
  {
   "cell_type": "code",
   "execution_count": 5,
   "metadata": {},
   "outputs": [],
   "source": [
    "### BEGIN SOLUTION\n",
    "\n",
    "from sklearn.preprocessing import StandardScaler\n",
    "from sklearn.decomposition import PCA\n",
    "\n",
    "# Standardize\n",
    "sc = StandardScaler()\n",
    "sc.fit(X)\n",
    "X_std = sc.transform(X)\n",
    "\n",
    "# PCA\n",
    "pca = PCA()\n",
    "pca.fit(X_std)\n",
    "X_pca = pca.transform(X_std)\n",
    "\n",
    "### END SOLUTION"
   ]
  },
  {
   "attachments": {},
   "cell_type": "markdown",
   "metadata": {},
   "source": [
    "> **Exercise 1.2**\n",
    "> \n",
    "> 1. What are the dimensions of `X_pca`? \n",
    "> 2. Have you reduced the dimensionality?\n",
    ">\n",
    "> **Hints:**\n",
    ">> The shape of an array can be determined using `.shape`"
   ]
  },
  {
   "cell_type": "code",
   "execution_count": null,
   "metadata": {},
   "outputs": [],
   "source": [
    "# Your code"
   ]
  },
  {
   "cell_type": "code",
   "execution_count": 6,
   "metadata": {},
   "outputs": [
    {
     "data": {
      "text/plain": [
       "(178, 13)"
      ]
     },
     "execution_count": 6,
     "metadata": {},
     "output_type": "execute_result"
    }
   ],
   "source": [
    "### BEGIN SOLUTION\n",
    "\n",
    "X_pca.shape\n",
    "\n",
    "# 13 columns -- we haven't reduced the dimensionality, merely rotated!\n",
    "# This happens when we don't specify the amount of principal components\n",
    "\n",
    "### END SOLUTION"
   ]
  },
  {
   "attachments": {},
   "cell_type": "markdown",
   "metadata": {},
   "source": [
    "> **Exercise 1.3**\n",
    "> \n",
    "> Plot the two first principal components in a scatter plot by filling in the missing code\n",
    ">\n",
    "> **Hints:**\n",
    ">> When subsetting arrays, the first input determines the rows and the second determines columns\n",
    ">>\n",
    ">> The two inputs are separated by a comma\n",
    ">> \n",
    ">> The input `:` corresponds to all\n",
    ">>\n",
    ">> Python is zero-index, i.e. `0` corresponds to the first element"
   ]
  },
  {
   "cell_type": "code",
   "execution_count": null,
   "metadata": {},
   "outputs": [],
   "source": [
    "# Plot\n",
    "plt.scatter(X_pca[FILL IN], X_pca[FILL IN]) # Missing code\n",
    "plt.xlabel('Principal component 1')\n",
    "plt.ylabel('Principal component 2')\n",
    "plt.show()"
   ]
  },
  {
   "cell_type": "code",
   "execution_count": 7,
   "metadata": {},
   "outputs": [
    {
     "data": {
      "image/png": "[encoded data removed]",
      "text/plain": [
       "<Figure size 640x480 with 1 Axes>"
      ]
     },
     "metadata": {},
     "output_type": "display_data"
    }
   ],
   "source": [
    "### BEGIN SOLUTION\n",
    "\n",
    "# Plot\n",
    "plt.scatter(X_pca[:, 0], X_pca[:, 1])\n",
    "plt.xlabel('Principal component 1')\n",
    "plt.ylabel('Principal component 2')\n",
    "plt.show()\n",
    "\n",
    "### END SOLUTION"
   ]
  },
  {
   "attachments": {},
   "cell_type": "markdown",
   "metadata": {},
   "source": [
    "> **Exercise 1.4**\n",
    "> \n",
    "> Reuse the code from before, but add colors by adding the option `c = y` to the scatter plot.\n",
    "> Can we see a difference between the three wine cultivators?\n",
    ">\n",
    "> **Hints:**\n",
    ">> This colors the plot according to the class of the observation"
   ]
  },
  {
   "cell_type": "code",
   "execution_count": null,
   "metadata": {},
   "outputs": [],
   "source": [
    "# Your code"
   ]
  },
  {
   "cell_type": "code",
   "execution_count": 8,
   "metadata": {},
   "outputs": [
    {
     "data": {
      "image/png": "[encoded data removed]",
      "text/plain": [
       "<Figure size 640x480 with 1 Axes>"
      ]
     },
     "metadata": {},
     "output_type": "display_data"
    }
   ],
   "source": [
    "### BEGIN SOLUTION\n",
    "\n",
    "plt.scatter(X_pca[:, 0], X_pca[:, 1], c=y)\n",
    "plt.xlabel('Principal component 1')\n",
    "plt.ylabel('Principal component 2')\n",
    "plt.show()\n",
    "\n",
    "### END SOLUTION"
   ]
  },
  {
   "attachments": {},
   "cell_type": "markdown",
   "metadata": {},
   "source": [
    "Now we have chosen two dimensions for visualisation, but sometimes we might want to make a more informed choice about the amount of dimensions based on the variance kept or lost. This information can be obtained using a scree plot.\n",
    "\n",
    "To create the scree plot, we need to calculate the explained variance ratio for each principal component.\n",
    "\n",
    "Implementing stuff on your own might cause entail minor bugs and errors. Perhaps `sklearn` has an implementation for us?\n",
    "\n",
    "> **Exercise 1.5**\n",
    "> \n",
    "> Look at the documentation for the [PCA function](https://scikit-learn.org/stable/modules/generated/sklearn.decomposition.PCA.html). \n",
    "> - Does it have a feature/attribute which calculates it for us? \n",
    "> - How would we access this feature?\n",
    ">\n",
    "> **Hints:**\n",
    ">> Look under *Attributes*"
   ]
  },
  {
   "cell_type": "code",
   "execution_count": null,
   "metadata": {},
   "outputs": [],
   "source": [
    "### BEGIN SOLUTION\n",
    "\n",
    "# It does and it's called `explained_variance_ratio_`.\n",
    "\n",
    "# We access it using a period (`.`). For an instance called `pca`, it would thus become `pca.explained_variance_ratio_`\n",
    "\n",
    "### END SOLUTION"
   ]
  },
  {
   "attachments": {},
   "cell_type": "markdown",
   "metadata": {},
   "source": [
    "> **Exercise 1.6**\n",
    "> 1. Extract the explained variance ratio\n",
    "> 2. Calculate the cumulative explained variance ratio\n",
    "> \n",
    "> Hints: \n",
    ">> Attributes can be accessed using a period (`.`)\n",
    ">>\n",
    ">> `numpy` has a function for calculating cumulative sums"
   ]
  },
  {
   "cell_type": "code",
   "execution_count": null,
   "metadata": {},
   "outputs": [],
   "source": [
    "# Your code"
   ]
  },
  {
   "cell_type": "code",
   "execution_count": 9,
   "metadata": {},
   "outputs": [],
   "source": [
    "### BEGIN SOLUTION\n",
    "\n",
    "var_exp = pca.explained_variance_ratio_\n",
    "cum_var_exp = np.cumsum(pca.explained_variance_ratio_)\n",
    "\n",
    "### END SOLUTION"
   ]
  },
  {
   "attachments": {},
   "cell_type": "markdown",
   "metadata": {},
   "source": [
    "> **Exercise 1.7**\n",
    "> \n",
    "> Create a scree plot using the code below, inserting the appropriate x and y variables\n",
    "> \n",
    "> Hints: \n",
    ">> `PC_values` is an array that goes from `1` to `13`, which corresponds to the amount of principal components"
   ]
  },
  {
   "cell_type": "code",
   "execution_count": null,
   "metadata": {},
   "outputs": [],
   "source": [
    "PC_values = np.arange(pca.n_components_) + 1\n",
    "plt.bar(FILL IN)\n",
    "plt.step(FILL IN)\n",
    "plt.title('Scree Plot')\n",
    "plt.xlabel('Principal Component')\n",
    "plt.ylabel('Variance Explained')\n",
    "plt.show()"
   ]
  },
  {
   "cell_type": "code",
   "execution_count": 10,
   "metadata": {},
   "outputs": [
    {
     "data": {
      "image/png": "[encoded data removed]",
      "text/plain": [
       "<Figure size 640x480 with 1 Axes>"
      ]
     },
     "metadata": {},
     "output_type": "display_data"
    }
   ],
   "source": [
    "## BEGIN SOLUTION\n",
    "\n",
    "PC_values = np.arange(pca.n_components_) + 1\n",
    "plt.bar(PC_values, var_exp)\n",
    "plt.step(PC_values, cum_var_exp)\n",
    "plt.title('Scree Plot')\n",
    "plt.xlabel('Principal Component')\n",
    "plt.ylabel('Variance Explained')\n",
    "plt.show()\n",
    "\n",
    "### END SOLUTION"
   ]
  },
  {
   "attachments": {},
   "cell_type": "markdown",
   "metadata": {},
   "source": [
    "There are many ways to decide on the amount of dimensions, most often through cross validation, compute constraints, or a heuristic such as the elbow method.\n",
    "\n",
    "However, as we are going to continue to plotting the data in a 2-dimensional space, we only need two principal components.\n",
    "\n",
    "It seems superfluous to return all the principal components, doesn't it?\n",
    "\n",
    "> **Exercise 1.8**\n",
    "> \n",
    "> Change the code from exercise 1.1 to only return the first two components\n",
    "> \n",
    "> Call the transformed data `X_pca_2`\n",
    "> \n",
    "> Hints: \n",
    ">> `PCA` has an input which decides the amount of components."
   ]
  },
  {
   "cell_type": "code",
   "execution_count": null,
   "metadata": {},
   "outputs": [],
   "source": [
    "# Your code"
   ]
  },
  {
   "cell_type": "code",
   "execution_count": 12,
   "metadata": {},
   "outputs": [],
   "source": [
    "### BEGIN SOLUTION\n",
    "\n",
    "from sklearn.preprocessing import StandardScaler\n",
    "from sklearn.decomposition import PCA\n",
    "\n",
    "# Standardize\n",
    "sc = StandardScaler()\n",
    "sc.fit(X)\n",
    "X_std = sc.transform(X)\n",
    "\n",
    "# PCA\n",
    "pca_2 = PCA(n_components=2)\n",
    "pca_2.fit(X_std)\n",
    "X_pca_2 = pca_2.transform(X_std)\n",
    "\n",
    "### END SOLUTION"
   ]
  },
  {
   "attachments": {},
   "cell_type": "markdown",
   "metadata": {},
   "source": [
    "## Clustering\n",
    "\n",
    "Having now performed dimensionality reduction, we will use the `K-means` algorithm to cluster the data. In this case, we know that three classes exist, but `K-means` will not use this information.\n",
    "\n",
    "First we implement the method, and then we continue to look at how one can evaluate the method and choose the amount of clusters.\n",
    "\n",
    "There are many other clustering methods, and if you want to use other methods, a starting point could be the [clustering section in sklearn](https://scikit-learn.org/stable/modules/clustering.html)."
   ]
  },
  {
   "attachments": {},
   "cell_type": "markdown",
   "metadata": {},
   "source": [
    "> **Exercise 2.1**\n",
    "> \n",
    "> Fill in the missing code such that you implement a `K-means` clustering algorithm with three clusters.\n",
    "> For replicability, you should also set a random state\n"
   ]
  },
  {
   "cell_type": "code",
   "execution_count": null,
   "metadata": {},
   "outputs": [],
   "source": [
    "from sklearn.preprocessing import StandardScaler\n",
    "from sklearn.decomposition import PCA\n",
    "from sklearn.cluster import \n",
    "\n",
    "# fit the pca and get the two first components\n",
    "X_std = StandardScaler().fit_transform(X)\n",
    "X_pca = PCA(n_components=2).fit_transform(X_std)\n",
    "\n",
    "# apply the \n",
    "kmeans = FILL IN\n",
    "kmeans.fit(X_pca)\n",
    "y_kmeans = kmeans.predict(X_pca)"
   ]
  },
  {
   "cell_type": "code",
   "execution_count": 13,
   "metadata": {},
   "outputs": [
    {
     "name": "stderr",
     "output_type": "stream",
     "text": [
      "c:\\Users\\wkg579\\.conda\\envs\\vive_env\\lib\\site-packages\\sklearn\\cluster\\_kmeans.py:1334: UserWarning: KMeans is known to have a memory leak on Windows with MKL, when there are less chunks than available threads. You can avoid it by setting the environment variable OMP_NUM_THREADS=1.\n",
      "  warnings.warn(\n"
     ]
    }
   ],
   "source": [
    "### BEGIN SOLUTION\n",
    "\n",
    "from sklearn.preprocessing import StandardScaler\n",
    "from sklearn.decomposition import PCA\n",
    "from sklearn.cluster import KMeans\n",
    "\n",
    "# fit the pca and get the two first components\n",
    "X_std = StandardScaler().fit_transform(X)\n",
    "X_pca = PCA(n_components=2).fit_transform(X_std)\n",
    "\n",
    "# apply the \n",
    "kmeans = KMeans(n_clusters=3, random_state=73)\n",
    "kmeans.fit(X_pca)\n",
    "y_kmeans = kmeans.predict(X_pca)\n",
    "\n",
    "## END SOLUTION"
   ]
  },
  {
   "attachments": {},
   "cell_type": "markdown",
   "metadata": {},
   "source": [
    "The code below visualizes the found clusters from the previous exercise.\n",
    "\n",
    "> **Exercise 2.2**\n",
    "> \n",
    "> Explain the code by filling in the missing comments, one at each `#`\n"
   ]
  },
  {
   "cell_type": "code",
   "execution_count": null,
   "metadata": {},
   "outputs": [],
   "source": [
    "#\n",
    "X_kmeans = pd.DataFrame(X_pca)\n",
    "X_kmeans['cluster_id'] = y_kmeans\n",
    "\n",
    "#\n",
    "unique_cluster_ids = X_kmeans['cluster_id'].unique()\n",
    "\n",
    "#\n",
    "for cluster_id in unique_cluster_ids:\n",
    "    #\n",
    "    cluster_subset = X_kmeans.loc[X_kmeans.cluster_id == cluster_id]\n",
    "    #\n",
    "    plt.scatter(cluster_subset[0], cluster_subset[1])\n",
    "    \n",
    "#\n",
    "centroids = kmeans.cluster_centers_\n",
    "\n",
    "#\n",
    "plt.scatter(centroids[:,0], centroids[:,1], c='black', s=80)\n",
    "plt.show()"
   ]
  },
  {
   "cell_type": "code",
   "execution_count": 14,
   "metadata": {},
   "outputs": [
    {
     "data": {
      "image/png": "[encoded data removed]",
      "text/plain": [
       "<Figure size 640x480 with 1 Axes>"
      ]
     },
     "metadata": {},
     "output_type": "display_data"
    }
   ],
   "source": [
    "### BEGIN SOLUTION\n",
    "\n",
    "# Create a DataFrame with three columns, i.e. the two principal components and the cluster id \n",
    "X_kmeans = pd.DataFrame(X_pca)\n",
    "X_kmeans['cluster_id'] = y_kmeans\n",
    "\n",
    "# Get the unique cluster label\n",
    "unique_cluster_ids = X_kmeans['cluster_id'].unique()\n",
    "\n",
    "# For each unique cluster label\n",
    "for cluster_id in unique_cluster_ids:\n",
    "    # Subset the observations in the cluster\n",
    "    cluster_subset = X_kmeans.loc[X_kmeans.cluster_id == cluster_id]\n",
    "    # Plot the two principal components in a scatterplot\n",
    "    plt.scatter(cluster_subset[0], cluster_subset[1])\n",
    "    \n",
    "# Extract the centroids\n",
    "centroids = kmeans.cluster_centers_\n",
    "\n",
    "# Plot the centroids\n",
    "plt.scatter(centroids[:,0], centroids[:,1], c='black', s=80)\n",
    "plt.show()\n",
    "\n",
    "### END SOLUTION"
   ]
  },
  {
   "attachments": {},
   "cell_type": "markdown",
   "metadata": {},
   "source": [
    "So far we have chosen three dimensions because I told you to, but usually you would have to decide upon this yourself, a downside of `K-means`. \n",
    "\n",
    "To assist us, we can look for elbows in what the model optimizes.\n",
    "\n",
    "> **Exercise 2.3**\n",
    "> \n",
    "> The `K-means` algorithm minimizes the sum of squared distances to the nearest centroid. \n",
    "> This is available through the `Kmeans` object. Look through the [documentation](https://scikit-learn.org/stable/modules/generated/sklearn.cluster.KMeans.html) to find out how to extract this information.\n",
    "> Using this knowledge, fill in the missing code to plot the sum of squared distances for 1 to 10 clusters.\n",
    ">> *Hints:*\n",
    ">>\n",
    ">> Try looking under *Attributes*\n"
   ]
  },
  {
   "cell_type": "code",
   "execution_count": null,
   "metadata": {},
   "outputs": [],
   "source": [
    "cluster_range = range(1, FILL IN)\n",
    "sum_squared_distances_list = []\n",
    "\n",
    "# For each cluster, calculate sum of squared distances\n",
    "for no_clusters in cluster_range:\n",
    "    kmeans = KMeans(n_clusters=no_clusters, random_state=73)\n",
    "    kmeans.fit(X_pca)\n",
    "    sum_squared_distances_list.append(FILL IN)\n",
    "\n",
    "\n",
    "# Plot the sum of squared distances as a function of cluster range\n",
    "plt.plot(cluster_range, sum_squared_distances_list, marker='o')\n",
    "plt.xlabel('Number of clusters')\n",
    "plt.ylabel('Sum of squared distances')\n",
    "plt.show()"
   ]
  },
  {
   "cell_type": "code",
   "execution_count": 15,
   "metadata": {},
   "outputs": [
    {
     "name": "stderr",
     "output_type": "stream",
     "text": [
      "c:\\Users\\wkg579\\.conda\\envs\\vive_env\\lib\\site-packages\\sklearn\\cluster\\_kmeans.py:1334: UserWarning: KMeans is known to have a memory leak on Windows with MKL, when there are less chunks than available threads. You can avoid it by setting the environment variable OMP_NUM_THREADS=1.\n",
      "  warnings.warn(\n",
      "c:\\Users\\wkg579\\.conda\\envs\\vive_env\\lib\\site-packages\\sklearn\\cluster\\_kmeans.py:1334: UserWarning: KMeans is known to have a memory leak on Windows with MKL, when there are less chunks than available threads. You can avoid it by setting the environment variable OMP_NUM_THREADS=1.\n",
      "  warnings.warn(\n",
      "c:\\Users\\wkg579\\.conda\\envs\\vive_env\\lib\\site-packages\\sklearn\\cluster\\_kmeans.py:1334: UserWarning: KMeans is known to have a memory leak on Windows with MKL, when there are less chunks than available threads. You can avoid it by setting the environment variable OMP_NUM_THREADS=1.\n",
      "  warnings.warn(\n",
      "c:\\Users\\wkg579\\.conda\\envs\\vive_env\\lib\\site-packages\\sklearn\\cluster\\_kmeans.py:1334: UserWarning: KMeans is known to have a memory leak on Windows with MKL, when there are less chunks than available threads. You can avoid it by setting the environment variable OMP_NUM_THREADS=1.\n",
      "  warnings.warn(\n",
      "c:\\Users\\wkg579\\.conda\\envs\\vive_env\\lib\\site-packages\\sklearn\\cluster\\_kmeans.py:1334: UserWarning: KMeans is known to have a memory leak on Windows with MKL, when there are less chunks than available threads. You can avoid it by setting the environment variable OMP_NUM_THREADS=1.\n",
      "  warnings.warn(\n",
      "c:\\Users\\wkg579\\.conda\\envs\\vive_env\\lib\\site-packages\\sklearn\\cluster\\_kmeans.py:1334: UserWarning: KMeans is known to have a memory leak on Windows with MKL, when there are less chunks than available threads. You can avoid it by setting the environment variable OMP_NUM_THREADS=1.\n",
      "  warnings.warn(\n",
      "c:\\Users\\wkg579\\.conda\\envs\\vive_env\\lib\\site-packages\\sklearn\\cluster\\_kmeans.py:1334: UserWarning: KMeans is known to have a memory leak on Windows with MKL, when there are less chunks than available threads. You can avoid it by setting the environment variable OMP_NUM_THREADS=1.\n",
      "  warnings.warn(\n",
      "c:\\Users\\wkg579\\.conda\\envs\\vive_env\\lib\\site-packages\\sklearn\\cluster\\_kmeans.py:1334: UserWarning: KMeans is known to have a memory leak on Windows with MKL, when there are less chunks than available threads. You can avoid it by setting the environment variable OMP_NUM_THREADS=1.\n",
      "  warnings.warn(\n",
      "c:\\Users\\wkg579\\.conda\\envs\\vive_env\\lib\\site-packages\\sklearn\\cluster\\_kmeans.py:1334: UserWarning: KMeans is known to have a memory leak on Windows with MKL, when there are less chunks than available threads. You can avoid it by setting the environment variable OMP_NUM_THREADS=1.\n",
      "  warnings.warn(\n",
      "c:\\Users\\wkg579\\.conda\\envs\\vive_env\\lib\\site-packages\\sklearn\\cluster\\_kmeans.py:1334: UserWarning: KMeans is known to have a memory leak on Windows with MKL, when there are less chunks than available threads. You can avoid it by setting the environment variable OMP_NUM_THREADS=1.\n",
      "  warnings.warn(\n"
     ]
    },
    {
     "data": {
      "image/png": "[encoded data removed]",
      "text/plain": [
       "<Figure size 640x480 with 1 Axes>"
      ]
     },
     "metadata": {},
     "output_type": "display_data"
    }
   ],
   "source": [
    "### BEGIN SOLUTION\n",
    "\n",
    "cluster_range = range(1, 11)\n",
    "sum_squared_distances_list = []\n",
    "\n",
    "# For each cluster, calculate sum of squared distances\n",
    "for no_clusters in cluster_range:\n",
    "    kmeans = KMeans(n_clusters=no_clusters, random_state=73)\n",
    "    kmeans.fit(X_pca)\n",
    "    sum_squared_distances_list.append(kmeans.inertia_)\n",
    "\n",
    "\n",
    "# Plot the sum of squared distances as a function of cluster range\n",
    "plt.plot(cluster_range, sum_squared_distances_list, marker='o')\n",
    "plt.xlabel('Number of clusters')\n",
    "plt.ylabel('Sum of squared distances')\n",
    "plt.show()\n",
    "\n",
    "### END SOLUTION"
   ]
  },
  {
   "attachments": {},
   "cell_type": "markdown",
   "metadata": {},
   "source": [
    "However, there are many different metrics to evaluate a clustering algorithm. A list of those implemented in `sklearn` can be found in their [user guide](https://scikit-learn.org/stable/modules/clustering.html#clustering-performance-evaluation), which also includes pros and cons of each metric. \n",
    "\n",
    "> **Exercise 2.4**\n",
    "> \n",
    "> The code below calculates the average silhoutte coefficient, see [documentation here](https://scikit-learn.org/stable/modules/clustering.html#silhouette-coefficient).\n",
    ">\n",
    "> 1. What is the range of values, and what values are preferred? \n",
    "> 2. Should one be wary of using this method to compare across models from the three broad categories introduced in the lecture?\n",
    ">> *Hints:*\n",
    ">>\n",
    ">> Think about convexity\n"
   ]
  },
  {
   "cell_type": "code",
   "execution_count": 16,
   "metadata": {},
   "outputs": [
    {
     "name": "stdout",
     "output_type": "stream",
     "text": [
      "Average silhouette coefficient: 0.56\n"
     ]
    },
    {
     "name": "stderr",
     "output_type": "stream",
     "text": [
      "c:\\Users\\wkg579\\.conda\\envs\\vive_env\\lib\\site-packages\\sklearn\\cluster\\_kmeans.py:1334: UserWarning: KMeans is known to have a memory leak on Windows with MKL, when there are less chunks than available threads. You can avoid it by setting the environment variable OMP_NUM_THREADS=1.\n",
      "  warnings.warn(\n"
     ]
    }
   ],
   "source": [
    "from sklearn.metrics import silhouette_score\n",
    "\n",
    "clusterer = KMeans(n_clusters=3, random_state=73)\n",
    "cluster_labels = clusterer.fit_predict(X_pca)\n",
    "silhouette_avg = silhouette_score(X_pca, cluster_labels)\n",
    "print(f\"Average silhouette coefficient: {silhouette_avg:.2f}\")"
   ]
  },
  {
   "attachments": {},
   "cell_type": "markdown",
   "metadata": {},
   "source": [
    "Having now seen how to calculate the silhouette coefficient, we want to look at how it varies with up to ten clusters\n",
    "\n",
    "> **Exercise 2.5**\n",
    "> \n",
    "> Fill in the missing code to calculate the average silhouette coefficients\n",
    ">\n",
    ">> *Hints:*\n",
    ">>\n",
    ">> How many clusters are needed to calculate the silhouette coefficient?"
   ]
  },
  {
   "cell_type": "code",
   "execution_count": null,
   "metadata": {},
   "outputs": [],
   "source": [
    "from sklearn.metrics import silhouette_score\n",
    "\n",
    "# Specify range of clusters\n",
    "cluster_range_silhouette = range(FILL IN)\n",
    "avg_silhouette_list = []\n",
    "\n",
    "# Calculate the average silhouette coefficient\n",
    "for no_clusters in cluster_range_silhouette:\n",
    "    kmeans = KMeans(n_clusters=no_clusters, random_state=73)\n",
    "    kmeans.fit(X_pca)\n",
    "    cluster_labels = kmeans.predict(X_pca)\n",
    "    silhouette_avg = silhouette_score(X_pca, cluster_labels)\n",
    "    avg_silhouette_list.append(silhouette_avg)\n",
    "\n",
    "# Plot average silhouette coefficients\n",
    "plt.plot(FILL IN, FILL IN, marker='o')\n",
    "plt.xlabel('Number of clusters')\n",
    "plt.ylabel('Average silhouette coefficient')\n",
    "plt.show()"
   ]
  },
  {
   "cell_type": "code",
   "execution_count": 17,
   "metadata": {},
   "outputs": [
    {
     "name": "stderr",
     "output_type": "stream",
     "text": [
      "c:\\Users\\wkg579\\.conda\\envs\\vive_env\\lib\\site-packages\\sklearn\\cluster\\_kmeans.py:1334: UserWarning: KMeans is known to have a memory leak on Windows with MKL, when there are less chunks than available threads. You can avoid it by setting the environment variable OMP_NUM_THREADS=1.\n",
      "  warnings.warn(\n",
      "c:\\Users\\wkg579\\.conda\\envs\\vive_env\\lib\\site-packages\\sklearn\\cluster\\_kmeans.py:1334: UserWarning: KMeans is known to have a memory leak on Windows with MKL, when there are less chunks than available threads. You can avoid it by setting the environment variable OMP_NUM_THREADS=1.\n",
      "  warnings.warn(\n",
      "c:\\Users\\wkg579\\.conda\\envs\\vive_env\\lib\\site-packages\\sklearn\\cluster\\_kmeans.py:1334: UserWarning: KMeans is known to have a memory leak on Windows with MKL, when there are less chunks than available threads. You can avoid it by setting the environment variable OMP_NUM_THREADS=1.\n",
      "  warnings.warn(\n",
      "c:\\Users\\wkg579\\.conda\\envs\\vive_env\\lib\\site-packages\\sklearn\\cluster\\_kmeans.py:1334: UserWarning: KMeans is known to have a memory leak on Windows with MKL, when there are less chunks than available threads. You can avoid it by setting the environment variable OMP_NUM_THREADS=1.\n",
      "  warnings.warn(\n",
      "c:\\Users\\wkg579\\.conda\\envs\\vive_env\\lib\\site-packages\\sklearn\\cluster\\_kmeans.py:1334: UserWarning: KMeans is known to have a memory leak on Windows with MKL, when there are less chunks than available threads. You can avoid it by setting the environment variable OMP_NUM_THREADS=1.\n",
      "  warnings.warn(\n",
      "c:\\Users\\wkg579\\.conda\\envs\\vive_env\\lib\\site-packages\\sklearn\\cluster\\_kmeans.py:1334: UserWarning: KMeans is known to have a memory leak on Windows with MKL, when there are less chunks than available threads. You can avoid it by setting the environment variable OMP_NUM_THREADS=1.\n",
      "  warnings.warn(\n",
      "c:\\Users\\wkg579\\.conda\\envs\\vive_env\\lib\\site-packages\\sklearn\\cluster\\_kmeans.py:1334: UserWarning: KMeans is known to have a memory leak on Windows with MKL, when there are less chunks than available threads. You can avoid it by setting the environment variable OMP_NUM_THREADS=1.\n",
      "  warnings.warn(\n",
      "c:\\Users\\wkg579\\.conda\\envs\\vive_env\\lib\\site-packages\\sklearn\\cluster\\_kmeans.py:1334: UserWarning: KMeans is known to have a memory leak on Windows with MKL, when there are less chunks than available threads. You can avoid it by setting the environment variable OMP_NUM_THREADS=1.\n",
      "  warnings.warn(\n",
      "c:\\Users\\wkg579\\.conda\\envs\\vive_env\\lib\\site-packages\\sklearn\\cluster\\_kmeans.py:1334: UserWarning: KMeans is known to have a memory leak on Windows with MKL, when there are less chunks than available threads. You can avoid it by setting the environment variable OMP_NUM_THREADS=1.\n",
      "  warnings.warn(\n"
     ]
    },
    {
     "data": {
      "image/png": "[encoded data removed]",
      "text/plain": [
       "<Figure size 640x480 with 1 Axes>"
      ]
     },
     "metadata": {},
     "output_type": "display_data"
    }
   ],
   "source": [
    "### BEGIN SOLUTION\n",
    "\n",
    "from sklearn.metrics import silhouette_score\n",
    "\n",
    "# We need atleast two clusters, as we need a cluster and a nearest neighbor cluster\n",
    "# Specify range of clusters \n",
    "cluster_range_silhouette = range(2, 11)\n",
    "avg_silhouette_list = []\n",
    "\n",
    "# Calculate the average silhouette coefficient\n",
    "for no_clusters in cluster_range_silhouette:\n",
    "    kmeans = KMeans(n_clusters=no_clusters, random_state=73)\n",
    "    kmeans.fit(X_pca)\n",
    "    cluster_labels = kmeans.predict(X_pca)\n",
    "    silhouette_avg = silhouette_score(X_pca, cluster_labels)\n",
    "    avg_silhouette_list.append(silhouette_avg)\n",
    "\n",
    "# Plot average silhouette coefficients\n",
    "plt.plot(cluster_range_silhouette, avg_silhouette_list, marker='o')\n",
    "plt.xlabel('Number of clusters')\n",
    "plt.ylabel('Average silhouette coefficient')\n",
    "plt.show()\n",
    "\n",
    "### END SOLUTION"
   ]
  },
  {
   "attachments": {},
   "cell_type": "markdown",
   "metadata": {},
   "source": [
    "We can also make silhouette plots, although they are a bit tedious to produce. Code to produce it using just `sklearn` can be found online, but there also exist packages to do it for us! `yellowbrick` is one such package, and it even uses the same syntax as `sklearn`. As a general rule, it's always a good idea to check if there exists a package which does what you want to do, ideally before you spend too much time implementing stuff.\n",
    "\n",
    "> **Exercise 2.6**\n",
    "> \n",
    "> Install the package `yellowbrick` to plot the silhoutte plot using the code below. \n",
    ">\n",
    "> Bonus: Try plotting different amounts of cluster amounts. Which amount do you prefer?\n",
    ">\n",
    ">> *Hints:*\n",
    ">>\n",
    ">> Installing with `pip` follows standard naming conventions, but otherwise installation instructions can be found on their website"
   ]
  },
  {
   "cell_type": "code",
   "execution_count": 18,
   "metadata": {},
   "outputs": [
    {
     "name": "stderr",
     "output_type": "stream",
     "text": [
      "c:\\Users\\wkg579\\.conda\\envs\\vive_env\\lib\\site-packages\\sklearn\\cluster\\_kmeans.py:1334: UserWarning: KMeans is known to have a memory leak on Windows with MKL, when there are less chunks than available threads. You can avoid it by setting the environment variable OMP_NUM_THREADS=1.\n",
      "  warnings.warn(\n"
     ]
    },
    {
     "data": {
      "image/png": "[encoded data removed]",
      "text/plain": [
       "<Figure size 800x550 with 1 Axes>"
      ]
     },
     "metadata": {},
     "output_type": "display_data"
    }
   ],
   "source": [
    "from yellowbrick.cluster import SilhouetteVisualizer\n",
    "\n",
    "# Model we want to evaluate\n",
    "kmeans = KMeans(n_clusters=3, random_state=73)\n",
    "\n",
    "# The vizualiser\n",
    "visualizer = SilhouetteVisualizer(kmeans)\n",
    "\n",
    "# Fit the data to the visualizer\n",
    "visualizer.fit(X_pca)       \n",
    "\n",
    "# Show the plot\n",
    "visualizer.show()  \n",
    "plt.show()"
   ]
  },
  {
   "attachments": {},
   "cell_type": "markdown",
   "metadata": {},
   "source": [
    "# Text as data\n",
    "\n",
    "The dataset we will be looking at to get used to working with text as data is [IMDB Dataset](https://www.kaggle.com/datasets/lakshmi25npathi/imdb-dataset-of-50k-movie-reviews) downloaded from Kaggle, but originally from [Stanford](http://ai.stanford.edu/~amaas/data/sentiment/)\n",
    "and created for the paper *Maas, Andrew, et al. \"Learning word vectors for sentiment analysis.\" Proceedings of the 49th annual meeting of the association for computational linguistics: Human language technologies. 2011.*\n",
    "\n",
    "The dataset consists of 50.000 movie reviews, which are humanly classified as either positive or negative (25.000 of each).\n",
    "\n",
    "**Load data**\n",
    "\n",
    "Here we load our data into a `DataFrame` called `df`. Furthermore, we map the classes into a binary vector which indicates whether the review was positive (`1`) or negative (`0`). "
   ]
  },
  {
   "cell_type": "code",
   "execution_count": 39,
   "metadata": {},
   "outputs": [],
   "source": [
    "# Import data\n",
    "df = pd.read_csv('movie_data.csv.zip', encoding='utf-8', compression='zip')\n",
    "df['positive'] = df['sentiment'].map({'positive':1,'negative':0})"
   ]
  },
  {
   "attachments": {},
   "cell_type": "markdown",
   "metadata": {},
   "source": [
    "A sensible first thing to do is to read some of the text. The code below does enables you to do this, printing the first two positive and negative reviews. \n",
    "\n",
    "> **Exercise 3.1**\n",
    "> \n",
    "> Are there any weird artifacts in the text? If there are any, can you guess why they're there?"
   ]
  },
  {
   "cell_type": "code",
   "execution_count": 40,
   "metadata": {},
   "outputs": [
    {
     "name": "stdout",
     "output_type": "stream",
     "text": [
      "Positive\n",
      "\n",
      "One of the other reviewers has mentioned that after watching just 1 Oz episode you'll be hooked. They are right, as this is exactly what happened with me.<br /><br />The first thing that struck me about Oz was its brutality and unflinching scenes of violence, which set in right from the word GO. Trust me, this is not a show for the faint hearted or timid. This show pulls no punches with regards to drugs, sex or violence. Its is hardcore, in the classic use of the word.<br /><br />It is called OZ as that is the nickname given to the Oswald Maximum Security State Penitentary. It focuses mainly on Emerald City, an experimental section of the prison where all the cells have glass fronts and face inwards, so privacy is not high on the agenda. Em City is home to many..Aryans, Muslims, gangstas, Latinos, Christians, Italians, Irish and more....so scuffles, death stares, dodgy dealings and shady agreements are never far away.<br /><br />I would say the main appeal of the show is due to the fact that it goes where other shows wouldn't dare. Forget pretty pictures painted for mainstream audiences, forget charm, forget romance...OZ doesn't mess around. The first episode I ever saw struck me as so nasty it was surreal, I couldn't say I was ready for it, but as I watched more, I developed a taste for Oz, and got accustomed to the high levels of graphic violence. Not just violence, but injustice (crooked guards who'll be sold out for a nickel, inmates who'll kill on order and get away with it, well mannered, middle class inmates being turned into prison bitches due to their lack of street skills or prison experience) Watching Oz, you may become comfortable with what is uncomfortable viewing....thats if you can get in touch with your darker side.\n",
      "\n",
      "A wonderful little production. <br /><br />The filming technique is very unassuming- very old-time-BBC fashion and gives a comforting, and sometimes discomforting, sense of realism to the entire piece. <br /><br />The actors are extremely well chosen- Michael Sheen not only \"has got all the polari\" but he has all the voices down pat too! You can truly see the seamless editing guided by the references to Williams' diary entries, not only is it well worth the watching but it is a terrificly written and performed piece. A masterful production about one of the great master's of comedy and his life. <br /><br />The realism really comes home with the little things: the fantasy of the guard which, rather than use the traditional 'dream' techniques remains solid then disappears. It plays on our knowledge and our senses, particularly with the scenes concerning Orton and Halliwell and the sets (particularly of their flat with Halliwell's murals decorating every surface) are terribly well done.\n",
      "\n",
      "Negative\n",
      "\n",
      "Basically there's a family where a little boy (Jake) thinks there's a zombie in his closet & his parents are fighting all the time.<br /><br />This movie is slower than a soap opera... and suddenly, Jake decides to become Rambo and kill the zombie.<br /><br />OK, first of all when you're going to make a film you must Decide if its a thriller or a drama! As a drama the movie is watchable. Parents are divorcing & arguing like in real life. And then we have Jake with his closet which totally ruins all the film! I expected to see a BOOGEYMAN similar movie, and instead i watched a drama with some meaningless thriller spots.<br /><br />3 out of 10 just for the well playing parents & descent dialogs. As for the shots with Jake: just ignore them.\n",
      "\n",
      "This show was an amazing, fresh & innovative idea in the 70's when it first aired. The first 7 or 8 years were brilliant, but things dropped off after that. By 1990, the show was not really funny anymore, and it's continued its decline further to the complete waste of time it is today.<br /><br />It's truly disgraceful how far this show has fallen. The writing is painfully bad, the performances are almost as bad - if not for the mildly entertaining respite of the guest-hosts, this show probably wouldn't still be on the air. I find it so hard to believe that the same creator that hand-selected the original cast also chose the band of hacks that followed. How can one recognize such brilliance and then see fit to replace it with such mediocrity? I felt I must give 2 stars out of respect for the original cast that made this show such a huge success. As it is now, the show is just awful. I can't believe it's still on the air.\n",
      "\n"
     ]
    }
   ],
   "source": [
    "print(\"Positive\")\n",
    "print()\n",
    "for i in df.loc[df.sentiment == 'positive'].review[:2]:\n",
    "    print(i)\n",
    "    print()\n",
    "\n",
    "print(\"Negative\")\n",
    "print()\n",
    "for i in df.loc[df.sentiment == 'negative'].review[:2]:\n",
    "    print(i)\n",
    "    print()"
   ]
  },
  {
   "attachments": {},
   "cell_type": "markdown",
   "metadata": {},
   "source": [
    "Having a dataset with labels is not always easy. If we had no labels but were still interested in the sentiment of the reviews, one way to go about this would be using a dictionary based method. \n",
    "\n",
    "In this example, we will use the `VADER` sentiment analyser to get the sentiment of the reviews.\n",
    "\n",
    "> **Exercise 3.2**\n",
    "> \n",
    "> Explain what happens in each of the four steps by commenting the code. \n",
    ">\n",
    ">> *Hints:*\n",
    ">>\n",
    ">> `.apply` applies a function to the column\n",
    ">>\n",
    ">> `lambda` functions are anonymous function which are defined inplace. In this situation, they are applied to each row in the column."
   ]
  },
  {
   "cell_type": "code",
   "execution_count": 21,
   "metadata": {},
   "outputs": [],
   "source": [
    "from nltk.sentiment.vader import SentimentIntensityAnalyzer\n",
    "\n",
    "#\n",
    "sia = SentimentIntensityAnalyzer()\n",
    "\n",
    "#\n",
    "df['scores'] = df['review'].apply(lambda review: sia.polarity_scores(review))\n",
    "\n",
    "#\n",
    "df['compound'] = df['scores'].apply(lambda scores: scores['compound'])\n",
    "\n",
    "#\n",
    "df['comp_score'] = df['compound'].apply(lambda comp_score: 1 if comp_score >= 0 else 0)"
   ]
  },
  {
   "cell_type": "code",
   "execution_count": 41,
   "metadata": {},
   "outputs": [],
   "source": [
    "### BEGIN SOLUTION\n",
    "\n",
    "from nltk.sentiment.vader import SentimentIntensityAnalyzer\n",
    "\n",
    "# create instance\n",
    "sia = SentimentIntensityAnalyzer()\n",
    "\n",
    "# Calculate the scores\n",
    "df['scores'] = df['review'].apply(lambda review: sia.polarity_scores(review))\n",
    "\n",
    "# Extract the compound score (-1 to 1)\n",
    "df['compound'] = df['scores'].apply(lambda scores: scores['compound'])\n",
    "\n",
    "# Turn it into a binary variable signalling positive (1) or negative (0)\n",
    "df['comp_score'] = df['compound'].apply(lambda comp_score: 1 if comp_score >= 0 else 0)"
   ]
  },
  {
   "attachments": {},
   "cell_type": "markdown",
   "metadata": {},
   "source": [
    "As we are so lucky to have a labelled dataset, we can see how our unsupervised method did!\n",
    "\n",
    "> **Exercise 3.3**\n",
    "> \n",
    "> Calculate the accuracy of the predicted `comp_score` (compound scores)\n",
    ">> *Hints:*\n",
    ">>\n",
    ">> Try importing `accuracy_score` from `sklearn.metrics`"
   ]
  },
  {
   "cell_type": "code",
   "execution_count": null,
   "metadata": {},
   "outputs": [],
   "source": [
    "# Your code"
   ]
  },
  {
   "cell_type": "code",
   "execution_count": 22,
   "metadata": {},
   "outputs": [
    {
     "name": "stdout",
     "output_type": "stream",
     "text": [
      "Accuracy: 0.70\n"
     ]
    }
   ],
   "source": [
    "### BEGIN SOLUTION\n",
    "\n",
    "from sklearn.metrics import accuracy_score\n",
    "\n",
    "print(f\"Accuracy: {accuracy_score(df['positive'], df['comp_score']):.2f}\")\n",
    "\n",
    "### END SOLUTION"
   ]
  },
  {
   "attachments": {},
   "cell_type": "markdown",
   "metadata": {},
   "source": [
    "`VADER` is relatively advanced, and uses information about whether the text is capitalized and uses exclamation marks. However, for `bag-of-words` models and other text models, it is common to preprocess the data to reduce the complexity. \n",
    "\n",
    "In the following code, I give you some examples of how one could preprocess the data. One of the common tools used is Regular Expressions, shortened `re`. I do not expect you to know it, but it's a neat tool for capturing text and either storing it or replacing it with other text. You can play around with it at [RegExr.com](https://regexr.com/), should you wish. \n",
    "\n",
    "> **Exercise 3.4**\n",
    "> \n",
    "> Look at the reviews after each cleaning example. What's the difference between the two preprocessing methods? Is the text better represented than before we preprocessed it?\n",
    "> Some things you could consider:\n",
    "> - Does it make the text more readable for you? What about for an algorithm?  \n",
    "> - Have we removed the weird artifacts you (perhaps) found earlier?\n",
    "> - Have we introduced any new weird artifacts?"
   ]
  },
  {
   "cell_type": "code",
   "execution_count": 23,
   "metadata": {},
   "outputs": [],
   "source": [
    "import re\n",
    "\n",
    "# Clean reviews\n",
    "def cleaner(document):\n",
    "    document = document.lower() #To lower case\n",
    "    document = re.sub(r'<[^>]*>', ' ', document) #Remove HTML\n",
    "    document = re.sub(r'[^\\w\\s]','', document) #Remove non-alphanumeric characters\n",
    "    return document\n",
    "\n",
    "df['review_clean'] = df['review'].apply(cleaner)"
   ]
  },
  {
   "cell_type": "code",
   "execution_count": 24,
   "metadata": {},
   "outputs": [
    {
     "name": "stdout",
     "output_type": "stream",
     "text": [
      "Positive\n",
      "\n",
      "one of the other reviewers has mentioned that after watching just 1 oz episode youll be hooked they are right as this is exactly what happened with me  the first thing that struck me about oz was its brutality and unflinching scenes of violence which set in right from the word go trust me this is not a show for the faint hearted or timid this show pulls no punches with regards to drugs sex or violence its is hardcore in the classic use of the word  it is called oz as that is the nickname given to the oswald maximum security state penitentary it focuses mainly on emerald city an experimental section of the prison where all the cells have glass fronts and face inwards so privacy is not high on the agenda em city is home to manyaryans muslims gangstas latinos christians italians irish and moreso scuffles death stares dodgy dealings and shady agreements are never far away  i would say the main appeal of the show is due to the fact that it goes where other shows wouldnt dare forget pretty pictures painted for mainstream audiences forget charm forget romanceoz doesnt mess around the first episode i ever saw struck me as so nasty it was surreal i couldnt say i was ready for it but as i watched more i developed a taste for oz and got accustomed to the high levels of graphic violence not just violence but injustice crooked guards wholl be sold out for a nickel inmates wholl kill on order and get away with it well mannered middle class inmates being turned into prison bitches due to their lack of street skills or prison experience watching oz you may become comfortable with what is uncomfortable viewingthats if you can get in touch with your darker side\n",
      "\n",
      "a wonderful little production   the filming technique is very unassuming very oldtimebbc fashion and gives a comforting and sometimes discomforting sense of realism to the entire piece   the actors are extremely well chosen michael sheen not only has got all the polari but he has all the voices down pat too you can truly see the seamless editing guided by the references to williams diary entries not only is it well worth the watching but it is a terrificly written and performed piece a masterful production about one of the great masters of comedy and his life   the realism really comes home with the little things the fantasy of the guard which rather than use the traditional dream techniques remains solid then disappears it plays on our knowledge and our senses particularly with the scenes concerning orton and halliwell and the sets particularly of their flat with halliwells murals decorating every surface are terribly well done\n",
      "\n",
      "Negative\n",
      "\n",
      "basically theres a family where a little boy jake thinks theres a zombie in his closet  his parents are fighting all the time  this movie is slower than a soap opera and suddenly jake decides to become rambo and kill the zombie  ok first of all when youre going to make a film you must decide if its a thriller or a drama as a drama the movie is watchable parents are divorcing  arguing like in real life and then we have jake with his closet which totally ruins all the film i expected to see a boogeyman similar movie and instead i watched a drama with some meaningless thriller spots  3 out of 10 just for the well playing parents  descent dialogs as for the shots with jake just ignore them\n",
      "\n",
      "this show was an amazing fresh  innovative idea in the 70s when it first aired the first 7 or 8 years were brilliant but things dropped off after that by 1990 the show was not really funny anymore and its continued its decline further to the complete waste of time it is today  its truly disgraceful how far this show has fallen the writing is painfully bad the performances are almost as bad  if not for the mildly entertaining respite of the guesthosts this show probably wouldnt still be on the air i find it so hard to believe that the same creator that handselected the original cast also chose the band of hacks that followed how can one recognize such brilliance and then see fit to replace it with such mediocrity i felt i must give 2 stars out of respect for the original cast that made this show such a huge success as it is now the show is just awful i cant believe its still on the air\n",
      "\n"
     ]
    }
   ],
   "source": [
    "print(\"Positive\")\n",
    "print()\n",
    "for i in df.loc[df.sentiment == 'positive'].review_clean[:2]:\n",
    "    print(i)\n",
    "    print()\n",
    "\n",
    "print(\"Negative\")\n",
    "print()\n",
    "for i in df.loc[df.sentiment == 'negative'].review_clean[:2]:\n",
    "    print(i)\n",
    "    print()"
   ]
  },
  {
   "cell_type": "code",
   "execution_count": 25,
   "metadata": {},
   "outputs": [],
   "source": [
    "# Import stopwords\n",
    "from nltk.corpus import stopwords\n",
    "english_stopwords = stopwords.words('english')\n",
    "\n",
    "# Extended cleaning function\n",
    "def extended_cleaner(document, stopwords_list = english_stopwords):\n",
    "    document = document.lower() # To lower case\n",
    "    document = re.sub(r'<[^>]*>', ' ', document) # Remove HTML\n",
    "    document = re.sub(r'[^\\w\\s]','', document) # Remove non-alphanumeric characters\n",
    "    text = ' '.join(x for x in document.split(' ') if x not in stopwords_list) # Remove stopwords\n",
    "    return text\n",
    "\n",
    "df['review_extended_clean'] = df['review'].apply(extended_cleaner)# Clean reviews"
   ]
  },
  {
   "cell_type": "code",
   "execution_count": 26,
   "metadata": {},
   "outputs": [
    {
     "name": "stdout",
     "output_type": "stream",
     "text": [
      "Positive\n",
      "\n",
      "one reviewers mentioned watching 1 oz episode youll hooked right exactly happened  first thing struck oz brutality unflinching scenes violence set right word go trust show faint hearted timid show pulls punches regards drugs sex violence hardcore classic use word  called oz nickname given oswald maximum security state penitentary focuses mainly emerald city experimental section prison cells glass fronts face inwards privacy high agenda em city home manyaryans muslims gangstas latinos christians italians irish moreso scuffles death stares dodgy dealings shady agreements never far away  would say main appeal show due fact goes shows wouldnt dare forget pretty pictures painted mainstream audiences forget charm forget romanceoz doesnt mess around first episode ever saw struck nasty surreal couldnt say ready watched developed taste oz got accustomed high levels graphic violence violence injustice crooked guards wholl sold nickel inmates wholl kill order get away well mannered middle class inmates turned prison bitches due lack street skills prison experience watching oz may become comfortable uncomfortable viewingthats get touch darker side\n",
      "\n",
      "wonderful little production   filming technique unassuming oldtimebbc fashion gives comforting sometimes discomforting sense realism entire piece   actors extremely well chosen michael sheen got polari voices pat truly see seamless editing guided references williams diary entries well worth watching terrificly written performed piece masterful production one great masters comedy life   realism really comes home little things fantasy guard rather use traditional dream techniques remains solid disappears plays knowledge senses particularly scenes concerning orton halliwell sets particularly flat halliwells murals decorating every surface terribly well done\n",
      "\n",
      "Negative\n",
      "\n",
      "basically theres family little boy jake thinks theres zombie closet  parents fighting time  movie slower soap opera suddenly jake decides become rambo kill zombie  ok first youre going make film must decide thriller drama drama movie watchable parents divorcing  arguing like real life jake closet totally ruins film expected see boogeyman similar movie instead watched drama meaningless thriller spots  3 10 well playing parents  descent dialogs shots jake ignore\n",
      "\n",
      "show amazing fresh  innovative idea 70s first aired first 7 8 years brilliant things dropped 1990 show really funny anymore continued decline complete waste time today  truly disgraceful far show fallen writing painfully bad performances almost bad  mildly entertaining respite guesthosts show probably wouldnt still air find hard believe creator handselected original cast also chose band hacks followed one recognize brilliance see fit replace mediocrity felt must give 2 stars respect original cast made show huge success show awful cant believe still air\n",
      "\n"
     ]
    }
   ],
   "source": [
    "print(\"Positive\")\n",
    "print()\n",
    "for i in df.loc[df.sentiment == 'positive'].review_extended_clean[:2]:\n",
    "    print(i)\n",
    "    print()\n",
    "\n",
    "print(\"Negative\")\n",
    "print()\n",
    "for i in df.loc[df.sentiment == 'negative'].review_extended_clean[:2]:\n",
    "    print(i)\n",
    "    print()"
   ]
  },
  {
   "cell_type": "code",
   "execution_count": null,
   "metadata": {},
   "outputs": [],
   "source": [
    "### BEGIN SOLUTION\n",
    "\n",
    "# The difference is whether we remove stopwords\n",
    "# It becomes less readable for me (expect removing the linebreaks <br />), \n",
    "# but for algorithms it removes a lot of extra details (stopwords, exclamation marks etc.) \n",
    "# and keeps only the most important information. \n",
    "# However, it also introduces something which could be considered mistakes, i.e. introducing the word oldtimebbc from old-time-bbc\n",
    "# Generally, it's always up for interpretation what's right and what's wrong\n",
    "\n",
    "### END SOLUTION"
   ]
  },
  {
   "attachments": {},
   "cell_type": "markdown",
   "metadata": {},
   "source": [
    "Having now preprocessed the text, we want to implement a `bag-of-words` model.\n",
    "\n",
    "> **Exercise 3.5**\n",
    "> \n",
    "> Implement a model that count the amount of unique words in each sentence by filling in the missing code\n",
    ">> *Hints:*\n",
    ">>\n",
    ">> Try importing `CountVectorizer`\n",
    ">>\n",
    ">> It has a method which both fits and transforms the data in one go."
   ]
  },
  {
   "cell_type": "code",
   "execution_count": null,
   "metadata": {},
   "outputs": [],
   "source": [
    "from sklearn.feature_extraction.text import FILL IN\n",
    "\n",
    "vectorizer = FILL IN\n",
    "\n",
    "X = df.review_extended_clean\n",
    "\n",
    "X_bag = FILL IN"
   ]
  },
  {
   "cell_type": "code",
   "execution_count": 27,
   "metadata": {},
   "outputs": [],
   "source": [
    "### BEGIN SOLUTION\n",
    "\n",
    "from sklearn.feature_extraction.text import CountVectorizer\n",
    "\n",
    "vectorizer = CountVectorizer()\n",
    "\n",
    "X = df.review_extended_clean\n",
    "\n",
    "X_bag = vectorizer.fit_transform(X)\n",
    "\n",
    "### END SOLUTION"
   ]
  },
  {
   "attachments": {},
   "cell_type": "markdown",
   "metadata": {},
   "source": [
    "> **Exercise 3.6**\n",
    "> \n",
    "> We have now vectorized the text, and have a variable called `X_bag`.\n",
    ">\n",
    "> 1. What is the type of `X_bag`?\n",
    "> 2. What is the dimensionality of `X_bag`?\n",
    "> 3. Could we use simple unregularized linear regression with this input?\n",
    "> \n",
    ">> *Hints:*\n",
    ">>\n",
    ">> How many samples compared to variables do we have?\n",
    ">>"
   ]
  },
  {
   "cell_type": "code",
   "execution_count": null,
   "metadata": {},
   "outputs": [],
   "source": [
    "# Your code"
   ]
  },
  {
   "cell_type": "code",
   "execution_count": 28,
   "metadata": {},
   "outputs": [
    {
     "name": "stdout",
     "output_type": "stream",
     "text": [
      "(50000, 167125)\n",
      "<class 'scipy.sparse._csr.csr_matrix'>\n"
     ]
    }
   ],
   "source": [
    "### BEGIN SOLUTION\n",
    "\n",
    "print(X_bag.shape)\n",
    "print(type(X_bag))\n",
    "\n",
    "# It's a sparse matrix\n",
    "# They're very efficient -- if you ever convert it into a dense matrix and put it into a LogisticRegression, it's going to run forever.\n",
    "# Dimensions (50000, 167125), i.e. n < p and OLS does not work due to it not being invertible \n",
    "\n",
    "### END SOLUTION"
   ]
  },
  {
   "attachments": {},
   "cell_type": "markdown",
   "metadata": {},
   "source": [
    "Having now seen the workings of the `CountVectorizer`, we're going to implement it in a pipeline so it can be used for supervised learning as we have seen whilst avoiding data leakage. We do not perform cross validation to reduce the time it takes to run.\n",
    "\n",
    "> **Exercise 3.7**\n",
    "> \n",
    "> Fill in the missing code such that we implement a `CountVectorizer` followed by a `LogisticRegression`.\n",
    ">\n",
    "> Does it perform better than `VADER`?\n",
    ">> *Hints:*\n",
    ">> \n",
    ">> We have previously looked at pipelines and datasplitting. Try looking at last sessions exercises.\n",
    "\n"
   ]
  },
  {
   "cell_type": "code",
   "execution_count": 29,
   "metadata": {},
   "outputs": [
    {
     "ename": "SyntaxError",
     "evalue": "invalid syntax (2020955814.py, line 1)",
     "output_type": "error",
     "traceback": [
      "\u001b[1;36m  File \u001b[1;32m\"C:\\Users\\wkg579\\AppData\\Local\\Temp\\ipykernel_12020\\2020955814.py\"\u001b[1;36m, line \u001b[1;32m1\u001b[0m\n\u001b[1;33m    from sklearn.linear_model import\u001b[0m\n\u001b[1;37m                                     ^\u001b[0m\n\u001b[1;31mSyntaxError\u001b[0m\u001b[1;31m:\u001b[0m invalid syntax\n"
     ]
    }
   ],
   "source": [
    "from sklearn.linear_model import \n",
    "from sklearn.pipeline import Pipeline\n",
    "from sklearn.model_selection import train_test_split\n",
    "\n",
    "y = df.positive\n",
    "X = df.review_extended_clean\n",
    "\n",
    "X_train, X_test, y_train, y_test = train_test_split(FILL IN, test_size=0.3, random_state=73)\n",
    "\n",
    "\n",
    "tf_clf = Pipeline([FILL IN])\n",
    "\n",
    "tf_clf.fit(X_train, y_train)\n",
    "tf_acc = tf_clf.score(X_test, y_test)\n",
    "print(f\"Accuracy: {tf_acc:.2f}\")"
   ]
  },
  {
   "cell_type": "code",
   "execution_count": 34,
   "metadata": {},
   "outputs": [
    {
     "name": "stderr",
     "output_type": "stream",
     "text": [
      "c:\\Users\\wkg579\\.conda\\envs\\vive_env\\lib\\site-packages\\sklearn\\linear_model\\_logistic.py:444: ConvergenceWarning: lbfgs failed to converge (status=1):\n",
      "STOP: TOTAL NO. of ITERATIONS REACHED LIMIT.\n",
      "\n",
      "Increase the number of iterations (max_iter) or scale the data as shown in:\n",
      "    https://scikit-learn.org/stable/modules/preprocessing.html\n",
      "Please also refer to the documentation for alternative solver options:\n",
      "    https://scikit-learn.org/stable/modules/linear_model.html#logistic-regression\n",
      "  n_iter_i = _check_optimize_result(\n"
     ]
    },
    {
     "name": "stdout",
     "output_type": "stream",
     "text": [
      "Accuracy: 0.89\n"
     ]
    }
   ],
   "source": [
    "### BEGIN SOLUTION\n",
    "\n",
    "from sklearn.linear_model import LogisticRegression\n",
    "from sklearn.pipeline import Pipeline\n",
    "from sklearn.model_selection import train_test_split\n",
    "\n",
    "y = df.positive\n",
    "X = df.review_extended_clean\n",
    "\n",
    "X_train, X_test, y_train, y_test = train_test_split(X, y, test_size=0.3, random_state=73)\n",
    "\n",
    "\n",
    "tf_clf = Pipeline([('tf', CountVectorizer()),\n",
    "                     ('clf', LogisticRegression()),])\n",
    "\n",
    "tf_clf.fit(X_train, y_train)\n",
    "tf_acc = tf_clf.score(X_test, y_test)\n",
    "print(f\"Accuracy: {tf_acc:.2f}\")\n",
    "\n",
    "### END SOLUTION"
   ]
  },
  {
   "attachments": {},
   "cell_type": "markdown",
   "metadata": {},
   "source": [
    "> **Exercise 3.8**\n",
    "> \n",
    "> Change the vectorizer from the previous exercise to a tf-idf vectorizer followed by a `LogisticRegression`.\n",
    ">\n",
    "> Does the model perform better?\n",
    ">> *Hints:*\n",
    ">> \n",
    ">> Try googling `sklearn tfidf`\n"
   ]
  },
  {
   "cell_type": "code",
   "execution_count": null,
   "metadata": {},
   "outputs": [],
   "source": [
    "# Your code"
   ]
  },
  {
   "cell_type": "code",
   "execution_count": 35,
   "metadata": {},
   "outputs": [
    {
     "name": "stdout",
     "output_type": "stream",
     "text": [
      "Accuracy: 0.90\n"
     ]
    }
   ],
   "source": [
    "### BEGIN SOLUTION\n",
    "\n",
    "from sklearn.feature_extraction.text import TfidfVectorizer\n",
    "from sklearn.linear_model import LogisticRegression\n",
    "from sklearn.pipeline import Pipeline\n",
    "\n",
    "\n",
    "tfidf_clf = Pipeline([('tfidf', TfidfVectorizer()),\n",
    "                     ('clf', LogisticRegression()),])\n",
    "\n",
    "tfidf_clf.fit(X_train, y_train)\n",
    "\n",
    "tfidf_acc = tfidf_clf.score(X_test, y_test)\n",
    "print(f\"Accuracy: {tfidf_acc:.2f}\")\n",
    "\n",
    "# Slightly better, but not by much! Could be random chance\n",
    "\n",
    "### END SOLUTION"
   ]
  },
  {
   "attachments": {},
   "cell_type": "markdown",
   "metadata": {},
   "source": [
    "We have now looked at some ways of how to work with text. You could also look into:\n",
    "\n",
    "- Stemming and lemmatization\n",
    "- N-gram models (both vectorizers support it)\n",
    "- Changing the minimum or maximum frequency that words need to appear with\n",
    "\n",
    "Another model to look into that is not too computationally difficult is topic models. \n",
    "\n",
    "A cool application of topic models can be seen in [Transparency and Deliberation within the FOMC: A Computational Linguistics Approach](https://sekhansen.github.io/pdf_files/qje_2018.pdf), with the most information about the text analysis in section IV. \n",
    "\n",
    "`sklearn` has an implementation of a LDA topic model ([sklearn.decomposition.LatentDirichletAllocation](https://scikit-learn.org/stable/modules/generated/sklearn.decomposition.LatentDirichletAllocation.html)), although it is my impression that it is most commonly done using `gensim`, see their website [here](https://radimrehurek.com/gensim/index.html#)."
   ]
  }
 ],
 "metadata": {
  "kernelspec": {
   "display_name": "vive_env",
   "language": "python",
   "name": "python3"
  },
  "language_info": {
   "codemirror_mode": {
    "name": "ipython",
    "version": 3
   },
   "file_extension": ".py",
   "mimetype": "text/x-python",
   "name": "python",
   "nbconvert_exporter": "python",
   "pygments_lexer": "ipython3",
   "version": "3.10.4 | packaged by conda-forge | (main, Mar 30 2022, 08:38:02) [MSC v.1916 64 bit (AMD64)]"
  },
  "toc": {
   "base_numbering": 1,
   "nav_menu": {},
   "number_sections": true,
   "sideBar": true,
   "skip_h1_title": false,
   "title_cell": "Table of Contents",
   "title_sidebar": "Contents",
   "toc_cell": false,
   "toc_position": {},
   "toc_section_display": true,
   "toc_window_display": false
  },
  "varInspector": {
   "cols": {
    "lenName": 16,
    "lenType": 16,
    "lenVar": 40
   },
   "kernels_config": {
    "python": {
     "delete_cmd_postfix": "",
     "delete_cmd_prefix": "del ",
     "library": "var_list.py",
     "varRefreshCmd": "print(var_dic_list())"
    },
    "r": {
     "delete_cmd_postfix": ") ",
     "delete_cmd_prefix": "rm(",
     "library": "var_list.r",
     "varRefreshCmd": "cat(var_dic_list()) "
    }
   },
   "types_to_exclude": [
    "module",
    "function",
    "builtin_function_or_method",
    "instance",
    "_Feature"
   ],
   "window_display": false
  },
  "vscode": {
   "interpreter": {
    "hash": "50f1b660881291c5d31ad4d40c48915b3ef9364cc881d538585b11a7eb841304"
   }
  }
 },
 "nbformat": 4,
 "nbformat_minor": 4
}
