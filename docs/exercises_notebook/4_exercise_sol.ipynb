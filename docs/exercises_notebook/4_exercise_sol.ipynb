{
 "cells": [
  {
   "cell_type": "markdown",
   "metadata": {},
   "source": [
    "# Exercise Set 4: Supervised learning\n",
    "\n",
    "In this exercise set, we will mainly be looking at different supervised learning algorithms, both tinkering around with them and seeing how the models perform for a given dataset. We will look at:\n",
    "\n",
    "- Logistic regression\n",
    "- Decision tree\n",
    "- Ensemble methods\n",
    "  - Random Forest\n",
    "  - AdaBoost\n",
    "- Neural network\n",
    "\n",
    "If you in general need more information about models or how to tune their hyperparameters, try looking up the documentation or googling `hyperparameter tuning + model_name`\n",
    "\n",
    "\n",
    "Throughout your career, you've probably worked with many problems. Some problems can easily be formulated as regression problem, whereas others are easily formulated as a classification problem."
   ]
  },
  {
   "cell_type": "markdown",
   "metadata": {},
   "source": [
    "> **Exercise 1.1**\n",
    "> \n",
    "> Name three different problems which you've worked with where the outcome of interest was:\n",
    "> - Continuous (regression) \n",
    "> - Categorical (classification)\n",
    ">   \n",
    "> Have you encountered problems where the outcome of interest could be both continuous and categorical?\n",
    "> Would being able to predict these outcomes of interest be valuable?"
   ]
  },
  {
   "cell_type": "markdown",
   "metadata": {},
   "source": [
    "For this session, I invite you to use a dataset of your own, as different models work best for different problems:\n",
    "\n",
    "- This can be either a regression problem or a classification problem. \n",
    "  \n",
    "- Feel free to preprocess in another program and export it as a `csv` file or another format of your choosing\n",
    "\n",
    "The exercises are designed with a classification problem in mind, but all exercises except the ones about confusion matrices can be exchanged for regression problems by changin from a `Classifier` to a `Regressor` model.\n",
    "\n",
    "The dataset I've decided upon is a dataset regarding classification of high income people, namely the [Census Income Data Set from the UCI Machine Learning Repository](https://archive.ics.uci.edu/ml/datasets/Census+Income). I've reduced the amount of features and sample size, as well as done a little bit of cleaning, from the full sample to reduce computation time. All the categorical features are one-hot encoded."
   ]
  },
  {
   "cell_type": "code",
   "execution_count": 1,
   "metadata": {},
   "outputs": [
    {
     "data": {
      "text/html": [
       "<div>\n",
       "<style scoped>\n",
       "    .dataframe tbody tr th:only-of-type {\n",
       "        vertical-align: middle;\n",
       "    }\n",
       "\n",
       "    .dataframe tbody tr th {\n",
       "        vertical-align: top;\n",
       "    }\n",
       "\n",
       "    .dataframe thead th {\n",
       "        text-align: right;\n",
       "    }\n",
       "</style>\n",
       "<table border=\"1\" class=\"dataframe\">\n",
       "  <thead>\n",
       "    <tr style=\"text-align: right;\">\n",
       "      <th></th>\n",
       "      <th>high_income</th>\n",
       "      <th>age</th>\n",
       "      <th>education_num</th>\n",
       "      <th>hours_per_week</th>\n",
       "      <th>capital_gain</th>\n",
       "      <th>capital_loss</th>\n",
       "      <th>sex_female</th>\n",
       "      <th>sex_male</th>\n",
       "      <th>race_black</th>\n",
       "      <th>race_white</th>\n",
       "      <th>marital_status_divorced</th>\n",
       "      <th>marital_status_married_civ_spouse</th>\n",
       "      <th>marital_status_never_married</th>\n",
       "    </tr>\n",
       "  </thead>\n",
       "  <tbody>\n",
       "    <tr>\n",
       "      <th>count</th>\n",
       "      <td>876.000000</td>\n",
       "      <td>876.000000</td>\n",
       "      <td>876.000000</td>\n",
       "      <td>876.000000</td>\n",
       "      <td>876.000000</td>\n",
       "      <td>876.000000</td>\n",
       "      <td>876.000000</td>\n",
       "      <td>876.000000</td>\n",
       "      <td>876.000000</td>\n",
       "      <td>876.000000</td>\n",
       "      <td>876.000000</td>\n",
       "      <td>876.000000</td>\n",
       "      <td>876.000000</td>\n",
       "    </tr>\n",
       "    <tr>\n",
       "      <th>mean</th>\n",
       "      <td>0.243151</td>\n",
       "      <td>37.535388</td>\n",
       "      <td>10.070776</td>\n",
       "      <td>40.142694</td>\n",
       "      <td>1486.558219</td>\n",
       "      <td>88.038813</td>\n",
       "      <td>0.302511</td>\n",
       "      <td>0.697489</td>\n",
       "      <td>0.085616</td>\n",
       "      <td>0.914384</td>\n",
       "      <td>0.155251</td>\n",
       "      <td>0.498858</td>\n",
       "      <td>0.345890</td>\n",
       "    </tr>\n",
       "    <tr>\n",
       "      <th>std</th>\n",
       "      <td>0.429230</td>\n",
       "      <td>13.106417</td>\n",
       "      <td>2.439581</td>\n",
       "      <td>11.915376</td>\n",
       "      <td>9766.347789</td>\n",
       "      <td>411.781508</td>\n",
       "      <td>0.459608</td>\n",
       "      <td>0.459608</td>\n",
       "      <td>0.279957</td>\n",
       "      <td>0.279957</td>\n",
       "      <td>0.362351</td>\n",
       "      <td>0.500284</td>\n",
       "      <td>0.475929</td>\n",
       "    </tr>\n",
       "    <tr>\n",
       "      <th>min</th>\n",
       "      <td>0.000000</td>\n",
       "      <td>17.000000</td>\n",
       "      <td>2.000000</td>\n",
       "      <td>2.000000</td>\n",
       "      <td>0.000000</td>\n",
       "      <td>0.000000</td>\n",
       "      <td>0.000000</td>\n",
       "      <td>0.000000</td>\n",
       "      <td>0.000000</td>\n",
       "      <td>0.000000</td>\n",
       "      <td>0.000000</td>\n",
       "      <td>0.000000</td>\n",
       "      <td>0.000000</td>\n",
       "    </tr>\n",
       "    <tr>\n",
       "      <th>25%</th>\n",
       "      <td>0.000000</td>\n",
       "      <td>27.000000</td>\n",
       "      <td>9.000000</td>\n",
       "      <td>40.000000</td>\n",
       "      <td>0.000000</td>\n",
       "      <td>0.000000</td>\n",
       "      <td>0.000000</td>\n",
       "      <td>0.000000</td>\n",
       "      <td>0.000000</td>\n",
       "      <td>1.000000</td>\n",
       "      <td>0.000000</td>\n",
       "      <td>0.000000</td>\n",
       "      <td>0.000000</td>\n",
       "    </tr>\n",
       "    <tr>\n",
       "      <th>50%</th>\n",
       "      <td>0.000000</td>\n",
       "      <td>37.000000</td>\n",
       "      <td>10.000000</td>\n",
       "      <td>40.000000</td>\n",
       "      <td>0.000000</td>\n",
       "      <td>0.000000</td>\n",
       "      <td>0.000000</td>\n",
       "      <td>1.000000</td>\n",
       "      <td>0.000000</td>\n",
       "      <td>1.000000</td>\n",
       "      <td>0.000000</td>\n",
       "      <td>0.000000</td>\n",
       "      <td>0.000000</td>\n",
       "    </tr>\n",
       "    <tr>\n",
       "      <th>75%</th>\n",
       "      <td>0.000000</td>\n",
       "      <td>46.000000</td>\n",
       "      <td>12.000000</td>\n",
       "      <td>45.000000</td>\n",
       "      <td>0.000000</td>\n",
       "      <td>0.000000</td>\n",
       "      <td>1.000000</td>\n",
       "      <td>1.000000</td>\n",
       "      <td>0.000000</td>\n",
       "      <td>1.000000</td>\n",
       "      <td>0.000000</td>\n",
       "      <td>1.000000</td>\n",
       "      <td>1.000000</td>\n",
       "    </tr>\n",
       "    <tr>\n",
       "      <th>max</th>\n",
       "      <td>1.000000</td>\n",
       "      <td>90.000000</td>\n",
       "      <td>16.000000</td>\n",
       "      <td>99.000000</td>\n",
       "      <td>99999.000000</td>\n",
       "      <td>3683.000000</td>\n",
       "      <td>1.000000</td>\n",
       "      <td>1.000000</td>\n",
       "      <td>1.000000</td>\n",
       "      <td>1.000000</td>\n",
       "      <td>1.000000</td>\n",
       "      <td>1.000000</td>\n",
       "      <td>1.000000</td>\n",
       "    </tr>\n",
       "  </tbody>\n",
       "</table>\n",
       "</div>"
      ],
      "text/plain": [
       "       high_income         age  education_num  hours_per_week  capital_gain  \\\n",
       "count   876.000000  876.000000     876.000000      876.000000    876.000000   \n",
       "mean      0.243151   37.535388      10.070776       40.142694   1486.558219   \n",
       "std       0.429230   13.106417       2.439581       11.915376   9766.347789   \n",
       "min       0.000000   17.000000       2.000000        2.000000      0.000000   \n",
       "25%       0.000000   27.000000       9.000000       40.000000      0.000000   \n",
       "50%       0.000000   37.000000      10.000000       40.000000      0.000000   \n",
       "75%       0.000000   46.000000      12.000000       45.000000      0.000000   \n",
       "max       1.000000   90.000000      16.000000       99.000000  99999.000000   \n",
       "\n",
       "       capital_loss  sex_female    sex_male  race_black  race_white  \\\n",
       "count    876.000000  876.000000  876.000000  876.000000  876.000000   \n",
       "mean      88.038813    0.302511    0.697489    0.085616    0.914384   \n",
       "std      411.781508    0.459608    0.459608    0.279957    0.279957   \n",
       "min        0.000000    0.000000    0.000000    0.000000    0.000000   \n",
       "25%        0.000000    0.000000    0.000000    0.000000    1.000000   \n",
       "50%        0.000000    0.000000    1.000000    0.000000    1.000000   \n",
       "75%        0.000000    1.000000    1.000000    0.000000    1.000000   \n",
       "max     3683.000000    1.000000    1.000000    1.000000    1.000000   \n",
       "\n",
       "       marital_status_divorced  marital_status_married_civ_spouse  \\\n",
       "count               876.000000                         876.000000   \n",
       "mean                  0.155251                           0.498858   \n",
       "std                   0.362351                           0.500284   \n",
       "min                   0.000000                           0.000000   \n",
       "25%                   0.000000                           0.000000   \n",
       "50%                   0.000000                           0.000000   \n",
       "75%                   0.000000                           1.000000   \n",
       "max                   1.000000                           1.000000   \n",
       "\n",
       "       marital_status_never_married  \n",
       "count                    876.000000  \n",
       "mean                       0.345890  \n",
       "std                        0.475929  \n",
       "min                        0.000000  \n",
       "25%                        0.000000  \n",
       "50%                        0.000000  \n",
       "75%                        1.000000  \n",
       "max                        1.000000  "
      ]
     },
     "execution_count": 1,
     "metadata": {},
     "output_type": "execute_result"
    }
   ],
   "source": [
    "# Suppress convergencewarnings if they appear\n",
    "import warnings\n",
    "from sklearn.exceptions import ConvergenceWarning\n",
    "warnings.filterwarnings(action='ignore', category=ConvergenceWarning)\n",
    "\n",
    "# Actual code to load\n",
    "import pandas as pd\n",
    "\n",
    "df = pd.read_csv('adult_preprocessed.csv')\n",
    "df.describe()"
   ]
  },
  {
   "cell_type": "markdown",
   "metadata": {},
   "source": [
    "> **Exercise 1.2**\n",
    "> \n",
    "> What column in the DataFrame is the target of interest? Subset this as a `Series` called `y`, and the rest of the columns as a `DataFrame` called `X`\n",
    "> \n",
    ">> *Hints:* \n",
    ">> \n",
    ">> `y = df['column_name']` subsets a column as a Series.\n",
    ">>\n",
    ">> `X = df.drop(columns='column_name')` drops a column in a dataframe"
   ]
  },
  {
   "cell_type": "code",
   "execution_count": 2,
   "metadata": {},
   "outputs": [],
   "source": [
    "### BEGIN SOLUTION\n",
    "\n",
    "X = df.drop(columns='high_income')\n",
    "y = df['high_income']\n",
    "\n",
    "### END SOLUTION"
   ]
  },
  {
   "cell_type": "markdown",
   "metadata": {},
   "source": [
    "> **Exercise 1.3**\n",
    "> \n",
    "> As a first step, you should split the data into a development and test set. Make a development and test split with 80% of the data in the development set. Name them `X_dev`, `X_test`, `y_dev` and `y_test`\n",
    "> \n",
    ">> *Hints:*\n",
    ">> \n",
    ">> Try importing `train_test_split` from `sklearn.model_selection`\n"
   ]
  },
  {
   "cell_type": "code",
   "execution_count": 3,
   "metadata": {},
   "outputs": [],
   "source": [
    "### BEGIN SOLUTION\n",
    "\n",
    "from sklearn.model_selection import train_test_split\n",
    "X_dev, X_test, y_dev, y_test = train_test_split(X, y, train_size=0.8, random_state=73)\n",
    "\n",
    "### END SOLUTION"
   ]
  },
  {
   "cell_type": "markdown",
   "metadata": {},
   "source": [
    "# Validation curves\n",
    "\n",
    "Last week, you were introduced to validation curves. This is a way of getting an understanding how a single hyperparameter changes the performance of a model on both seen and unseen data. We will be using this tool throughout these exercises to probe the models and see how the hyperparameters change the performance of the model.\n",
    "\n",
    "Below I've created a snippet of code, which you can copy and use to create the validation curves. This is essentially a function, but I've refrained from creating a function so you can easily change it around.\n",
    "\n",
    "To use it, we need to define four things:\n",
    "\n",
    "- A modelling pipeline, e.g. a `Pipeline` with `PolynomialFeatures`, `StandardScaling` then `Lasso`\n",
    "- A scoring method, e.g. `neg_mean_squared_error` or `accuracy`, see [this list for potential candidates](https://scikit-learn.org/stable/modules/model_evaluation.html#the-scoring-parameter-defining-model-evaluation-rules)\n",
    "- A hyperparameter range, e.g. `np.logspace(-4, 4, 10)`\n",
    "- The name of the modelling step and the hyperparameter name, e.g. `lasso__alpha`\n",
    "\n",
    "\n",
    "Also make sure that your development data is called `X_dev` and `y_dev`.\n",
    "\n",
    "Note that you can change the scale (normal vs log) by changing `logx` to `False`\n"
   ]
  },
  {
   "cell_type": "code",
   "execution_count": 4,
   "metadata": {},
   "outputs": [
    {
     "ename": "SyntaxError",
     "evalue": "invalid syntax (2883952296.py, line 6)",
     "output_type": "error",
     "traceback": [
      "\u001b[1;36m  File \u001b[1;32m\"C:\\Users\\wkg579\\AppData\\Local\\Temp\\ipykernel_16852\\2883952296.py\"\u001b[1;36m, line \u001b[1;32m6\u001b[0m\n\u001b[1;33m    pipeline = # FILL IN\u001b[0m\n\u001b[1;37m               ^\u001b[0m\n\u001b[1;31mSyntaxError\u001b[0m\u001b[1;31m:\u001b[0m invalid syntax\n"
     ]
    }
   ],
   "source": [
    "from sklearn.model_selection import validation_curve\n",
    "from sklearn.pipeline import Pipeline\n",
    "import pandas as pd\n",
    "\n",
    "# Modelling pipeline we want to use\n",
    "pipeline = # FILL IN\n",
    "\n",
    "# The measure we want to evaluate or model against\n",
    "score_type = # FILL IN\n",
    "\n",
    "# A range of hyperparameter values we want to examine\n",
    "param_range = # FILL IN\n",
    "\n",
    "# The name of the step in the pipeline and the name of the hyperparameter\n",
    "param_name = # FILL IN\n",
    "\n",
    "# Calculate train and test scores using 5 fold cross validation\n",
    "train_scores, test_scores = \\\n",
    "    validation_curve(estimator = pipeline,\n",
    "                     X = X_dev,\n",
    "                     y = y_dev,\n",
    "                     param_name = param_name,\n",
    "                     param_range = param_range,       \n",
    "                     cv = 5)\n",
    "\n",
    "# Convert train and test scores into a DataFrame\n",
    "score_df = pd.DataFrame({'Train':train_scores.mean(axis=1),\n",
    "                          'Validation':test_scores.mean(axis=1),\n",
    "                          param_name:param_range})\n",
    "\n",
    "# Plot the scores as a function of hyperparameter\n",
    "f, ax = plt.subplots()\n",
    "score_df.set_index(param_name).plot(logx=True, ax=ax)"
   ]
  },
  {
   "cell_type": "markdown",
   "metadata": {},
   "source": [
    "# Logistic Regression\n",
    "\n",
    "Here I give an example with LogisticRegression, as this is the only model we are going to be examining today which only supports classification."
   ]
  },
  {
   "cell_type": "code",
   "execution_count": 5,
   "metadata": {},
   "outputs": [
    {
     "data": {
      "image/png": "[encoded data removed]",
      "text/plain": [
       "<Figure size 640x480 with 1 Axes>"
      ]
     },
     "metadata": {},
     "output_type": "display_data"
    }
   ],
   "source": [
    "from sklearn.model_selection import validation_curve\n",
    "from sklearn.pipeline import Pipeline\n",
    "import pandas as pd\n",
    "import numpy as np\n",
    "import matplotlib.pyplot as plt\n",
    "\n",
    "# Additional imports\n",
    "from sklearn.preprocessing import StandardScaler\n",
    "from sklearn.linear_model import LogisticRegression\n",
    "\n",
    "# Pipeline with StandardScaler and LogisticRegression (could add PolynomialFeatures etc.)\n",
    "\n",
    "pipeline = Pipeline([\n",
    "    ('scaler', StandardScaler()),\n",
    "    ('logit', LogisticRegression())\n",
    "])\n",
    "\n",
    "# I want to evaluate the hyperparameter with accuracy\n",
    "score_type = 'accuracy'\n",
    "\n",
    "# Logarithmically spaced between 10^-4 and 10^4\n",
    "param_range = np.logspace(-2, 2, 20)\n",
    "\n",
    "# Model step is called 'logit', hyperparameter is called 'C'\n",
    "param_name = 'logit__C' # Remember two underscores\n",
    "\n",
    "# Calculate train and test scores using 5 fold cross validation\n",
    "train_scores, test_scores = \\\n",
    "    validation_curve(estimator = pipeline,\n",
    "                     X = X_dev,\n",
    "                     y = y_dev,\n",
    "                     scoring = score_type,\n",
    "                     param_name = param_name,\n",
    "                     param_range = param_range,       \n",
    "                     cv = 5)\n",
    "\n",
    "# Convert train and test scores into a DataFrame\n",
    "score_df = pd.DataFrame({'Train':train_scores.mean(axis=1),\n",
    "                          'Validation':test_scores.mean(axis=1),\n",
    "                          param_name:param_range})\n",
    "                \n",
    "\n",
    "# Plot the scores as a function of hyperparameter\n",
    "f, ax = plt.subplots()\n",
    "score_df.set_index(param_name).plot(logx=True, ax=ax)\n",
    "ax.set_ylabel(score_type)\n",
    "plt.show()"
   ]
  },
  {
   "cell_type": "markdown",
   "metadata": {},
   "source": [
    "As expected, we find that lower values of `C` corresponds to higher regularization, which causes the model to underfit on both the training and test data. For higher values of `C` the model starts to overfit, where we see a gap between the train and validation scores. However, the out of sample performance does not seem to be too bad even with very little regularization."
   ]
  },
  {
   "cell_type": "code",
   "execution_count": 6,
   "metadata": {},
   "outputs": [
    {
     "data": {
      "text/html": [
       "<div>\n",
       "<style scoped>\n",
       "    .dataframe tbody tr th:only-of-type {\n",
       "        vertical-align: middle;\n",
       "    }\n",
       "\n",
       "    .dataframe tbody tr th {\n",
       "        vertical-align: top;\n",
       "    }\n",
       "\n",
       "    .dataframe thead th {\n",
       "        text-align: right;\n",
       "    }\n",
       "</style>\n",
       "<table border=\"1\" class=\"dataframe\">\n",
       "  <thead>\n",
       "    <tr style=\"text-align: right;\">\n",
       "      <th></th>\n",
       "      <th>Train</th>\n",
       "      <th>Validation</th>\n",
       "      <th>logit__C</th>\n",
       "    </tr>\n",
       "  </thead>\n",
       "  <tbody>\n",
       "    <tr>\n",
       "      <th>0</th>\n",
       "      <td>0.805000</td>\n",
       "      <td>0.798571</td>\n",
       "      <td>0.010000</td>\n",
       "    </tr>\n",
       "    <tr>\n",
       "      <th>1</th>\n",
       "      <td>0.816071</td>\n",
       "      <td>0.807143</td>\n",
       "      <td>0.016238</td>\n",
       "    </tr>\n",
       "    <tr>\n",
       "      <th>2</th>\n",
       "      <td>0.826429</td>\n",
       "      <td>0.818571</td>\n",
       "      <td>0.026367</td>\n",
       "    </tr>\n",
       "    <tr>\n",
       "      <th>3</th>\n",
       "      <td>0.829286</td>\n",
       "      <td>0.822857</td>\n",
       "      <td>0.042813</td>\n",
       "    </tr>\n",
       "    <tr>\n",
       "      <th>4</th>\n",
       "      <td>0.829286</td>\n",
       "      <td>0.820000</td>\n",
       "      <td>0.069519</td>\n",
       "    </tr>\n",
       "    <tr>\n",
       "      <th>5</th>\n",
       "      <td>0.835714</td>\n",
       "      <td>0.821429</td>\n",
       "      <td>0.112884</td>\n",
       "    </tr>\n",
       "    <tr>\n",
       "      <th>6</th>\n",
       "      <td>0.838571</td>\n",
       "      <td>0.825714</td>\n",
       "      <td>0.183298</td>\n",
       "    </tr>\n",
       "    <tr>\n",
       "      <th>7</th>\n",
       "      <td>0.838929</td>\n",
       "      <td>0.824286</td>\n",
       "      <td>0.297635</td>\n",
       "    </tr>\n",
       "    <tr>\n",
       "      <th>8</th>\n",
       "      <td>0.841786</td>\n",
       "      <td>0.827143</td>\n",
       "      <td>0.483293</td>\n",
       "    </tr>\n",
       "    <tr>\n",
       "      <th>9</th>\n",
       "      <td>0.841429</td>\n",
       "      <td>0.828571</td>\n",
       "      <td>0.784760</td>\n",
       "    </tr>\n",
       "    <tr>\n",
       "      <th>10</th>\n",
       "      <td>0.843571</td>\n",
       "      <td>0.828571</td>\n",
       "      <td>1.274275</td>\n",
       "    </tr>\n",
       "    <tr>\n",
       "      <th>11</th>\n",
       "      <td>0.843571</td>\n",
       "      <td>0.827143</td>\n",
       "      <td>2.069138</td>\n",
       "    </tr>\n",
       "    <tr>\n",
       "      <th>12</th>\n",
       "      <td>0.842857</td>\n",
       "      <td>0.827143</td>\n",
       "      <td>3.359818</td>\n",
       "    </tr>\n",
       "    <tr>\n",
       "      <th>13</th>\n",
       "      <td>0.841429</td>\n",
       "      <td>0.828571</td>\n",
       "      <td>5.455595</td>\n",
       "    </tr>\n",
       "    <tr>\n",
       "      <th>14</th>\n",
       "      <td>0.841071</td>\n",
       "      <td>0.828571</td>\n",
       "      <td>8.858668</td>\n",
       "    </tr>\n",
       "    <tr>\n",
       "      <th>15</th>\n",
       "      <td>0.840714</td>\n",
       "      <td>0.827143</td>\n",
       "      <td>14.384499</td>\n",
       "    </tr>\n",
       "    <tr>\n",
       "      <th>16</th>\n",
       "      <td>0.840714</td>\n",
       "      <td>0.827143</td>\n",
       "      <td>23.357215</td>\n",
       "    </tr>\n",
       "    <tr>\n",
       "      <th>17</th>\n",
       "      <td>0.840714</td>\n",
       "      <td>0.827143</td>\n",
       "      <td>37.926902</td>\n",
       "    </tr>\n",
       "    <tr>\n",
       "      <th>18</th>\n",
       "      <td>0.840714</td>\n",
       "      <td>0.827143</td>\n",
       "      <td>61.584821</td>\n",
       "    </tr>\n",
       "    <tr>\n",
       "      <th>19</th>\n",
       "      <td>0.840714</td>\n",
       "      <td>0.827143</td>\n",
       "      <td>100.000000</td>\n",
       "    </tr>\n",
       "  </tbody>\n",
       "</table>\n",
       "</div>"
      ],
      "text/plain": [
       "       Train  Validation    logit__C\n",
       "0   0.805000    0.798571    0.010000\n",
       "1   0.816071    0.807143    0.016238\n",
       "2   0.826429    0.818571    0.026367\n",
       "3   0.829286    0.822857    0.042813\n",
       "4   0.829286    0.820000    0.069519\n",
       "5   0.835714    0.821429    0.112884\n",
       "6   0.838571    0.825714    0.183298\n",
       "7   0.838929    0.824286    0.297635\n",
       "8   0.841786    0.827143    0.483293\n",
       "9   0.841429    0.828571    0.784760\n",
       "10  0.843571    0.828571    1.274275\n",
       "11  0.843571    0.827143    2.069138\n",
       "12  0.842857    0.827143    3.359818\n",
       "13  0.841429    0.828571    5.455595\n",
       "14  0.841071    0.828571    8.858668\n",
       "15  0.840714    0.827143   14.384499\n",
       "16  0.840714    0.827143   23.357215\n",
       "17  0.840714    0.827143   37.926902\n",
       "18  0.840714    0.827143   61.584821\n",
       "19  0.840714    0.827143  100.000000"
      ]
     },
     "execution_count": 6,
     "metadata": {},
     "output_type": "execute_result"
    }
   ],
   "source": [
    "score_df"
   ]
  },
  {
   "cell_type": "markdown",
   "metadata": {},
   "source": [
    "> **Exercise 1.3**\n",
    "> \n",
    "> Having now examined how the logistic regression, we want to see how it performs on the test data. Create a pipeline with the best hyperparameter found before, fit on the development data and calculate the accuracy on the test data.\n",
    "> \n",
    ">> *Hints:*  \n",
    ">>\n",
    ">> Try importing `accuracy_score` from `sklearn.metrics`\n",
    ">>\n",
    ">> `best_param = score_df.iloc[score_df['Validation'].idxmax()][param_name]` gets the hyperparameter for the highest validation score\n"
   ]
  },
  {
   "cell_type": "code",
   "execution_count": 7,
   "metadata": {},
   "outputs": [
    {
     "name": "stdout",
     "output_type": "stream",
     "text": [
      "Test score 0.835\n"
     ]
    }
   ],
   "source": [
    "### BEGIN SOLUTION\n",
    "from sklearn.metrics import accuracy_score\n",
    "\n",
    "best_param = score_df.iloc[score_df['Validation'].idxmax()][param_name]\n",
    "\n",
    "pipeline = Pipeline([\n",
    "    ('scaler', StandardScaler()),\n",
    "    ('logit', LogisticRegression(C=best_param))\n",
    "])\n",
    "\n",
    "pipeline.fit(X_dev, y_dev)\n",
    "print(f'Test score {accuracy_score(pipeline.predict(X_test), y_test):.3f}')\n",
    "\n",
    "### END SOLUTION"
   ]
  },
  {
   "cell_type": "markdown",
   "metadata": {},
   "source": [
    "> **Exercise 1.4**\n",
    "> \n",
    "> Plot the confusion matrix using the pipeline from last exercise using the test set. Has the model learnt anything useful?\n",
    ">> *Hints*:\n",
    ">>\n",
    ">> Try importing `ConfusionMatrixDisplay` from `sklearn.metrics`\n",
    ">>\n",
    ">> If this fails, there also exists a deprecated function `sklearn.metrics.plot_confusion_matrix`, which is available in previous versions of `sklearn`\n"
   ]
  },
  {
   "cell_type": "code",
   "execution_count": 8,
   "metadata": {},
   "outputs": [
    {
     "data": {
      "image/png": "[encoded data removed]",
      "text/plain": [
       "<Figure size 640x480 with 2 Axes>"
      ]
     },
     "metadata": {},
     "output_type": "display_data"
    }
   ],
   "source": [
    "### BEGIN SOLUTION\n",
    "\n",
    "from sklearn.metrics import ConfusionMatrixDisplay\n",
    "\n",
    "disp = ConfusionMatrixDisplay.from_estimator(pipeline, X_test, y_test)\n",
    "plt.show()\n",
    "\n",
    "# Not just predicting majority class, the model has indeed learnt something!\n",
    "\n",
    "# deprecated function\n",
    "#from sklearn.metrics import plot_confusion_matrix\n",
    "#plot_confusion_matrix(pipeline, X_test, y_test)\n",
    "\n",
    "### END SOLUTION"
   ]
  },
  {
   "cell_type": "markdown",
   "metadata": {},
   "source": [
    "> **Exercise 1.5**\n",
    "> \n",
    "> If you're using the dataset I gave you, you might have noticed that the class distribution is not completely equal, which can be seen both using summary statistics and in the confusion matrix. In this setting, a baseline model becomes even more important, as a model which guesses the majority class all the time might perform quite well if the data is imbalanced enough.\n",
    ">\n",
    "> Create a pipeline with a baseline model that always guesses the majority class\n",
    "> \n",
    ">> *Hints:* \n",
    ">> \n",
    ">> try importing `DummyClassifier` from `sklearn.dummy`\n"
   ]
  },
  {
   "cell_type": "code",
   "execution_count": 9,
   "metadata": {},
   "outputs": [
    {
     "name": "stdout",
     "output_type": "stream",
     "text": [
      "Test score 0.761\n"
     ]
    }
   ],
   "source": [
    "### BEGIN SOLUTION\n",
    "\n",
    "from sklearn.dummy import DummyClassifier\n",
    "\n",
    "pipeline = Pipeline([\n",
    "    ('dummy', DummyClassifier())\n",
    "])\n",
    "\n",
    "pipeline.fit(X_dev, y_dev)\n",
    "\n",
    "print(f'Test score {accuracy_score(pipeline.predict(X_test), y_test):.3f}')\n",
    "\n",
    "### END SOLUTION"
   ]
  },
  {
   "cell_type": "markdown",
   "metadata": {},
   "source": [
    "> **Exercise 1.6 (OPTIONAL)**\n",
    "> \n",
    "> What would the confusion matrix for this dummy classifier look like? Try plotting it: Was your intuition correct?\n",
    ">\n",
    ">> *Hints*:\n",
    ">>\n",
    ">> Try importing `ConfusionMatrixDisplay` from `sklearn.metrics`\n",
    ">>\n",
    ">> If this fails, there also exists a deprecated function `sklearn.metrics.plot_confusion_matrix`, which is available in previous versions of `sklearn`\n"
   ]
  },
  {
   "cell_type": "code",
   "execution_count": 10,
   "metadata": {},
   "outputs": [
    {
     "data": {
      "image/png": "[encoded data removed]",
      "text/plain": [
       "<Figure size 640x480 with 2 Axes>"
      ]
     },
     "metadata": {},
     "output_type": "display_data"
    }
   ],
   "source": [
    "### BEGIN SOLUTION\n",
    "\n",
    "from sklearn.metrics import ConfusionMatrixDisplay\n",
    "\n",
    "disp = ConfusionMatrixDisplay.from_estimator(pipeline, X_test, y_test)\n",
    "plt.show()\n",
    "\n",
    "# deprecated function\n",
    "#from sklearn.metrics import plot_confusion_matrix\n",
    "#plot_confusion_matrix(pipeline, X_test, y_test)\n",
    "\n",
    "### END SOLUTION"
   ]
  },
  {
   "cell_type": "markdown",
   "metadata": {},
   "source": [
    "# Decision Tree\n",
    "\n",
    "Having now examined a logistic regression, baseline models and the confusion matrix, we turn to the more exotic models you were introduced to today, starting with the decision tree."
   ]
  },
  {
   "cell_type": "markdown",
   "metadata": {},
   "source": [
    "> **Exercise 2.1**\n",
    "> \n",
    "> What does the `max_depth` parameter in a decision tree do? Does the model overfit more or less if you increase this value?\n",
    "> >\n",
    "> Create a validation plot with values of `max_depth`. Use the values `np.unique(np.logspace(0, 4, 10).astype(int))` which returns integers which are evenly spaced on a log scale. Why should they be converted to integers? \n",
    ">\n",
    ">> *Hints*:\n",
    ">>\n",
    ">> Try importing `DecisionTreeClassifier` or `DecisionTreeRegressor` from `sklearn.tree`\n"
   ]
  },
  {
   "cell_type": "code",
   "execution_count": 11,
   "metadata": {},
   "outputs": [
    {
     "data": {
      "image/png": "[encoded data removed]",
      "text/plain": [
       "<Figure size 640x480 with 1 Axes>"
      ]
     },
     "metadata": {},
     "output_type": "display_data"
    }
   ],
   "source": [
    "### BEGIN SOLUTION\n",
    "\n",
    "# Controls the maximum depth of the tree. \n",
    "# Higher values permit more overfitting\n",
    "\n",
    "from sklearn.tree import DecisionTreeClassifier \n",
    "\n",
    "pipeline = Pipeline([\n",
    "    ('tree', DecisionTreeClassifier())\n",
    "])\n",
    "\n",
    "score_type = 'accuracy'\n",
    "\n",
    "param_range = np.unique(np.logspace(0, 4, 10).astype(int))\n",
    "\n",
    "param_name = 'tree__max_depth'\n",
    "\n",
    "# Calculate train and test scores using 5 fold cross validation\n",
    "train_scores, test_scores = \\\n",
    "    validation_curve(estimator = pipeline,\n",
    "                     X = X_dev,\n",
    "                     y = y_dev,\n",
    "                     scoring = score_type,\n",
    "                     param_name = param_name,\n",
    "                     param_range = param_range,       \n",
    "                     cv = 5)\n",
    "\n",
    "# Convert train and test scores into a DataFrame\n",
    "score_df = pd.DataFrame({'Train':train_scores.mean(axis=1),\n",
    "                          'Validation':test_scores.mean(axis=1),\n",
    "                          param_name:param_range})  \n",
    "\n",
    "# Plot the scores as a function of hyperparameter\n",
    "f, ax = plt.subplots()\n",
    "score_df.set_index(param_name).plot(logx=True, ax=ax)\n",
    "ax.set_ylabel(score_type)\n",
    "plt.show()\n",
    "\n",
    "### END SOLUTION"
   ]
  },
  {
   "cell_type": "markdown",
   "metadata": {},
   "source": [
    "> **Exercise 2.2**\n",
    "> \n",
    "> What does the `min_samples_split` parameter in a decision tree do? Does the model overfit more or less if you increase this value?\n",
    "> \n",
    "> Create a validation plot with values of `min_samples_split`. Use the values `np.arange(0.05, 1.05, 0.05)` which returns fractions from 0.05 to 1, spaced 0.05 apart. \n",
    "> \n",
    "> What do these fractions mean? "
   ]
  },
  {
   "cell_type": "code",
   "execution_count": 12,
   "metadata": {},
   "outputs": [
    {
     "data": {
      "image/png": "[encoded data removed]",
      "text/plain": [
       "<Figure size 640x480 with 1 Axes>"
      ]
     },
     "metadata": {},
     "output_type": "display_data"
    }
   ],
   "source": [
    "### BEGIN SOLUTION\n",
    "\n",
    "# min_samples_split decides how many samples are required in an internal node before it can be split\n",
    "# Higher values reduce overfitting\n",
    "# By giving it fractions, it is interpreted as ceil(min_samples_split * n_samples),\n",
    "# i.e. share of sample size, which turns it into an integer again\n",
    "\n",
    "from sklearn.tree import DecisionTreeClassifier \n",
    "\n",
    "pipeline = Pipeline([\n",
    "    ('tree', DecisionTreeClassifier())\n",
    "])\n",
    "\n",
    "score_type = 'accuracy'\n",
    "\n",
    "param_range = np.arange(0.05, 1.05, 0.05)\n",
    "\n",
    "param_name = 'tree__min_samples_split'\n",
    "\n",
    "# Calculate train and test scores using 5 fold cross validation\n",
    "train_scores, test_scores = \\\n",
    "    validation_curve(estimator = pipeline,\n",
    "                     X = X_dev,\n",
    "                     y = y_dev,\n",
    "                     scoring = score_type,\n",
    "                     param_name = param_name,\n",
    "                     param_range = param_range,       \n",
    "                     cv = 5)\n",
    "\n",
    "# Convert train and test scores into a DataFrame\n",
    "mse_score = pd.DataFrame({'Train':train_scores.mean(axis=1),\n",
    "                          'Validation':test_scores.mean(axis=1),\n",
    "                          param_name:param_range})\n",
    "\n",
    "# Plot the scores as a function of hyperparameter\n",
    "f, ax = plt.subplots()\n",
    "mse_score.set_index(param_name).plot(logx=False, ax=ax)\n",
    "ax.set_ylabel(score_type)\n",
    "plt.show()\n",
    "\n",
    "### END SOLUTION"
   ]
  },
  {
   "cell_type": "markdown",
   "metadata": {},
   "source": [
    "> **Exercise 2.3**\n",
    "> \n",
    "> What does the `min_samples_leaf` parameter in a decision tree do? Does the model overfit more or less if you increase this value?\n",
    "> \n",
    "> Create a validation plot with values of `min_samples_split`. Use the values `np.arange(2, 50, 2)` "
   ]
  },
  {
   "cell_type": "code",
   "execution_count": 13,
   "metadata": {},
   "outputs": [
    {
     "data": {
      "image/png": "[encoded data removed]",
      "text/plain": [
       "<Figure size 640x480 with 1 Axes>"
      ]
     },
     "metadata": {},
     "output_type": "display_data"
    }
   ],
   "source": [
    "### BEGIN SOLUTION\n",
    "\n",
    "# min_samples_leaf decides how many samples are required in a leaf node\n",
    "# before it is allowed.\n",
    "# Higher values reduce overfitting\n",
    "\n",
    "from sklearn.tree import DecisionTreeClassifier \n",
    "\n",
    "pipeline = Pipeline([\n",
    "    ('tree', DecisionTreeClassifier())\n",
    "])\n",
    "\n",
    "score_type = 'accuracy'\n",
    "\n",
    "param_range = np.arange(2, 50, 2)\n",
    "\n",
    "param_name = 'tree__min_samples_leaf'\n",
    "\n",
    "# Calculate train and test scores using 5 fold cross validation\n",
    "train_scores, test_scores = \\\n",
    "    validation_curve(estimator = pipeline,\n",
    "                     X = X_dev,\n",
    "                     y = y_dev,\n",
    "                     scoring = score_type,\n",
    "                     param_name = param_name,\n",
    "                     param_range = param_range,       \n",
    "                     cv = 5)\n",
    "\n",
    "# Convert train and test scores into a DataFrame\n",
    "score_df = pd.DataFrame({'Train':train_scores.mean(axis=1),\n",
    "                          'Validation':test_scores.mean(axis=1),\n",
    "                          param_name:param_range})\n",
    "\n",
    "# Plot the scores as a function of hyperparameter\n",
    "f, ax = plt.subplots()\n",
    "score_df.set_index(param_name).plot(logx=False, ax=ax)\n",
    "ax.set_ylabel(score_type)\n",
    "plt.show()\n",
    "\n",
    "### END SOLUTION"
   ]
  },
  {
   "cell_type": "markdown",
   "metadata": {},
   "source": [
    "> **Exercise 2.4**\n",
    "> \n",
    "> To find the best hyperparamter values, implement a randomized search (`RandomizedSearchCV`) using the previous hyperparameter ranges. Use `n_iter = 25`. If your model takes too long to run, you can change this parameter -- should you increase it or lower it to reduce running time?\n",
    "> What are the best hyperparameters?\n",
    ">>\n",
    ">> *Hints*:\n",
    ">> \n",
    ">>  Look at exercise 2.6 from exercise session 3 for inspiration\n"
   ]
  },
  {
   "cell_type": "code",
   "execution_count": 14,
   "metadata": {},
   "outputs": [
    {
     "name": "stdout",
     "output_type": "stream",
     "text": [
      "{'tree__min_samples_split': 0.19, 'tree__min_samples_leaf': 12, 'tree__max_depth': 379}\n",
      "Vali score 0.840\n"
     ]
    }
   ],
   "source": [
    "### BEGIN SOLUTION\n",
    "\n",
    "from sklearn.model_selection import RandomizedSearchCV\n",
    "\n",
    "pipeline = Pipeline([\n",
    "    ('tree', DecisionTreeClassifier())\n",
    "])\n",
    "\n",
    "score_type = 'accuracy'\n",
    "\n",
    "param_grid= [{\n",
    "    'tree__min_samples_split': np.arange(0.01, 0.2, 0.01),\n",
    "    'tree__min_samples_leaf':  np.arange(2, 50, 2),\n",
    "    'tree__max_depth': np.unique(np.logspace(1, 4, 20).astype(int))\n",
    "    }]\n",
    "\n",
    "rs = RandomizedSearchCV(estimator=pipeline, \n",
    "                  param_distributions=param_grid, \n",
    "                  scoring=score_type, \n",
    "                  cv=5, \n",
    "                  n_iter = 50,\n",
    "                  n_jobs=-1)\n",
    "\n",
    "rs = rs.fit(X_dev, y_dev)\n",
    "best_tree_params = rs.best_params_\n",
    "print(rs.best_params_)\n",
    "print(f'Vali score {rs.best_score_:.3f}')\n",
    "\n",
    "### END SOLUTION"
   ]
  },
  {
   "cell_type": "markdown",
   "metadata": {},
   "source": [
    "> **Exercise 2.5**\n",
    "> \n",
    "> Calculate the accuracy of your model with the best hyperparameters. Is it better than the baseline?\n",
    ">> *Hints*:\n",
    ">>\n",
    ">> If you are using regression data, you can compare to a baseline with `DummyRegressor` from `sklearn.dummy`\n",
    ">>\n",
    ">> Feel free to plot the confusion matrix as well\n"
   ]
  },
  {
   "cell_type": "code",
   "execution_count": 15,
   "metadata": {},
   "outputs": [
    {
     "name": "stdout",
     "output_type": "stream",
     "text": [
      "Test score 0.835\n"
     ]
    }
   ],
   "source": [
    "### BEGIN SOLUTION\n",
    "\n",
    "# It is better than baseline!\n",
    "\n",
    "print(f'Test score {accuracy_score(rs.predict(X_test), y_test):.3f}')\n",
    "\n",
    "### END SOLUTION"
   ]
  },
  {
   "cell_type": "markdown",
   "metadata": {},
   "source": [
    "# Ensemble Model"
   ]
  },
  {
   "cell_type": "markdown",
   "metadata": {},
   "source": [
    "As covered in the lectures, there exists two overarching ensemble methods, bagging and boosting.\n",
    "\n",
    "- For bagging, we use bootstrap aggregation to train many models, averaging their predictions afterwards.\n",
    "- For boosting, we sequentially train models, optimizing them to aid each other in the prediction task.\n",
    "\n",
    "As examples of these two ensemble methods, we covered Random Forests, a bagging algorithm, and AdaBoost, a boosting algorithm, which we will cover in the next two sections."
   ]
  },
  {
   "cell_type": "markdown",
   "metadata": {},
   "source": [
    "## Random Forest (Bagging)"
   ]
  },
  {
   "cell_type": "markdown",
   "metadata": {},
   "source": [
    "> **Exercise 3.1**\n",
    "> \n",
    ">  The Random Forest has all the same hyperparameters as the decision tree, but also a few new. For each point below, explain what the hype parameter pertaining to `sklearn.ensemble.RandomForestClassifier` controls, and how setting it either too low or too high (or True/False) might hurt model performance:\n",
    "1. `n_estimators`\n",
    "2. `max_depth`\n",
    "3. `max_features`\n",
    "4. `bootstrap`"
   ]
  },
  {
   "cell_type": "code",
   "execution_count": 16,
   "metadata": {},
   "outputs": [],
   "source": [
    "### BEGIN SOLUTION\n",
    "\n",
    "# n_estimators: number of trees\n",
    "# max_depth: maximal number of total splits applied\n",
    "# max_features: number of features used for splitting\n",
    "# bootstrap: whether or not to use bootstrap to sample observations or all data\n",
    "\n",
    "### END SOLUTION"
   ]
  },
  {
   "cell_type": "markdown",
   "metadata": {},
   "source": [
    "> **Exercise 3.2**\n",
    "> \n",
    "> For `n_estimators > 1`, how should one set the hyperparameters `max_features` and `bootstrap` so that all the trees in the ensemble end up identical?"
   ]
  },
  {
   "cell_type": "code",
   "execution_count": 17,
   "metadata": {},
   "outputs": [],
   "source": [
    "### BEGIN SOLUTION\n",
    "\n",
    "# max_features = X.shape[1] (amount of columns), consider all features at all splits\n",
    "# bootstrap = False, do not bootstrap and use all samples for each tree\n",
    "\n",
    "### END SOLUTION"
   ]
  },
  {
   "cell_type": "markdown",
   "metadata": {},
   "source": [
    "> **Exercise 3.3**\n",
    "> \n",
    "> Create a validation plot with values of `n_estimators`. Use the values `np.unique(np.logspace(0, 3, 25).astype(int))`. How does it influence the train and validation scores?"
   ]
  },
  {
   "cell_type": "code",
   "execution_count": 18,
   "metadata": {},
   "outputs": [
    {
     "data": {
      "image/png": "[encoded data removed]",
      "text/plain": [
       "<Figure size 640x480 with 1 Axes>"
      ]
     },
     "metadata": {},
     "output_type": "display_data"
    }
   ],
   "source": [
    "### BEGIN SOLUTION\n",
    "\n",
    "from sklearn.ensemble import RandomForestClassifier \n",
    "\n",
    "pipeline = Pipeline([\n",
    "    ('forest', RandomForestClassifier())\n",
    "])\n",
    "\n",
    "score_type = 'accuracy'\n",
    "\n",
    "param_range = np.unique(np.logspace(0, 3, 25).astype(int))\n",
    "\n",
    "param_name = 'forest__n_estimators'\n",
    "\n",
    "# Calculate train and test scores using 5 fold cross validation\n",
    "train_scores, test_scores = \\\n",
    "    validation_curve(estimator = pipeline,\n",
    "                     X = X_dev,\n",
    "                     y = y_dev,\n",
    "                     scoring = score_type,\n",
    "                     param_name = param_name,\n",
    "                     param_range = param_range,       \n",
    "                     cv = 5)\n",
    "\n",
    "# Convert train and test scores into a DataFrame\n",
    "score_df = pd.DataFrame({'Train':train_scores.mean(axis=1),\n",
    "                          'Validation':test_scores.mean(axis=1),\n",
    "                          param_name:param_range})\n",
    "\n",
    "# Plot the scores as a function of hyperparameter\n",
    "f, ax = plt.subplots()\n",
    "score_df.set_index(param_name).plot(logx=True, ax=ax)\n",
    "ax.set_ylabel(score_type)\n",
    "plt.show()\n",
    "\n",
    "# Both train and validation scores increase and plateau as a function of n_estimators!\n",
    "\n",
    "### END SOLUTION"
   ]
  },
  {
   "cell_type": "markdown",
   "metadata": {},
   "source": [
    "> **Exercise 3.4**\n",
    "> \n",
    "> What does the `max_features` parameter in a Random Forest do? Does the model overfit more or less if you increase this value?\n",
    "> \n",
    "> Create a validation plot with values of `max_features`. Use the values `np.arange(0.1, 1.01, 0.1)`. Does it influence the train and validation scores?"
   ]
  },
  {
   "cell_type": "code",
   "execution_count": 19,
   "metadata": {},
   "outputs": [
    {
     "data": {
      "image/png": "[encoded data removed]",
      "text/plain": [
       "<Figure size 640x480 with 1 Axes>"
      ]
     },
     "metadata": {},
     "output_type": "display_data"
    }
   ],
   "source": [
    "### BEGIN SOLUTION\n",
    "\n",
    "pipeline = Pipeline([\n",
    "    ('forest', RandomForestClassifier())\n",
    "])\n",
    "\n",
    "score_type = 'accuracy'\n",
    "\n",
    "param_range = np.arange(0.1, 1.01, 0.1)\n",
    "\n",
    "param_name = 'forest__max_features'\n",
    "\n",
    "# Calculate train and test scores using 5 fold cross validation\n",
    "train_scores, test_scores = \\\n",
    "    validation_curve(estimator = pipeline,\n",
    "                     X = X_dev,\n",
    "                     y = y_dev,\n",
    "                     scoring = score_type,\n",
    "                     param_name = param_name,\n",
    "                     param_range = param_range,       \n",
    "                     cv = 5)\n",
    "\n",
    "# Convert train and test scores into a DataFrame\n",
    "score_df = pd.DataFrame({'Train':train_scores.mean(axis=1),\n",
    "                          'Validation':test_scores.mean(axis=1),\n",
    "                          param_name:param_range})\n",
    "\n",
    "# Plot the scores as a function of hyperparameter\n",
    "f, ax = plt.subplots()\n",
    "score_df.set_index(param_name).plot(logx=False, ax=ax)\n",
    "ax.set_ylabel(score_type)\n",
    "plt.show()\n",
    "\n",
    "# Doesn't change much -- still overfitting with default tree, it seems!\n",
    "\n",
    "### END SOLUTION"
   ]
  },
  {
   "cell_type": "markdown",
   "metadata": {},
   "source": [
    "> **Exercise 3.5 (OPTIONAL)**\n",
    "> \n",
    "> To find the best hyperparamter values, implement a randomized search (`RandomizedSearchCV`) using the previous hyperparameter ranges, including the decision tree section. Use `n_iter = 10`. If your model takes too long to run, you can change this parameter -- should you increase it or lower it to reduce running time?\n",
    "> What are the best hyperparameters? How does the model perform on the test set?\n",
    ">>\n",
    ">> *Hints*:\n",
    ">> \n",
    ">>  Look at exercise 2.6 from exercise session 3 for inspiration\n"
   ]
  },
  {
   "cell_type": "code",
   "execution_count": 20,
   "metadata": {},
   "outputs": [
    {
     "name": "stdout",
     "output_type": "stream",
     "text": [
      "{'forest__n_estimators': 749, 'forest__min_samples_split': 0.05, 'forest__min_samples_leaf': 4, 'forest__max_features': 0.4, 'forest__max_depth': 88}\n",
      "Vali score 0.841\n",
      "Test score 0.858\n"
     ]
    }
   ],
   "source": [
    "### BEGIN SOLUTION\n",
    "\n",
    "pipeline = Pipeline([\n",
    "    ('forest', RandomForestClassifier())\n",
    "])\n",
    "\n",
    "score_type = 'accuracy'\n",
    "\n",
    "param_grid= [{\n",
    "    'forest__n_estimators': np.unique(np.logspace(0, 3, 25).astype(int)),\n",
    "    'forest__max_features': np.arange(0.1, 1.01, 0.1),\n",
    "    'forest__min_samples_split': np.arange(0.01, 0.2, 0.01),\n",
    "    'forest__min_samples_leaf':  np.arange(2, 50, 2),\n",
    "    'forest__max_depth': np.unique(np.logspace(1, 4, 20).astype(int))\n",
    "    }]\n",
    "\n",
    "rs = RandomizedSearchCV(estimator=pipeline, \n",
    "                  param_distributions=param_grid, \n",
    "                  scoring=score_type, \n",
    "                  cv=5, \n",
    "                  n_iter = 10,\n",
    "                  n_jobs=-1,\n",
    "                  random_state=73)\n",
    "\n",
    "rs = rs.fit(X_dev, y_dev)\n",
    "print(rs.best_params_)\n",
    "print(f'Vali score {rs.best_score_:.3f}')\n",
    "print(f'Test score {accuracy_score(rs.predict(X_test), y_test):.3f}')\n",
    "\n",
    "### END SOLUTION"
   ]
  },
  {
   "cell_type": "markdown",
   "metadata": {},
   "source": [
    "## AdaBoost (Boosting)\n",
    "\n"
   ]
  },
  {
   "cell_type": "markdown",
   "metadata": {},
   "source": [
    "> **Exercise 4.1**\n",
    "> \n",
    "> What does the `n_estimators` parameter in a AdaBoost do? Does the model overfit more or less if you increase this value?\n",
    "> \n",
    "> Create a validation plot with values of `n_estimators`. Use the values `[int(x) for x in np.linspace(start = 1, stop = 500, num = 10)]` \n",
    ">>\n",
    ">> *Hints*:\n",
    ">>\n",
    ">> Try importing `AdaBoostClassifier` from `sklearn.ensemble`"
   ]
  },
  {
   "cell_type": "code",
   "execution_count": 21,
   "metadata": {},
   "outputs": [
    {
     "data": {
      "image/png": "[encoded data removed]",
      "text/plain": [
       "<Figure size 640x480 with 1 Axes>"
      ]
     },
     "metadata": {},
     "output_type": "display_data"
    }
   ],
   "source": [
    "### BEGIN SOLUTION\n",
    "\n",
    "from sklearn.ensemble import AdaBoostClassifier \n",
    "\n",
    "\n",
    "pipeline = Pipeline([\n",
    "    ('adaboost', AdaBoostClassifier(base_estimator=DecisionTreeClassifier()))\n",
    "])\n",
    "\n",
    "\n",
    "score_type = 'accuracy'\n",
    "\n",
    "param_range = [int(x) for x in np.linspace(start = 1, stop = 500, num = 10)]\n",
    "\n",
    "param_name = 'adaboost__n_estimators'\n",
    "\n",
    "# Calculate train and test scores using 5 fold cross validation\n",
    "train_scores, test_scores = \\\n",
    "    validation_curve(estimator = pipeline,\n",
    "                     X = X_dev,\n",
    "                     y = y_dev,\n",
    "                     scoring = score_type,\n",
    "                     param_name = param_name,\n",
    "                     param_range = param_range,       \n",
    "                     cv = 5)\n",
    "\n",
    "# Convert train and test scores into a DataFrame\n",
    "score_df = pd.DataFrame({'Train':train_scores.mean(axis=1),\n",
    "                          'Validation':test_scores.mean(axis=1),\n",
    "                          param_name:param_range})\n",
    "\n",
    "# Plot the scores as a function of hyperparameter\n",
    "f, ax = plt.subplots()\n",
    "score_df.set_index(param_name).plot(logx=False, ax=ax)\n",
    "ax.set_ylabel(score_type)\n",
    "plt.show()\n",
    "\n",
    "# It's overfitting even with very small values of n_estimators, \n",
    "# but overfitting even more for larger values\n",
    "\n",
    "### END SOLUTION"
   ]
  },
  {
   "cell_type": "markdown",
   "metadata": {},
   "source": [
    "> **Exercise 4.2**\n",
    "> \n",
    "> As AdaBoost is a boosting algorithm, it is designed to use weak learners. What does this imply for the hyperparameter space you should search over?"
   ]
  },
  {
   "cell_type": "code",
   "execution_count": 22,
   "metadata": {},
   "outputs": [],
   "source": [
    "### BEGIN SOLUTION\n",
    "\n",
    "# The base estimators should be weak, \n",
    "# i.e. uncomplicated, such as Decision Trees with low max depth.\n",
    "\n",
    "### END SOLUTION"
   ]
  },
  {
   "cell_type": "markdown",
   "metadata": {},
   "source": [
    "> **Exercise 4.3 (OPTIONAL)**\n",
    "> \n",
    "> Iterate over the hyperparameter grid given below using `RandomizedSearchCV` with `n_iter = 10`. Are there any new hyperparameters that you haven't seen before? Consider whether you are getting any corner solutions? What does this imply for your hyperparameter search?\n",
    "> \n",
    ">\n",
    "> Note how I specify hyperparameters in the decision tree using `__` twice, first to access `base_estimator` and then the base estimators hyperparameters."
   ]
  },
  {
   "cell_type": "code",
   "execution_count": 23,
   "metadata": {},
   "outputs": [],
   "source": [
    "from sklearn.ensemble import AdaBoostClassifier\n",
    "\n",
    "pipeline = Pipeline([\n",
    "    ('adaboost', AdaBoostClassifier(base_estimator=DecisionTreeClassifier()))\n",
    "])\n",
    "\n",
    "\n",
    "param_grid= [{\n",
    "    'adaboost__n_estimators': [int(x) for x in np.linspace(start = 200, stop = 2000, num = 4)],\n",
    "    'adaboost__learning_rate': [0.01, 0.1, 0.5, 1],\n",
    "    'adaboost__base_estimator__max_depth': [1, 5, 9],\n",
    "    'adaboost__base_estimator__min_samples_split': [2, 5, 9],\n",
    "    'adaboost__base_estimator__min_samples_leaf': [1, 3, 5],\n",
    "    'adaboost__base_estimator__max_leaf_nodes': [2, 5, 9],\n",
    "    } ]\n"
   ]
  },
  {
   "cell_type": "code",
   "execution_count": 24,
   "metadata": {},
   "outputs": [
    {
     "name": "stdout",
     "output_type": "stream",
     "text": [
      "{'adaboost__n_estimators': 2000, 'adaboost__learning_rate': 0.01, 'adaboost__base_estimator__min_samples_split': 9, 'adaboost__base_estimator__min_samples_leaf': 1, 'adaboost__base_estimator__max_leaf_nodes': 9, 'adaboost__base_estimator__max_depth': 1}\n",
      "Vali score 0.853\n",
      "Test score 0.858\n"
     ]
    }
   ],
   "source": [
    "### BEGIN SOLUTION\n",
    "\n",
    "# Introduced max_leaf_nodes to make sure we have weak learners\n",
    "\n",
    "from sklearn.ensemble import AdaBoostClassifier\n",
    "\n",
    "pipeline = Pipeline([\n",
    "    ('adaboost', AdaBoostClassifier(base_estimator=DecisionTreeClassifier()))\n",
    "])\n",
    "\n",
    "score_type = 'accuracy'\n",
    "\n",
    "param_grid= [{\n",
    "    'adaboost__n_estimators': [int(x) for x in np.linspace(start = 200, stop = 2000, num = 4)],\n",
    "    'adaboost__learning_rate': [0.01, 0.1, 0.5, 1],\n",
    "    'adaboost__base_estimator__max_depth': [1, 5, 9],\n",
    "    'adaboost__base_estimator__min_samples_split': [2, 5, 9],\n",
    "    'adaboost__base_estimator__min_samples_leaf': [1, 3, 5],\n",
    "    'adaboost__base_estimator__max_leaf_nodes': [2, 5, 9],\n",
    "    } ]\n",
    "\n",
    "rs = RandomizedSearchCV(estimator=pipeline, \n",
    "                  param_distributions=param_grid, \n",
    "                  scoring=score_type, \n",
    "                  cv=5, \n",
    "                  n_iter = 10,\n",
    "                  n_jobs=-1,\n",
    "                  random_state=73)\n",
    "\n",
    "rs = rs.fit(X_dev, y_dev)\n",
    "print(rs.best_params_)\n",
    "print(f'Vali score {rs.best_score_:.3f}')\n",
    "print(f'Test score {accuracy_score(rs.predict(X_test), y_test):.3f}')\n",
    "\n",
    "### END SOLUTION"
   ]
  },
  {
   "cell_type": "markdown",
   "metadata": {},
   "source": [
    "## Gradient Boosting\n",
    "\n",
    "As a small aside, there exists a subset of boosting models called Gradient Boosting models. These models are very powerful, and you should be aware that they exist. In essence, instead of changing weights of samples, they are trained to minimize the residual. \n",
    "\n",
    "One example from `sklearn` is `GradientBoostingClassifier`, see documentation [here](https://scikit-learn.org/stable/modules/generated/sklearn.ensemble.GradientBoostingClassifier.html) and `HistGradientBoostingClassifier`, see documentation [here](https://scikit-learn.org/stable/modules/generated/sklearn.ensemble.HistGradientBoostingClassifier.html#sklearn.ensemble.HistGradientBoostingClassifier), which also have `Regressor` counterparts. \n",
    "\n",
    "The perhaps most popular is `XGBoost`. It is not implemented in `sklearn`, but it uses the same interface, so the process is exactly the same with `fit` and `predict`. See the documentation [here](https://xgboost.readthedocs.io/en/stable/python/python_intro.html#). The source is Chen, T., & Guestrin, C. (2016, August). Xgboost: A scalable tree boosting system. In Proceedings of the 22nd acm sigkdd international conference on knowledge discovery and data mining (pp. 785-794). \n",
    "\n",
    "Other boosting algorithms are `LightGBM` for efficient training and `CatBoost` for many categorical features."
   ]
  },
  {
   "cell_type": "markdown",
   "metadata": {},
   "source": [
    "# Neural network\n",
    "\n",
    "## A visual inspection of neural networks\n",
    "Instead of diving into code, it's more important that our intuition about what neural networks are doing is as good as possible. The best (and most fun) way to do that is to play around and with things a bit, so go familiarize yourself with the [Tensorflow Playground](https://playground.tensorflow.org/), slide some knobs and pull some levers. The example in the lecture uses the same idea for demonstrating the intuition of neural networks."
   ]
  },
  {
   "cell_type": "markdown",
   "metadata": {},
   "source": [
    "> **Exercise 5.1** \n",
    ">\n",
    "> Using the dataset with the two point clouds, create the minimal neural network that separates the clusters. You can share your answer with a link (the URL on playground.tensorflow.org changes as you update the network, so at any time you can use the link to show others what you have created)."
   ]
  },
  {
   "cell_type": "markdown",
   "metadata": {},
   "source": [
    "[Candidate answer](https://playground.tensorflow.org/#activation=sigmoid&batchSize=10&dataset=gauss&regDataset=reg-plane&learningRate=0.03&regularizationRate=0&noise=0&networkShape=&seed=0.51946&showTestData=false&discretize=false&percTrainData=50&x=true&y=true&xTimesY=false&xSquared=false&ySquared=false&cosX=false&sinX=false&cosY=false&sinY=false&collectStats=false&problem=classification&initZero=false&hideText=false)"
   ]
  },
  {
   "cell_type": "markdown",
   "metadata": {},
   "source": [
    "> **Exercise 5.2** \n",
    "> \n",
    "> Using the dataset with the two circular clusters, one inner and one outer. Create the minimal neural network that separates the clusters."
   ]
  },
  {
   "cell_type": "markdown",
   "metadata": {},
   "source": [
    "[Candidate answer](https://playground.tensorflow.org/#activation=sigmoid&batchSize=10&dataset=circle&regDataset=reg-plane&learningRate=0.03&regularizationRate=0&noise=0&networkShape=3&seed=0.16342&showTestData=false&discretize=false&percTrainData=50&x=true&y=true&xTimesY=false&xSquared=false&ySquared=false&cosX=false&sinX=false&cosY=false&sinY=false&collectStats=false&problem=classification&initZero=false&hideText=false)"
   ]
  },
  {
   "cell_type": "markdown",
   "metadata": {},
   "source": [
    "> **Exercise 5.3 (OPTIONAL)** \n",
    "> \n",
    "> See if you can create a network that performs well on the the dataset with the intertwined spirals. Can you do it with only $x_1$ and $x_2$?\n",
    ">> *Hints*: \n",
    ">>\n",
    ">> Try experimenting with depth of the network, regularization and possibly the activation function"
   ]
  },
  {
   "cell_type": "markdown",
   "metadata": {},
   "source": [
    "[Candidate answer using all features](https://playground.tensorflow.org/#activation=relu&batchSize=10&dataset=spiral&regDataset=reg-plane&learningRate=0.03&regularizationRate=0&noise=0&networkShape=7,7,8&seed=0.64953&showTestData=false&discretize=false&percTrainData=50&x=true&y=true&xTimesY=true&xSquared=true&ySquared=true&cosX=false&sinX=true&cosY=false&sinY=true&collectStats=false&problem=classification&initZero=false&hideText=false) and [candidate answer with vertical/horizontal only](https://playground.tensorflow.org/#activation=relu&regularization=L2&batchSize=10&dataset=spiral&regDataset=reg-plane&learningRate=0.03&regularizationRate=0.001&noise=0&networkShape=8,8,8,8,8&seed=0.65027&showTestData=false&discretize=false&percTrainData=50&x=true&y=true&xTimesY=false&xSquared=false&ySquared=false&cosX=false&sinX=false&cosY=false&sinY=false&collectStats=false&problem=classification&initZero=false&hideText=false)"
   ]
  },
  {
   "cell_type": "markdown",
   "metadata": {},
   "source": [
    "Having now slid some knobs and pulled some levers to get some intuition for how the neural networks operate, we turn to the Multilayer Perceptron in `sklearn`."
   ]
  },
  {
   "cell_type": "markdown",
   "metadata": {},
   "source": [
    "> **Exercise 5.4 (OPTIONAL)**\n",
    "> \n",
    "> Try to create a neural network which performs better than the best model on the test data. You may want to consider looking at different strengths of regularization (`alpha`, perhaps using `np.logspace`) and different amounts of hidden layers and hidden neurons. At this point in time, a just semi-exhaustive search of hyperparameters becomes computationally infeasible, and machine learning turns to art. \n",
    "> \n",
    "> *Note:* It is not given that a neural network performs best for the given problem, and even if the model exists, it may be hard to find the right architecture. I have not succeeded.\n",
    ">\n",
    ">> *Hints:* \n",
    ">>\n",
    ">> It may be time-consuming to do k fold cross validation. Splitting your development data into a train and validation set a single time is also a possibility. Only rule is that you don't use the test data for model selection!"
   ]
  },
  {
   "cell_type": "code",
   "execution_count": 46,
   "metadata": {},
   "outputs": [],
   "source": [
    "### BEGIN SOLUTION\n",
    "\n",
    "X_train, X_val, y_train, y_val = train_test_split(X_dev, y_dev, train_size=0.8, random_state=73)"
   ]
  },
  {
   "cell_type": "code",
   "execution_count": 47,
   "metadata": {},
   "outputs": [
    {
     "data": {
      "text/html": [
       "<div>\n",
       "<style scoped>\n",
       "    .dataframe tbody tr th:only-of-type {\n",
       "        vertical-align: middle;\n",
       "    }\n",
       "\n",
       "    .dataframe tbody tr th {\n",
       "        vertical-align: top;\n",
       "    }\n",
       "\n",
       "    .dataframe thead th {\n",
       "        text-align: right;\n",
       "    }\n",
       "</style>\n",
       "<table border=\"1\" class=\"dataframe\">\n",
       "  <thead>\n",
       "    <tr style=\"text-align: right;\">\n",
       "      <th></th>\n",
       "      <th>lambda</th>\n",
       "      <th>train_mse</th>\n",
       "      <th>val_mse</th>\n",
       "    </tr>\n",
       "  </thead>\n",
       "  <tbody>\n",
       "    <tr>\n",
       "      <th>0</th>\n",
       "      <td>0.000100</td>\n",
       "      <td>0.867857</td>\n",
       "      <td>0.842857</td>\n",
       "    </tr>\n",
       "    <tr>\n",
       "      <th>1</th>\n",
       "      <td>0.000774</td>\n",
       "      <td>0.867857</td>\n",
       "      <td>0.842857</td>\n",
       "    </tr>\n",
       "    <tr>\n",
       "      <th>2</th>\n",
       "      <td>0.005995</td>\n",
       "      <td>0.867857</td>\n",
       "      <td>0.842857</td>\n",
       "    </tr>\n",
       "    <tr>\n",
       "      <th>3</th>\n",
       "      <td>0.046416</td>\n",
       "      <td>0.867857</td>\n",
       "      <td>0.842857</td>\n",
       "    </tr>\n",
       "    <tr>\n",
       "      <th>4</th>\n",
       "      <td>0.359381</td>\n",
       "      <td>0.864286</td>\n",
       "      <td>0.842857</td>\n",
       "    </tr>\n",
       "    <tr>\n",
       "      <th>5</th>\n",
       "      <td>2.782559</td>\n",
       "      <td>0.844643</td>\n",
       "      <td>0.835714</td>\n",
       "    </tr>\n",
       "    <tr>\n",
       "      <th>6</th>\n",
       "      <td>21.544347</td>\n",
       "      <td>0.805357</td>\n",
       "      <td>0.757143</td>\n",
       "    </tr>\n",
       "    <tr>\n",
       "      <th>7</th>\n",
       "      <td>166.810054</td>\n",
       "      <td>0.769643</td>\n",
       "      <td>0.700000</td>\n",
       "    </tr>\n",
       "    <tr>\n",
       "      <th>8</th>\n",
       "      <td>1291.549665</td>\n",
       "      <td>0.769643</td>\n",
       "      <td>0.700000</td>\n",
       "    </tr>\n",
       "    <tr>\n",
       "      <th>9</th>\n",
       "      <td>10000.000000</td>\n",
       "      <td>0.769643</td>\n",
       "      <td>0.700000</td>\n",
       "    </tr>\n",
       "  </tbody>\n",
       "</table>\n",
       "</div>"
      ],
      "text/plain": [
       "         lambda  train_mse   val_mse\n",
       "0      0.000100   0.867857  0.842857\n",
       "1      0.000774   0.867857  0.842857\n",
       "2      0.005995   0.867857  0.842857\n",
       "3      0.046416   0.867857  0.842857\n",
       "4      0.359381   0.864286  0.842857\n",
       "5      2.782559   0.844643  0.835714\n",
       "6     21.544347   0.805357  0.757143\n",
       "7    166.810054   0.769643  0.700000\n",
       "8   1291.549665   0.769643  0.700000\n",
       "9  10000.000000   0.769643  0.700000"
      ]
     },
     "execution_count": 47,
     "metadata": {},
     "output_type": "execute_result"
    }
   ],
   "source": [
    "from sklearn.neural_network import MLPClassifier\n",
    "\n",
    "output_nn = []\n",
    "\n",
    "lambdas = np.logspace(-4, 4, 10)\n",
    "\n",
    "for no, lambda_ in enumerate(lambdas):\n",
    "    pipeline = Pipeline([\n",
    "    ('scaler', StandardScaler()),\n",
    "    ('nn', MLPClassifier(alpha=lambda_, random_state=73))\n",
    "    ])\n",
    "\n",
    "    pipeline.fit(X_train, y_train)\n",
    "\n",
    "    output_nn.append(\n",
    "        [\n",
    "            lambda_,\n",
    "            accuracy_score(pipeline.predict(X_train), y_train),\n",
    "            accuracy_score(pipeline.predict(X_val), y_val),\n",
    "        ]\n",
    "    )\n",
    "\n",
    "scores_nn_1 = pd.DataFrame(output_nn, columns = ['lambda', 'train_mse', 'val_mse'])\n",
    "\n",
    "scores_nn_1"
   ]
  },
  {
   "cell_type": "code",
   "execution_count": 48,
   "metadata": {},
   "outputs": [
    {
     "data": {
      "text/html": [
       "<div>\n",
       "<style scoped>\n",
       "    .dataframe tbody tr th:only-of-type {\n",
       "        vertical-align: middle;\n",
       "    }\n",
       "\n",
       "    .dataframe tbody tr th {\n",
       "        vertical-align: top;\n",
       "    }\n",
       "\n",
       "    .dataframe thead th {\n",
       "        text-align: right;\n",
       "    }\n",
       "</style>\n",
       "<table border=\"1\" class=\"dataframe\">\n",
       "  <thead>\n",
       "    <tr style=\"text-align: right;\">\n",
       "      <th></th>\n",
       "      <th>lambda</th>\n",
       "      <th>train_score</th>\n",
       "      <th>val_score</th>\n",
       "    </tr>\n",
       "  </thead>\n",
       "  <tbody>\n",
       "    <tr>\n",
       "      <th>0</th>\n",
       "      <td>0.000100</td>\n",
       "      <td>0.900000</td>\n",
       "      <td>0.821429</td>\n",
       "    </tr>\n",
       "    <tr>\n",
       "      <th>1</th>\n",
       "      <td>0.000774</td>\n",
       "      <td>0.901786</td>\n",
       "      <td>0.821429</td>\n",
       "    </tr>\n",
       "    <tr>\n",
       "      <th>2</th>\n",
       "      <td>0.005995</td>\n",
       "      <td>0.901786</td>\n",
       "      <td>0.814286</td>\n",
       "    </tr>\n",
       "    <tr>\n",
       "      <th>3</th>\n",
       "      <td>0.046416</td>\n",
       "      <td>0.901786</td>\n",
       "      <td>0.821429</td>\n",
       "    </tr>\n",
       "    <tr>\n",
       "      <th>4</th>\n",
       "      <td>0.359381</td>\n",
       "      <td>0.885714</td>\n",
       "      <td>0.842857</td>\n",
       "    </tr>\n",
       "    <tr>\n",
       "      <th>5</th>\n",
       "      <td>2.782559</td>\n",
       "      <td>0.846429</td>\n",
       "      <td>0.828571</td>\n",
       "    </tr>\n",
       "    <tr>\n",
       "      <th>6</th>\n",
       "      <td>21.544347</td>\n",
       "      <td>0.780357</td>\n",
       "      <td>0.721429</td>\n",
       "    </tr>\n",
       "    <tr>\n",
       "      <th>7</th>\n",
       "      <td>166.810054</td>\n",
       "      <td>0.769643</td>\n",
       "      <td>0.700000</td>\n",
       "    </tr>\n",
       "    <tr>\n",
       "      <th>8</th>\n",
       "      <td>1291.549665</td>\n",
       "      <td>0.769643</td>\n",
       "      <td>0.700000</td>\n",
       "    </tr>\n",
       "    <tr>\n",
       "      <th>9</th>\n",
       "      <td>10000.000000</td>\n",
       "      <td>0.769643</td>\n",
       "      <td>0.700000</td>\n",
       "    </tr>\n",
       "  </tbody>\n",
       "</table>\n",
       "</div>"
      ],
      "text/plain": [
       "         lambda  train_score  val_score\n",
       "0      0.000100     0.900000   0.821429\n",
       "1      0.000774     0.901786   0.821429\n",
       "2      0.005995     0.901786   0.814286\n",
       "3      0.046416     0.901786   0.821429\n",
       "4      0.359381     0.885714   0.842857\n",
       "5      2.782559     0.846429   0.828571\n",
       "6     21.544347     0.780357   0.721429\n",
       "7    166.810054     0.769643   0.700000\n",
       "8   1291.549665     0.769643   0.700000\n",
       "9  10000.000000     0.769643   0.700000"
      ]
     },
     "execution_count": 48,
     "metadata": {},
     "output_type": "execute_result"
    }
   ],
   "source": [
    "output_nn = []\n",
    "\n",
    "lambdas = np.logspace(-4, 4, 10)\n",
    "\n",
    "for no, lambda_ in enumerate(lambdas):\n",
    "    pipeline = Pipeline([\n",
    "    ('scaler', StandardScaler()),\n",
    "    ('nn', MLPClassifier(hidden_layer_sizes = (100,100), alpha=lambda_, random_state=73))\n",
    "    ])\n",
    "\n",
    "    pipeline.fit(X_train, y_train)\n",
    "\n",
    "    output_nn.append(\n",
    "        [\n",
    "            lambda_,\n",
    "            accuracy_score(pipeline.predict(X_train), y_train),\n",
    "            accuracy_score(pipeline.predict(X_val), y_val),\n",
    "        ]\n",
    "    )\n",
    "\n",
    "scores_nn_2 = pd.DataFrame(output_nn, columns = ['lambda', 'train_score', 'val_score'])\n",
    "\n",
    "scores_nn_2"
   ]
  },
  {
   "cell_type": "code",
   "execution_count": 49,
   "metadata": {},
   "outputs": [
    {
     "data": {
      "text/html": [
       "<div>\n",
       "<style scoped>\n",
       "    .dataframe tbody tr th:only-of-type {\n",
       "        vertical-align: middle;\n",
       "    }\n",
       "\n",
       "    .dataframe tbody tr th {\n",
       "        vertical-align: top;\n",
       "    }\n",
       "\n",
       "    .dataframe thead th {\n",
       "        text-align: right;\n",
       "    }\n",
       "</style>\n",
       "<table border=\"1\" class=\"dataframe\">\n",
       "  <thead>\n",
       "    <tr style=\"text-align: right;\">\n",
       "      <th></th>\n",
       "      <th>lambda</th>\n",
       "      <th>train_score</th>\n",
       "      <th>val_score</th>\n",
       "    </tr>\n",
       "  </thead>\n",
       "  <tbody>\n",
       "    <tr>\n",
       "      <th>0</th>\n",
       "      <td>0.000100</td>\n",
       "      <td>0.900000</td>\n",
       "      <td>0.821429</td>\n",
       "    </tr>\n",
       "    <tr>\n",
       "      <th>1</th>\n",
       "      <td>0.000774</td>\n",
       "      <td>0.901786</td>\n",
       "      <td>0.821429</td>\n",
       "    </tr>\n",
       "    <tr>\n",
       "      <th>2</th>\n",
       "      <td>0.005995</td>\n",
       "      <td>0.901786</td>\n",
       "      <td>0.814286</td>\n",
       "    </tr>\n",
       "    <tr>\n",
       "      <th>3</th>\n",
       "      <td>0.046416</td>\n",
       "      <td>0.901786</td>\n",
       "      <td>0.821429</td>\n",
       "    </tr>\n",
       "    <tr>\n",
       "      <th>4</th>\n",
       "      <td>0.359381</td>\n",
       "      <td>0.885714</td>\n",
       "      <td>0.842857</td>\n",
       "    </tr>\n",
       "    <tr>\n",
       "      <th>5</th>\n",
       "      <td>2.782559</td>\n",
       "      <td>0.846429</td>\n",
       "      <td>0.828571</td>\n",
       "    </tr>\n",
       "    <tr>\n",
       "      <th>6</th>\n",
       "      <td>21.544347</td>\n",
       "      <td>0.780357</td>\n",
       "      <td>0.721429</td>\n",
       "    </tr>\n",
       "    <tr>\n",
       "      <th>7</th>\n",
       "      <td>166.810054</td>\n",
       "      <td>0.769643</td>\n",
       "      <td>0.700000</td>\n",
       "    </tr>\n",
       "    <tr>\n",
       "      <th>8</th>\n",
       "      <td>1291.549665</td>\n",
       "      <td>0.769643</td>\n",
       "      <td>0.700000</td>\n",
       "    </tr>\n",
       "    <tr>\n",
       "      <th>9</th>\n",
       "      <td>10000.000000</td>\n",
       "      <td>0.769643</td>\n",
       "      <td>0.700000</td>\n",
       "    </tr>\n",
       "  </tbody>\n",
       "</table>\n",
       "</div>"
      ],
      "text/plain": [
       "         lambda  train_score  val_score\n",
       "0      0.000100     0.900000   0.821429\n",
       "1      0.000774     0.901786   0.821429\n",
       "2      0.005995     0.901786   0.814286\n",
       "3      0.046416     0.901786   0.821429\n",
       "4      0.359381     0.885714   0.842857\n",
       "5      2.782559     0.846429   0.828571\n",
       "6     21.544347     0.780357   0.721429\n",
       "7    166.810054     0.769643   0.700000\n",
       "8   1291.549665     0.769643   0.700000\n",
       "9  10000.000000     0.769643   0.700000"
      ]
     },
     "execution_count": 49,
     "metadata": {},
     "output_type": "execute_result"
    }
   ],
   "source": [
    "output_nn = []\n",
    "\n",
    "lambdas = np.logspace(-4, 4, 10)\n",
    "\n",
    "for no, lambda_ in enumerate(lambdas):\n",
    "    pipeline = Pipeline([\n",
    "    ('scaler', StandardScaler()),\n",
    "    ('nn', MLPClassifier(hidden_layer_sizes = (100,100), alpha=lambda_, activation = 'relu', random_state=73))\n",
    "    ])\n",
    "\n",
    "    pipeline.fit(X_train, y_train)\n",
    "\n",
    "    output_nn.append(\n",
    "        [\n",
    "            lambda_,\n",
    "            accuracy_score(pipeline.predict(X_train), y_train),\n",
    "            accuracy_score(pipeline.predict(X_val), y_val),\n",
    "        ]\n",
    "    )\n",
    "\n",
    "scores_nn_3 = pd.DataFrame(output_nn, columns = ['lambda', 'train_score', 'val_score'])\n",
    "\n",
    "scores_nn_3"
   ]
  },
  {
   "cell_type": "code",
   "execution_count": 50,
   "metadata": {},
   "outputs": [
    {
     "data": {
      "text/html": [
       "<div>\n",
       "<style scoped>\n",
       "    .dataframe tbody tr th:only-of-type {\n",
       "        vertical-align: middle;\n",
       "    }\n",
       "\n",
       "    .dataframe tbody tr th {\n",
       "        vertical-align: top;\n",
       "    }\n",
       "\n",
       "    .dataframe thead th {\n",
       "        text-align: right;\n",
       "    }\n",
       "</style>\n",
       "<table border=\"1\" class=\"dataframe\">\n",
       "  <thead>\n",
       "    <tr style=\"text-align: right;\">\n",
       "      <th></th>\n",
       "      <th>lambda</th>\n",
       "      <th>train_score</th>\n",
       "      <th>val_score</th>\n",
       "    </tr>\n",
       "  </thead>\n",
       "  <tbody>\n",
       "    <tr>\n",
       "      <th>0</th>\n",
       "      <td>0.000100</td>\n",
       "      <td>0.892857</td>\n",
       "      <td>0.835714</td>\n",
       "    </tr>\n",
       "    <tr>\n",
       "      <th>1</th>\n",
       "      <td>0.000774</td>\n",
       "      <td>0.891071</td>\n",
       "      <td>0.835714</td>\n",
       "    </tr>\n",
       "    <tr>\n",
       "      <th>2</th>\n",
       "      <td>0.005995</td>\n",
       "      <td>0.891071</td>\n",
       "      <td>0.835714</td>\n",
       "    </tr>\n",
       "    <tr>\n",
       "      <th>3</th>\n",
       "      <td>0.046416</td>\n",
       "      <td>0.887500</td>\n",
       "      <td>0.835714</td>\n",
       "    </tr>\n",
       "    <tr>\n",
       "      <th>4</th>\n",
       "      <td>0.359381</td>\n",
       "      <td>0.876786</td>\n",
       "      <td>0.842857</td>\n",
       "    </tr>\n",
       "    <tr>\n",
       "      <th>5</th>\n",
       "      <td>2.782559</td>\n",
       "      <td>0.844643</td>\n",
       "      <td>0.835714</td>\n",
       "    </tr>\n",
       "    <tr>\n",
       "      <th>6</th>\n",
       "      <td>21.544347</td>\n",
       "      <td>0.807143</td>\n",
       "      <td>0.757143</td>\n",
       "    </tr>\n",
       "    <tr>\n",
       "      <th>7</th>\n",
       "      <td>166.810054</td>\n",
       "      <td>0.769643</td>\n",
       "      <td>0.700000</td>\n",
       "    </tr>\n",
       "    <tr>\n",
       "      <th>8</th>\n",
       "      <td>1291.549665</td>\n",
       "      <td>0.769643</td>\n",
       "      <td>0.700000</td>\n",
       "    </tr>\n",
       "    <tr>\n",
       "      <th>9</th>\n",
       "      <td>10000.000000</td>\n",
       "      <td>0.769643</td>\n",
       "      <td>0.700000</td>\n",
       "    </tr>\n",
       "  </tbody>\n",
       "</table>\n",
       "</div>"
      ],
      "text/plain": [
       "         lambda  train_score  val_score\n",
       "0      0.000100     0.892857   0.835714\n",
       "1      0.000774     0.891071   0.835714\n",
       "2      0.005995     0.891071   0.835714\n",
       "3      0.046416     0.887500   0.835714\n",
       "4      0.359381     0.876786   0.842857\n",
       "5      2.782559     0.844643   0.835714\n",
       "6     21.544347     0.807143   0.757143\n",
       "7    166.810054     0.769643   0.700000\n",
       "8   1291.549665     0.769643   0.700000\n",
       "9  10000.000000     0.769643   0.700000"
      ]
     },
     "execution_count": 50,
     "metadata": {},
     "output_type": "execute_result"
    }
   ],
   "source": [
    "output_nn = []\n",
    "\n",
    "lambdas = np.logspace(-4, 4, 10)\n",
    "\n",
    "for no, lambda_ in enumerate(lambdas):\n",
    "    pipeline = Pipeline([\n",
    "    ('scaler', StandardScaler()),\n",
    "    ('nn', MLPClassifier(hidden_layer_sizes = (1000,), alpha=lambda_, activation = 'relu', random_state=73 ))\n",
    "    ])\n",
    "\n",
    "    pipeline.fit(X_train, y_train)\n",
    "\n",
    "    output_nn.append(\n",
    "        [\n",
    "            lambda_,\n",
    "            accuracy_score(pipeline.predict(X_train), y_train),\n",
    "            accuracy_score(pipeline.predict(X_val), y_val),\n",
    "        ]\n",
    "    )\n",
    "\n",
    "scores_nn_4 = pd.DataFrame(output_nn, columns = ['lambda', 'train_score', 'val_score'])\n",
    "\n",
    "scores_nn_4"
   ]
  },
  {
   "cell_type": "code",
   "execution_count": 51,
   "metadata": {},
   "outputs": [
    {
     "name": "stdout",
     "output_type": "stream",
     "text": [
      "Test score 0.812\n"
     ]
    }
   ],
   "source": [
    "best_param = scores_nn_2.iloc[scores_nn_2['val_score'].idxmax()]['lambda']\n",
    "\n",
    "pipeline = Pipeline([\n",
    "    ('scaler', StandardScaler()),\n",
    "    ('nn', MLPClassifier(hidden_layer_sizes = (100,100), alpha=best_param, random_state=73))\n",
    "])\n",
    "\n",
    "pipeline.fit(X_dev, y_dev)\n",
    "print(f'Test score {accuracy_score(pipeline.predict(X_test), y_test):.3f}')\n",
    "\n",
    "# The neural networks failed to generalize very well on the test set. \n",
    "# Might have something to do with the validation split, which is why we usually use k fold\n",
    "# as it seems that it is obtaining the same accuracy in many situations,\n",
    "# i.e. succesfully predicting the same observations with different architectures\n",
    "\n",
    "### END SOLUTION"
   ]
  }
 ],
 "metadata": {
  "kernelspec": {
   "display_name": "Python 3.10.4 ('vive_env')",
   "language": "python",
   "name": "python3"
  },
  "language_info": {
   "codemirror_mode": {
    "name": "ipython",
    "version": 3
   },
   "file_extension": ".py",
   "mimetype": "text/x-python",
   "name": "python",
   "nbconvert_exporter": "python",
   "pygments_lexer": "ipython3",
   "version": "3.10.4"
  },
  "toc": {
   "base_numbering": 1,
   "nav_menu": {},
   "number_sections": true,
   "sideBar": true,
   "skip_h1_title": false,
   "title_cell": "Table of Contents",
   "title_sidebar": "Contents",
   "toc_cell": false,
   "toc_position": {},
   "toc_section_display": true,
   "toc_window_display": false
  },
  "varInspector": {
   "cols": {
    "lenName": 16,
    "lenType": 16,
    "lenVar": 40
   },
   "kernels_config": {
    "python": {
     "delete_cmd_postfix": "",
     "delete_cmd_prefix": "del ",
     "library": "var_list.py",
     "varRefreshCmd": "print(var_dic_list())"
    },
    "r": {
     "delete_cmd_postfix": ") ",
     "delete_cmd_prefix": "rm(",
     "library": "var_list.r",
     "varRefreshCmd": "cat(var_dic_list()) "
    }
   },
   "types_to_exclude": [
    "module",
    "function",
    "builtin_function_or_method",
    "instance",
    "_Feature"
   ],
   "window_display": false
  },
  "vscode": {
   "interpreter": {
    "hash": "50f1b660881291c5d31ad4d40c48915b3ef9364cc881d538585b11a7eb841304"
   }
  }
 },
 "nbformat": 4,
 "nbformat_minor": 4
}
