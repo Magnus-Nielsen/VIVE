{
 "cells": [
  {
   "attachments": {},
   "cell_type": "markdown",
   "metadata": {},
   "source": [
    "# Exercise Set 7: Fairness\n",
    "\n",
    "In this exercise set, we will be looking at fairness. \n",
    "\n",
    "We first look at fairness with models, focusing first on how to examine a model in relation to fairness criteria (assesment), and then how to post-process a model to make it more fair according to a specific criteria (mitigation). \n",
    "\n",
    "After this we look at admission to Berkeley, a classic example demonstrating a fairness analysis with only historical data and no model."
   ]
  },
  {
   "attachments": {},
   "cell_type": "markdown",
   "metadata": {},
   "source": [
    "## Fairness with models\n",
    "\n",
    "In this exercise we will utilize the same dataset as in session 4, Supervised Learning, but this time we will be using the full dataset. The dataset is about classification of high income people, namely the [Census Income Data Set from the UCI Machine Learning Repository](https://archive.ics.uci.edu/ml/datasets/Census+Income).\n",
    "\n",
    "A large part of these exercises will be dedicated to getting familiar with [fairlearn](https://fairlearn.org/v0.8/user_guide/index.html), which is a package that makes working with fair machine learning easier. In addition to documenting their code, they also have a large amount of examples and text regarding fairness in machine learning in their User Guide.\n",
    "\n",
    "\n",
    "> **Exercise 1.1**\n",
    ">\n",
    "> Based on the code below, what is $Y, X, A$ using the terminology from the lecture? Is $A$ part of $X$, which we will build our model on? If yes, is this required?"
   ]
  },
  {
   "cell_type": "code",
   "execution_count": 1,
   "metadata": {},
   "outputs": [
    {
     "name": "stdout",
     "output_type": "stream",
     "text": [
      "**Author**: Ronny Kohavi and Barry Becker  \n",
      "**Source**: [UCI](https://archive.ics.uci.edu/ml/datasets/Adult) - 1996  \n",
      "**Please cite**: Ron Kohavi, \"Scaling Up the Accuracy of Naive-Bayes Classifiers: a Decision-Tree Hybrid\", Proceedings of the Second International Conference on Knowledge Discovery and Data Mining, 1996  \n",
      "\n",
      "Prediction task is to determine whether a person makes over 50K a year. Extraction was done by Barry Becker from the 1994 Census database. A set of reasonably clean records was extracted using the following conditions: ((AAGE>16) && (AGI>100) && (AFNLWGT>1)&& (HRSWK>0))\n",
      "\n",
      "This is the original version from the UCI repository, with training and test sets merged.\n",
      "\n",
      "### Variable description\n",
      "\n",
      "Variables are all self-explanatory except __fnlwgt__. This is a proxy for the demographic background of the people: \"People with similar demographic characteristics should have similar weights\". This similarity-statement is not transferable across the 51 different states.\n",
      "\n",
      "Description from the donor of the database: \n",
      "\n",
      "The weights on the CPS files are controlled to independent estimates of the civilian noninstitutional population of the US.  These are prepared monthly for us by Population Division here at the Census Bureau. We use 3 sets of controls. These are:\n",
      "1.  A single cell estimate of the population 16+ for each state.\n",
      "2.  Controls for Hispanic Origin by age and sex.\n",
      "3.  Controls by Race, age and sex.\n",
      "\n",
      "We use all three sets of controls in our weighting program and \"rake\" through them 6 times so that by the end we come back to all the controls we used. The term estimate refers to population totals derived from CPS by creating \"weighted tallies\" of any specified socio-economic characteristics of the population. People with similar demographic characteristics should have similar weights. There is one important caveat to remember about this statement. That is that since the CPS sample is actually a collection of 51 state samples, each with its own probability of selection, the statement only applies within state.\n",
      "\n",
      "\n",
      "### Relevant papers  \n",
      "\n",
      "Ronny Kohavi and Barry Becker. Data Mining and Visualization, Silicon Graphics.  \n",
      "e-mail: ronnyk '@' live.com for questions.\n",
      "\n",
      "Downloaded from openml.org.\n"
     ]
    }
   ],
   "source": [
    "# Load packages\n",
    "import numpy as np\n",
    "import pandas as pd\n",
    "import matplotlib.pyplot as plt\n",
    "from fairlearn.datasets import fetch_adult\n",
    "\n",
    "# Load data\n",
    "data = fetch_adult(as_frame=True)\n",
    "X = pd.get_dummies(data.data)\n",
    "y_true = (data.target == '>50K') * 1\n",
    "sex = data.data['sex']\n",
    "\n",
    "# Print data description\n",
    "print(data.DESCR)"
   ]
  },
  {
   "cell_type": "code",
   "execution_count": 2,
   "metadata": {},
   "outputs": [
    {
     "data": {
      "text/plain": [
       "Index(['age', 'workclass', 'fnlwgt', 'education', 'education-num',\n",
       "       'marital-status', 'occupation', 'relationship', 'race', 'sex',\n",
       "       'capital-gain', 'capital-loss', 'hours-per-week', 'native-country'],\n",
       "      dtype='object')"
      ]
     },
     "execution_count": 2,
     "metadata": {},
     "output_type": "execute_result"
    }
   ],
   "source": [
    "data.data.columns"
   ]
  },
  {
   "cell_type": "code",
   "execution_count": 3,
   "metadata": {},
   "outputs": [
    {
     "name": "stdout",
     "output_type": "stream",
     "text": [
      "Target value counts\n",
      "0    37155\n",
      "1    11687\n",
      "Name: class, dtype: int64\n",
      "\n",
      "Sex value counts\n",
      "Male      32650\n",
      "Female    16192\n",
      "Name: sex, dtype: int64\n"
     ]
    }
   ],
   "source": [
    "print('Target value counts')\n",
    "print(y_true.value_counts())\n",
    "print()\n",
    "print('Sex value counts')\n",
    "print(sex.value_counts())"
   ]
  },
  {
   "attachments": {},
   "cell_type": "markdown",
   "metadata": {},
   "source": [
    "> **Exercise 1.2**\n",
    "> \n",
    "> We will first create a model to analyze. Create a Decision Tree Classifier with `max_depth=5` and `min_samples_split=50` and fit it on the data. On the basis of this model, predict the outcomes for the same data. "
   ]
  },
  {
   "cell_type": "code",
   "execution_count": null,
   "metadata": {},
   "outputs": [],
   "source": [
    "# YOUR CODE"
   ]
  },
  {
   "attachments": {},
   "cell_type": "markdown",
   "metadata": {},
   "source": [
    "A large part of fairness assesment is looking at metrics across sensitive features. To aid in this, `fairlearn` has a concept which is called a `MetricFrame`, which aids in this.\n",
    "\n",
    "We will start with perhaps the most basic fairness assesment, looking at performance differences across a metric.\n",
    "\n",
    "> **Exercise 1.3**\n",
    ">\n",
    "> Create a `MetricFrame` with the metric `accuracy_score` you know from `sklearn.metrics`\n",
    ">>*Hints:*\n",
    ">> \n",
    ">> [The API Docs](https://fairlearn.org/main/api_reference/index.html) are available online and support searching!\n",
    ">>\n",
    ">> Creating the `MetricFrame` itself won't return any output"
   ]
  },
  {
   "cell_type": "code",
   "execution_count": null,
   "metadata": {},
   "outputs": [],
   "source": [
    "# YOUR CODE"
   ]
  },
  {
   "attachments": {},
   "cell_type": "markdown",
   "metadata": {},
   "source": [
    "### Assesment\n",
    "\n",
    "It's nice to work with the `MetricFrame` because it lets us look at performance across the sensitive attribute quickly.\n",
    "\n",
    "> **Exercise 1.4**\n",
    ">\n",
    "> Report the overall accuracy and accuracy by group. Does the model perform equally well across sex?\n",
    "> \n",
    ">>*Hints:*\n",
    ">> \n",
    ">> [The API Docs](https://fairlearn.org/main/api_reference/index.html) are available online and support searching!\n",
    ">>\n",
    ">> The `MetricFrame` has some useful methods"
   ]
  },
  {
   "cell_type": "code",
   "execution_count": null,
   "metadata": {},
   "outputs": [],
   "source": [
    "# YOUR CODE"
   ]
  },
  {
   "attachments": {},
   "cell_type": "markdown",
   "metadata": {},
   "source": [
    "Having now looked at accuracy across sex, we want to move closer to the fairness criteria independence and separation.\n",
    "\n",
    "> **Exercise 1.5**\n",
    ">\n",
    "> In addition to the accuracy score, you should now also include the selection rate, false positive rate and false negative rate in your `MetricFrame`. Report them overall and across sex.\n",
    ">\n",
    "> Does the model satisfy independence, separation or both? Was this expected?\n",
    "> \n",
    ">>*Hints:*\n",
    ">> \n",
    ">> [The API Docs](https://fairlearn.org/main/api_reference/index.html) are available online and support searching!\n",
    ">>\n",
    ">> You can input a dictionary where the keys are names and the values are metrics to the `MetricFrame`\n",
    ">>\n",
    ">> All three metrics are available in `fairlearn.metrics`"
   ]
  },
  {
   "cell_type": "code",
   "execution_count": null,
   "metadata": {},
   "outputs": [],
   "source": [
    "# YOUR CODE"
   ]
  },
  {
   "attachments": {},
   "cell_type": "markdown",
   "metadata": {},
   "source": [
    "When reporting multiple metrics, it can sometimes become hard to maintain an overview of the differences and ratios across the sensitive attribute, but luckily `MetricFrame` can help us with this.\n",
    "\n",
    "> **Exercise 1.5**\n",
    ">\n",
    ">  Report the absolute differences and ratios across sex across the sensitive feature.\n",
    "> \n",
    ">>*Hints:*\n",
    ">> \n",
    ">> [The API Docs](https://fairlearn.org/main/api_reference/index.html) are available online and support searching!\n",
    ">>\n",
    ">> The `MetricFrame` has some useful methods"
   ]
  },
  {
   "cell_type": "code",
   "execution_count": null,
   "metadata": {},
   "outputs": [],
   "source": [
    "# YOUR CODE"
   ]
  },
  {
   "attachments": {},
   "cell_type": "markdown",
   "metadata": {},
   "source": [
    "However, many people find figures nicer to look at than numbers. Let's create one!\n",
    "\n",
    "> **Exercise 1.6**\n",
    ">\n",
    ">  Create a bar plot of the different metrics across sex.\n",
    "> \n",
    ">>*Hints:*\n",
    ">> \n",
    ">> [The API Docs](https://fairlearn.org/main/api_reference/index.html) are available online and support searching!\n",
    ">>\n",
    ">> The `MetricFrame.by_group` is a `DataFrame`, which means it support bar plots through `plot.bar`.\n",
    ">>\n",
    ">> To achieve a nicer bar plot, you can try changing the following keywords: `subplots`, `layout`, `legend`, `figsize` and `title`"
   ]
  },
  {
   "cell_type": "code",
   "execution_count": null,
   "metadata": {},
   "outputs": [],
   "source": [
    "# YOUR CODE"
   ]
  },
  {
   "attachments": {},
   "cell_type": "markdown",
   "metadata": {},
   "source": [
    "### Mitigation\n",
    "\n",
    "To mitigate fairness concerns, we will utilize the `ThresholdOptimizer` in `fairlearn.postprocessing`, which is based on [Hardt, M., Price, E., & Srebro, N. (2016). Equality of opportunity in supervised learning. Advances in neural information processing systems, 29.](https://proceedings.neurips.cc/paper/2016/file/9d2682367c3935defcb1f9e247a97c0d-Paper.pdf). The idea is the one we discussed during the lecture: Using a combination of different thresholds and random classifiers, different fairness criteria can be satisfied, but for more information you should read the paper!\n",
    "\n",
    "> **Exercise 1.7**\n",
    ">\n",
    ">  Post-process the classifier we have created to satisfy demographic parity whilst optimizing accuracy.\n",
    "> \n",
    ">>*Hints:*\n",
    ">> \n",
    ">> [The API Docs](https://fairlearn.org/main/api_reference/index.html) are available online and support searching!\n",
    ">>\n",
    ">> The `fairlearn` follows the `sklearn` syntax with `.fit` and `.predict`"
   ]
  },
  {
   "cell_type": "code",
   "execution_count": null,
   "metadata": {},
   "outputs": [],
   "source": [
    "# YOUR CODE"
   ]
  },
  {
   "attachments": {},
   "cell_type": "markdown",
   "metadata": {},
   "source": [
    "> **Exercise 1.6**\n",
    ">\n",
    ">  Examine the metrics of the post-processed classifier. Does it satisfy independence, and at what selection rate? Has it influenced any of the other metrics? Why is this?\n",
    "> \n",
    ">>*Hints:*\n",
    ">> \n",
    ">> [The API Docs](https://fairlearn.org/main/api_reference/index.html) are available online and support searching!\n",
    ">>\n",
    ">> Use any method of vizualising metrics across groups that you like"
   ]
  },
  {
   "cell_type": "code",
   "execution_count": null,
   "metadata": {},
   "outputs": [],
   "source": [
    "# YOUR CODE"
   ]
  },
  {
   "attachments": {},
   "cell_type": "markdown",
   "metadata": {},
   "source": [
    "> **Exercise 1.7**\n",
    ">\n",
    ">  Repeat the two previous exercises, but now satisfying separation.\n",
    "> \n",
    ">>*Hints:*\n",
    ">> \n",
    ">> [The API Docs](https://fairlearn.org/main/api_reference/index.html) are available online and support searching!\n",
    ">>\n",
    ">> separation is also sometimes known as equalized odds."
   ]
  },
  {
   "cell_type": "code",
   "execution_count": null,
   "metadata": {},
   "outputs": [],
   "source": [
    "# YOUR CODE"
   ]
  },
  {
   "attachments": {},
   "cell_type": "markdown",
   "metadata": {},
   "source": [
    "This ends our voyage with `fairlearn`, but note that `fairlearn` also has implementations of [reduction algorithms](https://fairlearn.org/v0.8/user_guide/mitigation.html#reductions) (which support more fairness constraints and regression fairness) and [intersectionality and control features](https://fairlearn.org/v0.8/user_guide/assessment/intersecting_groups.html)."
   ]
  },
  {
   "attachments": {},
   "cell_type": "markdown",
   "metadata": {},
   "source": [
    "##  Fairness without models"
   ]
  },
  {
   "attachments": {},
   "cell_type": "markdown",
   "metadata": {},
   "source": [
    "Sometimes you do not have access to the full modelling process, and merely have observed outcomes. A such example is given the `Berkeley_Admissions_Data.csv` dataset, which is a three-way table that presents admissions data at the University of California, Berkeley in 1973 according to the variables department (A, B, C, D, E, F), gender (male, female), and outcome (admitted, denied) encoded as Yes and No. In this case, we can still assess fairness in some ways.\n",
    "\n",
    "The exercise is inspired by a similar exercise by my colleague [Roberta Sinatra](https://www.robertasinatra.com/), who also supplied the data, and is based on the original paper [Bickel, P. J., Hammel, E. A., & O'Connell, J. W. (1975). Sex Bias in Graduate Admissions: Data from Berkeley: Measuring bias is harder than is usually assumed, and the evidence is sometimes contrary to expectation. Science, 187(4175), 398-404.](https://homepage.stat.uiowa.edu/~mbognar/1030/Bickel-Berkeley.pdf).\n",
    "\n",
    "> **Exercise 2.1**\n",
    ">\n",
    ">  Load and look at the dataset\n",
    "> \n",
    ">>*Hints:*\n",
    ">> \n",
    ">> `pandas` supports reading many file types."
   ]
  },
  {
   "cell_type": "code",
   "execution_count": 4,
   "metadata": {},
   "outputs": [
    {
     "data": {
      "text/html": [
       "<div>\n",
       "<style scoped>\n",
       "    .dataframe tbody tr th:only-of-type {\n",
       "        vertical-align: middle;\n",
       "    }\n",
       "\n",
       "    .dataframe tbody tr th {\n",
       "        vertical-align: top;\n",
       "    }\n",
       "\n",
       "    .dataframe thead th {\n",
       "        text-align: right;\n",
       "    }\n",
       "</style>\n",
       "<table border=\"1\" class=\"dataframe\">\n",
       "  <thead>\n",
       "    <tr style=\"text-align: right;\">\n",
       "      <th></th>\n",
       "      <th>Dept</th>\n",
       "      <th>Male Yes</th>\n",
       "      <th>Male No</th>\n",
       "      <th>Female Yes</th>\n",
       "      <th>Female No</th>\n",
       "    </tr>\n",
       "  </thead>\n",
       "  <tbody>\n",
       "    <tr>\n",
       "      <th>0</th>\n",
       "      <td>A</td>\n",
       "      <td>512</td>\n",
       "      <td>313</td>\n",
       "      <td>89</td>\n",
       "      <td>19</td>\n",
       "    </tr>\n",
       "    <tr>\n",
       "      <th>1</th>\n",
       "      <td>B</td>\n",
       "      <td>313</td>\n",
       "      <td>207</td>\n",
       "      <td>17</td>\n",
       "      <td>8</td>\n",
       "    </tr>\n",
       "    <tr>\n",
       "      <th>2</th>\n",
       "      <td>C</td>\n",
       "      <td>120</td>\n",
       "      <td>205</td>\n",
       "      <td>202</td>\n",
       "      <td>391</td>\n",
       "    </tr>\n",
       "    <tr>\n",
       "      <th>3</th>\n",
       "      <td>D</td>\n",
       "      <td>138</td>\n",
       "      <td>279</td>\n",
       "      <td>131</td>\n",
       "      <td>244</td>\n",
       "    </tr>\n",
       "    <tr>\n",
       "      <th>4</th>\n",
       "      <td>E</td>\n",
       "      <td>53</td>\n",
       "      <td>138</td>\n",
       "      <td>94</td>\n",
       "      <td>299</td>\n",
       "    </tr>\n",
       "    <tr>\n",
       "      <th>5</th>\n",
       "      <td>F</td>\n",
       "      <td>22</td>\n",
       "      <td>351</td>\n",
       "      <td>24</td>\n",
       "      <td>317</td>\n",
       "    </tr>\n",
       "    <tr>\n",
       "      <th>6</th>\n",
       "      <td>All</td>\n",
       "      <td>1158</td>\n",
       "      <td>1493</td>\n",
       "      <td>557</td>\n",
       "      <td>1278</td>\n",
       "    </tr>\n",
       "  </tbody>\n",
       "</table>\n",
       "</div>"
      ],
      "text/plain": [
       "  Dept  Male Yes  Male No  Female Yes  Female No\n",
       "0    A       512      313          89         19\n",
       "1    B       313      207          17          8\n",
       "2    C       120      205         202        391\n",
       "3    D       138      279         131        244\n",
       "4    E        53      138          94        299\n",
       "5    F        22      351          24        317\n",
       "6  All      1158     1493         557       1278"
      ]
     },
     "execution_count": 4,
     "metadata": {},
     "output_type": "execute_result"
    }
   ],
   "source": [
    "df = pd.read_csv(\"Berkeley_Admissions_Data.csv\")\n",
    "df"
   ]
  },
  {
   "attachments": {},
   "cell_type": "markdown",
   "metadata": {},
   "source": [
    "> **Exercise 2.2**\n",
    "> \n",
    "> Focusing on Berkeley overall, did their admissions suffer from gender bias?\n",
    "> \n",
    "> Hints: \n",
    ">> Subset the row pertaining to all departments\n",
    ">>\n",
    ">> What fairness metrics can you calculate with the given information?\n",
    ">>\n",
    ">> The code snippet `df[\"new_col\"] = df.apply(lambda x: x[\"col1\"] + x[\"col2\"], axis = 1)` creates a new column called `new_col` which is adds together `x[\"col1\"] + x[\"col2\"]`, which can also be used in combinations with other common operators such as `/`, `-` and `*`. There's an example in exercise 2.3 and code for a plot\n",
    ">>\n",
    ">> "
   ]
  },
  {
   "cell_type": "code",
   "execution_count": null,
   "metadata": {},
   "outputs": [],
   "source": [
    "# YOUR CODE"
   ]
  },
  {
   "attachments": {},
   "cell_type": "markdown",
   "metadata": {},
   "source": [
    "> **Exercise 2.3**\n",
    "> \n",
    "> Now perform a similar analysis within each department. Do you maintain your conclusion from exercise 2.2?\n",
    "> \n",
    "> Hints: \n",
    ">> Subsets the rows pertaining to each of the department\n",
    ">>\n",
    ">> The code beneath creates a plot with amount of applicants per department. Perhaps this code could be amended to create other plots, or aid in a discussion.\n",
    ">>\n",
    ">> Do you find any evidence of [Simpson's paradox](https://en.wikipedia.org/wiki/Simpson%27s_paradox)?\n"
   ]
  },
  {
   "cell_type": "code",
   "execution_count": 5,
   "metadata": {},
   "outputs": [
    {
     "data": {
      "image/png": "[encoded data removed]",
      "text/plain": [
       "<Figure size 1000x600 with 1 Axes>"
      ]
     },
     "metadata": {},
     "output_type": "display_data"
    }
   ],
   "source": [
    "# Calculate amount\n",
    "df[\"M_num\"] = df.apply(lambda x: x[\"Male Yes\"] + x[\"Male No\"], axis = 1)\n",
    "df[\"F_num\"] = df.apply(lambda x: x[\"Female Yes\"] + x[\"Female No\"], axis = 1)\n",
    "\n",
    "# Barplot for first six rows (.iloc[0:6])\n",
    "fig, ax = plt.subplots(figsize=(10,6))\n",
    "df[[\"M_num\", \"F_num\"]].iloc[0:6].plot.bar(title=\"Number of applicants per department\", \n",
    "                                                      rot=0, ylabel=\"Number of applicants\", xlabel=\"Departments\", ax=ax)\n",
    "ax.set_xticklabels([\"A\", \"B\", \"C\", \"D\", \"E\", \"F\"])\n",
    "ax.legend([\"Male\", \"Female\"])\n",
    "plt.show()"
   ]
  },
  {
   "cell_type": "code",
   "execution_count": null,
   "metadata": {},
   "outputs": [],
   "source": [
    "# YOUR CODE"
   ]
  }
 ],
 "metadata": {
  "kernelspec": {
   "display_name": "Python 3.10.4 ('vive_env')",
   "language": "python",
   "name": "python3"
  },
  "language_info": {
   "codemirror_mode": {
    "name": "ipython",
    "version": 3
   },
   "file_extension": ".py",
   "mimetype": "text/x-python",
   "name": "python",
   "nbconvert_exporter": "python",
   "pygments_lexer": "ipython3",
   "version": "3.10.4"
  },
  "toc": {
   "base_numbering": 1,
   "nav_menu": {},
   "number_sections": true,
   "sideBar": true,
   "skip_h1_title": false,
   "title_cell": "Table of Contents",
   "title_sidebar": "Contents",
   "toc_cell": false,
   "toc_position": {},
   "toc_section_display": true,
   "toc_window_display": false
  },
  "varInspector": {
   "cols": {
    "lenName": 16,
    "lenType": 16,
    "lenVar": 40
   },
   "kernels_config": {
    "python": {
     "delete_cmd_postfix": "",
     "delete_cmd_prefix": "del ",
     "library": "var_list.py",
     "varRefreshCmd": "print(var_dic_list())"
    },
    "r": {
     "delete_cmd_postfix": ") ",
     "delete_cmd_prefix": "rm(",
     "library": "var_list.r",
     "varRefreshCmd": "cat(var_dic_list()) "
    }
   },
   "types_to_exclude": [
    "module",
    "function",
    "builtin_function_or_method",
    "instance",
    "_Feature"
   ],
   "window_display": false
  },
  "vscode": {
   "interpreter": {
    "hash": "50f1b660881291c5d31ad4d40c48915b3ef9364cc881d538585b11a7eb841304"
   }
  }
 },
 "nbformat": 4,
 "nbformat_minor": 4
}
